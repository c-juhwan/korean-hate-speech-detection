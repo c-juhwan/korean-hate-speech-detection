{
 "metadata": {
  "language_info": {
   "codemirror_mode": {
    "name": "ipython",
    "version": 3
   },
   "file_extension": ".py",
   "mimetype": "text/x-python",
   "name": "python",
   "nbconvert_exporter": "python",
   "pygments_lexer": "ipython3",
   "version": "3.8.8-final"
  },
  "orig_nbformat": 2,
  "kernelspec": {
   "name": "python388jvsc74a57bd03e5722b678611390efb691cd042b19d6a1c84033434cef78dfdb8ed3093fccda",
   "display_name": "Python 3.8.8 64-bit"
  }
 },
 "nbformat": 4,
 "nbformat_minor": 2,
 "cells": [
  {
   "source": [
    "# Korean Hate Speech Detection\n",
    "\n",
    "From Kaggle competition: https://www.kaggle.com/c/korean-hate-speech-detection"
   ],
   "cell_type": "markdown",
   "metadata": {}
  },
  {
   "source": [
    "## 0. Import Required Libraries"
   ],
   "cell_type": "markdown",
   "metadata": {}
  },
  {
   "cell_type": "code",
   "execution_count": 1,
   "metadata": {},
   "outputs": [],
   "source": [
    "import numpy as np\n",
    "import pandas as pd"
   ]
  },
  {
   "source": [
    "## 1. Check Data"
   ],
   "cell_type": "markdown",
   "metadata": {}
  },
  {
   "cell_type": "code",
   "execution_count": 4,
   "metadata": {},
   "outputs": [],
   "source": [
    "df_train = pd.read_csv('./dataset/train.hate.csv')\n",
    "df_validation = pd.read_csv('./dataset/dev.hate.csv')\n",
    "df_test = pd.read_csv('./dataset/test.hate.no_label.csv')"
   ]
  },
  {
   "cell_type": "code",
   "execution_count": 11,
   "metadata": {},
   "outputs": [
    {
     "output_type": "execute_result",
     "data": {
      "text/plain": [
       "                                              comments\n",
       "0         ㅋㅋㅋㅋ 그래도 조아해주는 팬들 많아서 좋겠다 ㅠㅠ 니들은 온유가 안만져줌 ㅠㅠ\n",
       "1                                        둘다 넘 좋다~행복하세요\n",
       "2                 근데 만원이하는 현금결제만 하라고 써놓은집 우리나라에 엄청 많은데\n",
       "3                원곡생각하나도 안나고 러블리즈 신곡나온줄!!! 너무 예쁘게 잘봤어요\n",
       "4                                   장현승 얘도 참 이젠 짠하다...\n",
       "..                                                 ...\n",
       "969                     대박 게스트... 꼭 봐야징~ 컨셉이 바뀌니깐 재미지넹\n",
       "970  성형으로 다 뜯어고쳐놓고 예쁜척. 성형 전 니 얼굴 다 알고있다. 순자처럼 된장냄새...\n",
       "971  분위기는 비슷하다만 전혀다른 전개던데 무슨ㅋㅋㄱ 우리나라사람들은 분위기만 비슷하면 ...\n",
       "972                               입에 손가릭이 10개 있으니 징그럽다\n",
       "973                              난 조보아 이뻐서 보는데 백종원 관심무\n",
       "\n",
       "[974 rows x 1 columns]"
      ],
      "text/html": "<div>\n<style scoped>\n    .dataframe tbody tr th:only-of-type {\n        vertical-align: middle;\n    }\n\n    .dataframe tbody tr th {\n        vertical-align: top;\n    }\n\n    .dataframe thead th {\n        text-align: right;\n    }\n</style>\n<table border=\"1\" class=\"dataframe\">\n  <thead>\n    <tr style=\"text-align: right;\">\n      <th></th>\n      <th>comments</th>\n    </tr>\n  </thead>\n  <tbody>\n    <tr>\n      <th>0</th>\n      <td>ㅋㅋㅋㅋ 그래도 조아해주는 팬들 많아서 좋겠다 ㅠㅠ 니들은 온유가 안만져줌 ㅠㅠ</td>\n    </tr>\n    <tr>\n      <th>1</th>\n      <td>둘다 넘 좋다~행복하세요</td>\n    </tr>\n    <tr>\n      <th>2</th>\n      <td>근데 만원이하는 현금결제만 하라고 써놓은집 우리나라에 엄청 많은데</td>\n    </tr>\n    <tr>\n      <th>3</th>\n      <td>원곡생각하나도 안나고 러블리즈 신곡나온줄!!! 너무 예쁘게 잘봤어요</td>\n    </tr>\n    <tr>\n      <th>4</th>\n      <td>장현승 얘도 참 이젠 짠하다...</td>\n    </tr>\n    <tr>\n      <th>...</th>\n      <td>...</td>\n    </tr>\n    <tr>\n      <th>969</th>\n      <td>대박 게스트... 꼭 봐야징~ 컨셉이 바뀌니깐 재미지넹</td>\n    </tr>\n    <tr>\n      <th>970</th>\n      <td>성형으로 다 뜯어고쳐놓고 예쁜척. 성형 전 니 얼굴 다 알고있다. 순자처럼 된장냄새...</td>\n    </tr>\n    <tr>\n      <th>971</th>\n      <td>분위기는 비슷하다만 전혀다른 전개던데 무슨ㅋㅋㄱ 우리나라사람들은 분위기만 비슷하면 ...</td>\n    </tr>\n    <tr>\n      <th>972</th>\n      <td>입에 손가릭이 10개 있으니 징그럽다</td>\n    </tr>\n    <tr>\n      <th>973</th>\n      <td>난 조보아 이뻐서 보는데 백종원 관심무</td>\n    </tr>\n  </tbody>\n</table>\n<p>974 rows × 1 columns</p>\n</div>"
     },
     "metadata": {},
     "execution_count": 11
    }
   ],
   "source": [
    "df_test"
   ]
  },
  {
   "source": [
    "## 2. Data Preprocessing"
   ],
   "cell_type": "markdown",
   "metadata": {}
  },
  {
   "cell_type": "code",
   "execution_count": null,
   "metadata": {},
   "outputs": [],
   "source": []
  },
  {
   "source": [
    "## 9. Export result to csv format "
   ],
   "cell_type": "markdown",
   "metadata": {}
  },
  {
   "cell_type": "code",
   "execution_count": null,
   "metadata": {},
   "outputs": [],
   "source": [
    "export_test = df_test\n",
    "result = np.zeros((974, 1), dtype=np.int64)\n",
    "\n",
    "for i in range(0, result.shape[0]):\n",
    "    result[i] = i % 3"
   ]
  },
  {
   "cell_type": "code",
   "execution_count": 26,
   "metadata": {},
   "outputs": [
    {
     "output_type": "stream",
     "name": "stderr",
     "text": [
      "<ipython-input-26-11d789b8acbd>:12: SettingWithCopyWarning: \nA value is trying to be set on a copy of a slice from a DataFrame\n\nSee the caveats in the documentation: https://pandas.pydata.org/pandas-docs/stable/user_guide/indexing.html#returning-a-view-versus-a-copy\n  export_test['comments'][i] = \"comment_\" + str(i+1)\n"
     ]
    }
   ],
   "source": [
    "export_test['label'] = result\n",
    "\n",
    "for i in range(0, result.shape[0]):\n",
    "    export_test['comments'][i] = \"comment_\" + str(i+1)\n",
    "\n",
    "export_test.to_csv('./export.csv', sep=',', index=False)\n",
    "    "
   ]
  },
  {
   "cell_type": "code",
   "execution_count": null,
   "metadata": {},
   "outputs": [],
   "source": []
  }
 ]
}