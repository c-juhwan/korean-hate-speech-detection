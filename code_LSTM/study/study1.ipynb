{
 "metadata": {
  "language_info": {
   "codemirror_mode": {
    "name": "ipython",
    "version": 3
   },
   "file_extension": ".py",
   "mimetype": "text/x-python",
   "name": "python",
   "nbconvert_exporter": "python",
   "pygments_lexer": "ipython3",
   "version": "3.8.8"
  },
  "orig_nbformat": 2,
  "kernelspec": {
   "name": "python388jvsc74a57bd01a32a8893a324cd10ee115e5cfdb8831767326d6be6bef65c9b47165b6407108",
   "display_name": "Python 3.8.8 64-bit ('NLP-tf': conda)"
  },
  "metadata": {
   "interpreter": {
    "hash": "1a32a8893a324cd10ee115e5cfdb8831767326d6be6bef65c9b47165b6407108"
   }
  }
 },
 "nbformat": 4,
 "nbformat_minor": 2,
 "cells": [
  {
   "source": [
    "# Chapter 4.1 - 영어 텍스트 분류, P145 \n",
    "\n",
    "## Load data"
   ],
   "cell_type": "markdown",
   "metadata": {}
  },
  {
   "cell_type": "code",
   "execution_count": 4,
   "metadata": {},
   "outputs": [],
   "source": [
    "# For M1 macs: https://cpuu.postype.com/post/9091007\n",
    "#from tensorflow.python.framework.ops import disable_eager_execution\n",
    "#disable_eager_execution()\n",
    "#from tensorflow.python.compiler.mlcompute import mlcompute\n",
    "#mlcompute.set_mlc_device(device_name='gpu')\n",
    "\n",
    "%reset\n",
    "\n",
    "import numpy as np\n",
    "import pandas as pd\n",
    "import os\n",
    "import matplotlib.pyplot as plt\n",
    "import seaborn as sns\n",
    "from tqdm import tqdm\n",
    "\n",
    "%matplotlib inline\n",
    "\n",
    "DATA_PATH = \"./word2vec-nlp-tutorial/\""
   ]
  },
  {
   "cell_type": "code",
   "execution_count": 5,
   "metadata": {},
   "outputs": [
    {
     "output_type": "execute_result",
     "data": {
      "text/plain": [
       "           id                                             review\n",
       "0  \"12311_10\"  \"Naturally in a film who's main themes are of ...\n",
       "1    \"8348_2\"  \"This movie is a disaster within a disaster fi...\n",
       "2    \"5828_4\"  \"All in all, this is a movie for kids. We saw ...\n",
       "3    \"7186_2\"  \"Afraid of the Dark left me with the impressio...\n",
       "4   \"12128_7\"  \"A very accurate depiction of small time mob l..."
      ],
      "text/html": "<div>\n<style scoped>\n    .dataframe tbody tr th:only-of-type {\n        vertical-align: middle;\n    }\n\n    .dataframe tbody tr th {\n        vertical-align: top;\n    }\n\n    .dataframe thead th {\n        text-align: right;\n    }\n</style>\n<table border=\"1\" class=\"dataframe\">\n  <thead>\n    <tr style=\"text-align: right;\">\n      <th></th>\n      <th>id</th>\n      <th>review</th>\n    </tr>\n  </thead>\n  <tbody>\n    <tr>\n      <th>0</th>\n      <td>\"12311_10\"</td>\n      <td>\"Naturally in a film who's main themes are of ...</td>\n    </tr>\n    <tr>\n      <th>1</th>\n      <td>\"8348_2\"</td>\n      <td>\"This movie is a disaster within a disaster fi...</td>\n    </tr>\n    <tr>\n      <th>2</th>\n      <td>\"5828_4\"</td>\n      <td>\"All in all, this is a movie for kids. We saw ...</td>\n    </tr>\n    <tr>\n      <th>3</th>\n      <td>\"7186_2\"</td>\n      <td>\"Afraid of the Dark left me with the impressio...</td>\n    </tr>\n    <tr>\n      <th>4</th>\n      <td>\"12128_7\"</td>\n      <td>\"A very accurate depiction of small time mob l...</td>\n    </tr>\n  </tbody>\n</table>\n</div>"
     },
     "metadata": {},
     "execution_count": 5
    }
   ],
   "source": [
    "df_train = pd.read_csv(DATA_PATH + \"labeledTrainData.tsv\", header=0, delimiter=\"\\t\", quoting=3)\n",
    "df_test = pd.read_csv(DATA_PATH + \"testData.tsv\", header=0, delimiter=\"\\t\", quoting=3)\n",
    "\n",
    "df_train.head()\n",
    "df_test.head()"
   ]
  },
  {
   "source": [
    "## Preprocessing"
   ],
   "cell_type": "markdown",
   "metadata": {}
  },
  {
   "cell_type": "code",
   "execution_count": 6,
   "metadata": {},
   "outputs": [],
   "source": [
    "import re\n",
    "import json\n",
    "from bs4 import BeautifulSoup\n",
    "from nltk.corpus import stopwords\n",
    "from tensorflow.keras.preprocessing.sequence import pad_sequences\n",
    "from tensorflow.keras.preprocessing.text import Tokenizer"
   ]
  },
  {
   "cell_type": "code",
   "execution_count": 7,
   "metadata": {},
   "outputs": [],
   "source": [
    "# Regular Expression\n",
    "# Remove HTML tag\n",
    "# Lower case and split to each words\n",
    "# Remove stopwords\n",
    "# Make splited words to sentences\n",
    "\n",
    "def preprocessing(text):\n",
    "    regular_expression1 = \"^[a-zA-Z0-9]\"\n",
    "\n",
    "    text = BeautifulSoup(text, 'html5lib').get_text()\n",
    "    text = re.sub(regular_expression1, \" \", text)\n",
    "\n",
    "    words = text.lower().split()\n",
    "    stop_words = stopwords.words('english')\n",
    "    words = [w for w in words if not w in stop_words]\n",
    "\n",
    "    clean_text = ' '.join(words)\n",
    "\n",
    "    return clean_text"
   ]
  },
  {
   "cell_type": "code",
   "execution_count": 8,
   "metadata": {},
   "outputs": [
    {
     "output_type": "stream",
     "name": "stderr",
     "text": [
      "  0%|          | 0/25000 [00:00<?, ?it/s]<ipython-input-8-b288b68495cc>:2: SettingWithCopyWarning: \n",
      "A value is trying to be set on a copy of a slice from a DataFrame\n",
      "\n",
      "See the caveats in the documentation: https://pandas.pydata.org/pandas-docs/stable/user_guide/indexing.html#returning-a-view-versus-a-copy\n",
      "  df_train['review'][i] = preprocessing(df_train['review'][i])\n",
      "100%|██████████| 25000/25000 [00:36<00:00, 690.53it/s]\n",
      "100%|██████████| 25000/25000 [00:29<00:00, 856.31it/s]\n"
     ]
    }
   ],
   "source": [
    "for i in tqdm(range(0, df_train.shape[0])):\n",
    "    df_train['review'][i] = preprocessing(df_train['review'][i])\n",
    "\n",
    "for i in tqdm(range(0, df_test.shape[0])):\n",
    "    df_test['review'][i] = preprocessing(df_test['review'][i])\n",
    "\n",
    "#df_train.head()\n",
    "#df_test.head()"
   ]
  },
  {
   "source": [
    "# Integer index\n",
    "\n",
    "tokenizer = Tokenizer()\n",
    "tokenizer.fit_on_texts(df_train['review'])\n",
    "train_sequences = tokenizer.texts_to_sequences(df_train['review'])\n",
    "test_sequences = tokenizer.texts_to_sequences(df_test['review'])\n",
    "\n",
    "#print(text_sequences[0])"
   ],
   "cell_type": "code",
   "metadata": {},
   "execution_count": 9,
   "outputs": []
  },
  {
   "cell_type": "code",
   "execution_count": 10,
   "metadata": {
    "tags": []
   },
   "outputs": [],
   "source": [
    "# Make vocabulary\n",
    "\n",
    "vocab = tokenizer.word_index\n",
    "vocab[\"<PAD>\"] = 0\n",
    "\n",
    "datas = {}\n",
    "datas['vocab'] = vocab\n",
    "datas['vocab_size'] = len(vocab)\n",
    "\n",
    "#print(datas['vocab'])\n",
    "#print(datas['vocab_size'])"
   ]
  },
  {
   "cell_type": "code",
   "execution_count": 11,
   "metadata": {},
   "outputs": [],
   "source": [
    "# Padding for train data & test data\n",
    "\n",
    "MAX_SEQUENCE_LENGTH = 180\n",
    "\n",
    "train_inputs = pad_sequences(train_sequences, maxlen = MAX_SEQUENCE_LENGTH, padding='post')\n",
    "train_labels = np.array(df_train['sentiment'])\n",
    "\n",
    "test_inputs = pad_sequences(test_sequences, maxlen = MAX_SEQUENCE_LENGTH, padding='post')\n",
    "test_id = np.array(df_test['id'])\n",
    "\n",
    "#print(train_inputs.shape)\n",
    "#print(type(train_inputs))\n",
    "#print(train_inputs)\n",
    "\n",
    "#print(train_labels.shape)\n",
    "#print(type(train_labels))\n",
    "#print(train_labels)"
   ]
  },
  {
   "source": [
    "## RNN Model"
   ],
   "cell_type": "markdown",
   "metadata": {}
  },
  {
   "cell_type": "code",
   "execution_count": 12,
   "metadata": {},
   "outputs": [],
   "source": [
    "# Seed \n",
    "\n",
    "import tensorflow as tf\n",
    "\n",
    "SEED_NUM = 1234\n",
    "tf.random.set_seed(SEED_NUM)"
   ]
  },
  {
   "source": [
    "### Define hyperparameter"
   ],
   "cell_type": "markdown",
   "metadata": {}
  },
  {
   "cell_type": "code",
   "execution_count": 13,
   "metadata": {},
   "outputs": [],
   "source": [
    "model_name = 'RNN_classifier_en'\n",
    "BATCH_SIZE = 128\n",
    "NUM_EPOCHS = 5\n",
    "VALID_SPLIT = 0.1\n",
    "MAX_LEN = train_inputs.shape[1]\n",
    "\n",
    "kargs = {'model_name': model_name,\n",
    "        'vocab_size': datas['vocab_size'],\n",
    "        'embedding_dimension': 100,\n",
    "        'dropout_rate': 0.2,\n",
    "        'lstm_dimension': 150,\n",
    "        'dense_dimension': 150,\n",
    "        'output_dimension': 1}"
   ]
  },
  {
   "source": [
    "### Model implementation"
   ],
   "cell_type": "markdown",
   "metadata": {}
  },
  {
   "cell_type": "code",
   "execution_count": 14,
   "metadata": {},
   "outputs": [],
   "source": [
    "class RNNclassifier(tf.keras.Model):\n",
    "    def __init__(self, **kargs):\n",
    "        super(RNNclassifier, self).__init__(name=kargs['model_name'])\n",
    "\n",
    "        self.embedding = tf.keras.layers.Embedding(input_dim=kargs['vocab_size'], output_dim=kargs['embedding_dimension'])\n",
    "        self.lstm1 = tf.keras.layers.LSTM(kargs['lstm_dimension'], return_sequences=True)\n",
    "        self.lstm2 = tf.keras.layers.LSTM(kargs['lstm_dimension'])\n",
    "        self.dropout = tf.keras.layers.Dropout(kargs['dropout_rate'])\n",
    "        self.fc1 = tf.keras.layers.Dense(units=kargs['dense_dimension'], activation=tf.keras.activations.relu)\n",
    "        self.fc2 = tf.keras.layers.Dense(units=1, activation=tf.keras.activations.sigmoid)\n",
    "\n",
    "    def call(self, x):\n",
    "        x = self.embedding(x)\n",
    "        x = self.dropout(x)\n",
    "\n",
    "        x = self.lstm1(x)\n",
    "        x = self.lstm2(x)\n",
    "        x = self.dropout(x)\n",
    "\n",
    "        x = self.fc1(x)\n",
    "        x = self.dropout(x)\n",
    "\n",
    "        x = self.fc2(x)\n",
    "\n",
    "        return x"
   ]
  },
  {
   "source": [
    "### Generate model instance"
   ],
   "cell_type": "markdown",
   "metadata": {}
  },
  {
   "cell_type": "code",
   "execution_count": 15,
   "metadata": {},
   "outputs": [],
   "source": [
    "model = RNNclassifier(**kargs)\n",
    "model.compile(optimizer=tf.keras.optimizers.Adam(1e-4),\n",
    "            loss=tf.keras.losses.BinaryCrossentropy(),\n",
    "            metrics=[tf.keras.metrics.BinaryAccuracy(name='accuracy')])"
   ]
  },
  {
   "source": [
    "### Model learning\n",
    "\n",
    "> Memo \n",
    ">\n",
    "> numpy 1.20 이상은 뭔가 [에러](https://stackoverflow.com/questions/58479556/notimplementederror-cannot-convert-a-symbolic-tensor-2nd-target0-to-a-numpy)가 있음\n",
    ">\n",
    "> 난 pip로 Build 안돼서 conda로 1.19.5 설치했음\n",
    ">\n",
    "> numpy array 말고 Tensor가 들어가야하는듯 -> 꼭 그건 아니고 버전만 맞추면 됨"
   ],
   "cell_type": "markdown",
   "metadata": {}
  },
  {
   "cell_type": "code",
   "execution_count": 16,
   "metadata": {},
   "outputs": [
    {
     "output_type": "stream",
     "name": "stdout",
     "text": [
      "Epoch 1/5\n",
      "176/176 [==============================] - 76s 426ms/step - loss: 0.6931 - accuracy: 0.5074 - val_loss: 0.6929 - val_accuracy: 0.5080\n",
      "\n",
      "Epoch 00001: val_accuracy improved from -inf to 0.50800, saving model to ./word2vec-nlp-tutorial/RNN_classifier_en/weights.h5\n",
      "Epoch 2/5\n",
      "176/176 [==============================] - 82s 468ms/step - loss: 0.6901 - accuracy: 0.5180 - val_loss: 0.4505 - val_accuracy: 0.8068\n",
      "\n",
      "Epoch 00002: val_accuracy improved from 0.50800 to 0.80680, saving model to ./word2vec-nlp-tutorial/RNN_classifier_en/weights.h5\n",
      "Epoch 3/5\n",
      "176/176 [==============================] - 83s 474ms/step - loss: 0.3670 - accuracy: 0.8457 - val_loss: 0.3017 - val_accuracy: 0.8684\n",
      "\n",
      "Epoch 00003: val_accuracy improved from 0.80680 to 0.86840, saving model to ./word2vec-nlp-tutorial/RNN_classifier_en/weights.h5\n",
      "Epoch 4/5\n",
      "176/176 [==============================] - 84s 477ms/step - loss: 0.1946 - accuracy: 0.9300 - val_loss: 0.2998 - val_accuracy: 0.8740\n",
      "\n",
      "Epoch 00004: val_accuracy improved from 0.86840 to 0.87400, saving model to ./word2vec-nlp-tutorial/RNN_classifier_en/weights.h5\n",
      "Epoch 5/5\n",
      "176/176 [==============================] - 87s 494ms/step - loss: 0.1247 - accuracy: 0.9608 - val_loss: 0.3564 - val_accuracy: 0.8744\n",
      "\n",
      "Epoch 00005: val_accuracy improved from 0.87400 to 0.87440, saving model to ./word2vec-nlp-tutorial/RNN_classifier_en/weights.h5\n"
     ]
    }
   ],
   "source": [
    "#from tensorflow.python.ops.math_ops import reduce_prod\n",
    "from tensorflow.math import reduce_prod\n",
    "\n",
    "earlystop_callback = tf.keras.callbacks.EarlyStopping(monitor='val_accuracy', min_delta=1e-4, patience=2)\n",
    "\n",
    "checkpoint_path = DATA_PATH + model_name + '/weights.h5'\n",
    "checkpoint_dir = os.path.dirname(checkpoint_path)\n",
    "\n",
    "if os.path.exists(checkpoint_dir):\n",
    "    pass\n",
    "else:\n",
    "    os.makedirs(checkpoint_dir, exist_ok=True)\n",
    "\n",
    "cp_callback = tf.keras.callbacks.ModelCheckpoint(checkpoint_path, monitor='val_accuracy', verbose=1, save_best_only=True, save_weights_only=True)\n",
    "\n",
    "#train_inputs = tf.convert_to_tensor(train_inputs)\n",
    "#train_labels = tf.convert_to_tensor(train_labels)\n",
    "\n",
    "history = model.fit(train_inputs, train_labels, batch_size=BATCH_SIZE, epochs=NUM_EPOCHS, validation_split=VALID_SPLIT, callbacks=[earlystop_callback, cp_callback])"
   ]
  },
  {
   "source": [
    "### Show results"
   ],
   "cell_type": "markdown",
   "metadata": {}
  },
  {
   "cell_type": "code",
   "execution_count": 17,
   "metadata": {},
   "outputs": [
    {
     "output_type": "display_data",
     "data": {
      "text/plain": "<Figure size 432x288 with 1 Axes>",
      "image/png": "[encoded data removed]"
     },
     "metadata": {
      "needs_background": "light"
     }
    }
   ],
   "source": [
    "import matplotlib.pyplot as plt\n",
    "\n",
    "plt.plot(history.history['accuracy'], label = \"Accuracy\")\n",
    "plt.plot(history.history['val_accuracy'], label=\"Validation_Accuracy\")\n",
    "\n",
    "plt.legend()\n",
    "plt.show()"
   ]
  },
  {
   "source": [
    "### Prediction & Submit to Kaggle\n",
    "\n",
    "> Memo\n",
    ">\n",
    "> [AttributeError: 'str' object has no attribute 'decode'](https://stackoverflow.com/questions/53740577/does-any-one-got-attributeerror-str-object-has-no-attribute-decode-whi)\n",
    ">\n",
    "> h5py package를 2.10.0 버전으로 "
   ],
   "cell_type": "markdown",
   "metadata": {}
  },
  {
   "cell_type": "code",
   "execution_count": 18,
   "metadata": {},
   "outputs": [],
   "source": [
    "SAVE_FILE_NAME = 'weight.h5'\n",
    "DATA_OUT_PATH = \"./word2vec-nlp-tutorial/data_out/\"\n",
    "\n",
    "model.load_weights(os.path.join(checkpoint_path))"
   ]
  },
  {
   "cell_type": "code",
   "execution_count": 19,
   "metadata": {},
   "outputs": [
    {
     "output_type": "stream",
     "name": "stdout",
     "text": [
      "[0.99714524 0.00930078 0.42532393 ... 0.67809004 0.9187481  0.01261904]\n"
     ]
    }
   ],
   "source": [
    "predictions = model.predict(test_inputs, batch_size=BATCH_SIZE)\n",
    "predictions = predictions.squeeze(-1)\n",
    "\n",
    "print(predictions)"
   ]
  },
  {
   "cell_type": "code",
   "execution_count": 20,
   "metadata": {},
   "outputs": [
    {
     "output_type": "stream",
     "name": "stderr",
     "text": [
      "100%|██████████| 25000/25000 [00:00<00:00, 333368.09it/s][1 0 0 ... 1 1 0]\n",
      "\n"
     ]
    }
   ],
   "source": [
    "def configure(x):\n",
    "    if x >= 0.5:\n",
    "        return 1\n",
    "    else:\n",
    "        return 0\n",
    "\n",
    "for i in tqdm(range(0, predictions.shape[0])):\n",
    "    predictions[i] = configure(predictions[i])\n",
    "\n",
    "predictions = np.array(predictions).astype('int8')\n",
    "print(predictions)"
   ]
  },
  {
   "cell_type": "code",
   "execution_count": 21,
   "metadata": {},
   "outputs": [],
   "source": [
    "if not os.path.exists(DATA_OUT_PATH):\n",
    "    os.makedirs(DATA_OUT_PATH)\n",
    "\n",
    "output = pd.DataFrame(data={\"id\": list(test_id), \"sentiment\":list(predictions)})\n",
    "output.to_csv(DATA_OUT_PATH+'movie_review_result_rnn.csv', index=False, quoting=3)"
   ]
  },
  {
   "cell_type": "code",
   "execution_count": null,
   "metadata": {},
   "outputs": [],
   "source": []
  }
 ]
}