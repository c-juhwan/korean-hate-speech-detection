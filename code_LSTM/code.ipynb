{
 "metadata": {
  "language_info": {
   "codemirror_mode": {
    "name": "ipython",
    "version": 3
   },
   "file_extension": ".py",
   "mimetype": "text/x-python",
   "name": "python",
   "nbconvert_exporter": "python",
   "pygments_lexer": "ipython3",
   "version": "3.8.8"
  },
  "orig_nbformat": 2,
  "kernelspec": {
   "name": "python388jvsc74a57bd01a32a8893a324cd10ee115e5cfdb8831767326d6be6bef65c9b47165b6407108",
   "display_name": "Python 3.8.8 64-bit ('NLP-tf': conda)"
  },
  "metadata": {
   "interpreter": {
    "hash": "1a32a8893a324cd10ee115e5cfdb8831767326d6be6bef65c9b47165b6407108"
   }
  }
 },
 "nbformat": 4,
 "nbformat_minor": 2,
 "cells": [
  {
   "source": [
    "# Korean Hate Speech Detection\n",
    "\n",
    "From Kaggle competition: https://www.kaggle.com/c/korean-hate-speech-detection\n",
    "\n",
    "Main reference: \n",
    "- [6) 네이버 영화 리뷰 감성 분류하기(Naver Movie Review Sentiment Analysis) - 딥 러닝을 이용한 자연어 처리 입문](https://wikidocs.net/44249)\n",
    "- [텐서플로 2와 머신러닝으로 시작하는 자연어 처리](https://www.aladin.co.kr/shop/wproduct.aspx?ItemId=251521480)\n",
    "\n",
    "## 0. Import Required Libraries"
   ],
   "cell_type": "markdown",
   "metadata": {}
  },
  {
   "cell_type": "code",
   "execution_count": 1,
   "metadata": {},
   "outputs": [],
   "source": [
    "# For M1 macs: https://cpuu.postype.com/post/9091007\n",
    "#from tensorflow.python.framework.ops import disable_eager_execution\n",
    "#disable_eager_execution()\n",
    "#from tensorflow.python.compiler.mlcompute import mlcompute\n",
    "#mlcompute.set_mlc_device(device_name='gpu')\n",
    "\n",
    "%reset\n",
    "\n",
    "import numpy as np\n",
    "import pandas as pd\n",
    "import os\n",
    "import matplotlib.pyplot as plt\n",
    "import tensorflow as tf\n",
    "from tqdm import tqdm\n",
    "import re\n",
    "\n",
    "from tensorflow.keras.preprocessing.sequence import pad_sequences\n",
    "from tensorflow.keras.preprocessing.text import Tokenizer\n",
    "from tensorflow.python.ops.math_ops import reduce_prod\n",
    "\n",
    "from konlpy.tag import Mecab\n",
    "from konlpy.tag import Okt\n",
    "\n",
    "%matplotlib inline\n",
    "\n",
    "SEED_NUM = 417\n",
    "tf.random.set_seed(SEED_NUM)\n",
    "\n",
    "#DATA_PATH = \"/Users/choijuhwan/Workspace/Git_Repos/korean-hate-speech-detection/\"\n",
    "DATA_PATH = \"./\"\n"
   ]
  },
  {
   "source": [
    "## 1. Load & Check Dataset\n",
    "\n",
    "### Load dataset"
   ],
   "cell_type": "markdown",
   "metadata": {}
  },
  {
   "cell_type": "code",
   "execution_count": 2,
   "metadata": {},
   "outputs": [],
   "source": [
    "df_train = pd.read_csv(DATA_PATH + '/dataset/train.hate.csv')\n",
    "df_validation = pd.read_csv(DATA_PATH + '/dataset/dev.hate.csv')\n",
    "df_test = pd.read_csv(DATA_PATH + '/dataset/test.hate.no_label.csv')\n",
    "\n",
    "dataframes = [df_train, df_validation, df_test]"
   ]
  },
  {
   "source": [
    "### Check dataset"
   ],
   "cell_type": "markdown",
   "metadata": {}
  },
  {
   "cell_type": "code",
   "execution_count": 3,
   "metadata": {},
   "outputs": [
    {
     "output_type": "stream",
     "name": "stdout",
     "text": [
      "<bound method NDFrame.head of                                                comments label\n0     (현재 호텔주인 심정) 아18 난 마른하늘에 날벼락맞고 호텔망하게생겼는데 누군 계속...  hate\n1     ....한국적인 미인의 대표적인 분...너무나 곱고아름다운모습...그모습뒤의 슬픔을...  none\n2     ...못된 넘들...남의 고통을 즐겼던 넘들..이젠 마땅한 처벌을 받아야지..,그래...  hate\n3                    1,2화 어설펐는데 3,4화 지나서부터는 갈수록 너무 재밌던데  none\n4     1. 사람 얼굴 손톱으로 긁은것은 인격살해이고2. 동영상이 몰카냐? 메걸리안들 생각...  hate\n...                                                 ...   ...\n7891                                      힘내세요~ 응원합니다!!  none\n7892                             힘내세요~~삼가 고인의 명복을 빕니다..  none\n7893                              힘내세용 ^^ 항상 응원합니닷 ^^ !  none\n7894  힘내소...연기로 답해요.나도 53살 인데 이런일 저런일 다 있더라구요.인격을 믿습...  none\n7895                                 힘들면 관뒀어야지 그게 현명한거다  none\n\n[7896 rows x 2 columns]>\n<bound method NDFrame.head of                                               comments      label\n0                          송중기 시대극은 믿고본다. 첫회 신선하고 좋았다.       none\n1                                              지현우 나쁜놈  offensive\n2           알바쓰고많이만들면되지 돈욕심없으면골목식당왜나온겨 기댕기게나하고 산에가서팔어라       hate\n3                                     설마 ㅈ 현정 작가 아니지??       hate\n4    이미자씨 송혜교씨 돈이 그리 많으면 탈세말고 그돈으로 평소에 불우이웃에게 기부도 좀...  offensive\n..                                                 ...        ...\n466                                  지현우 범죄 저지르지 않았나요?  offensive\n467                                    여자인생 망칠 일 있나 ㅋㅋ       hate\n468            근데 전라도에서 사고가 났는데 굳이 서울까지 와서 병원에 가느 이유는?  offensive\n469  할매젖x, 뱃살x, 몸매 s라인, 유륜은 적당해야됨(너무크거나 너무 작아도 x), ...       hate\n470  남자가 잘못한거라면... 반성도 없다면...나였다면 ... 여자처럼 아주 못되게 할...       none\n\n[471 rows x 2 columns]>\n<bound method NDFrame.head of                                               comments\n0         ㅋㅋㅋㅋ 그래도 조아해주는 팬들 많아서 좋겠다 ㅠㅠ 니들은 온유가 안만져줌 ㅠㅠ\n1                                        둘다 넘 좋다~행복하세요\n2                 근데 만원이하는 현금결제만 하라고 써놓은집 우리나라에 엄청 많은데\n3                원곡생각하나도 안나고 러블리즈 신곡나온줄!!! 너무 예쁘게 잘봤어요\n4                                   장현승 얘도 참 이젠 짠하다...\n..                                                 ...\n969                     대박 게스트... 꼭 봐야징~ 컨셉이 바뀌니깐 재미지넹\n970  성형으로 다 뜯어고쳐놓고 예쁜척. 성형 전 니 얼굴 다 알고있다. 순자처럼 된장냄새...\n971  분위기는 비슷하다만 전혀다른 전개던데 무슨ㅋㅋㄱ 우리나라사람들은 분위기만 비슷하면 ...\n972                               입에 손가릭이 10개 있으니 징그럽다\n973                              난 조보아 이뻐서 보는데 백종원 관심무\n\n[974 rows x 1 columns]>\n"
     ]
    }
   ],
   "source": [
    "for df in dataframes:\n",
    "    print(df.head)"
   ]
  },
  {
   "cell_type": "code",
   "execution_count": 4,
   "metadata": {},
   "outputs": [
    {
     "output_type": "stream",
     "name": "stdout",
     "text": [
      "31.0\n"
     ]
    },
    {
     "output_type": "display_data",
     "data": {
      "text/plain": "<Figure size 432x288 with 1 Axes>",
      "image/svg+xml": "<?xml version=\"1.0\" encoding=\"utf-8\" standalone=\"no\"?>\n<!DOCTYPE svg PUBLIC \"-//W3C//DTD SVG 1.1//EN\"\n  \"http://www.w3.org/Graphics/SVG/1.1/DTD/svg11.dtd\">\n<svg height=\"248.518125pt\" version=\"1.1\" viewBox=\"0 0 381.230001 248.518125\" width=\"381.230001pt\" xmlns=\"http://www.w3.org/2000/svg\" xmlns:xlink=\"http://www.w3.org/1999/xlink\">\n <metadata>\n  <rdf:RDF xmlns:cc=\"http://creativecommons.org/ns#\" xmlns:dc=\"http://purl.org/dc/elements/1.1/\" xmlns:rdf=\"http://www.w3.org/1999/02/22-rdf-syntax-ns#\">\n   <cc:Work>\n    <dc:type rdf:resource=\"http://purl.org/dc/dcmitype/StillImage\"/>\n    <dc:date>2021-04-18T15:07:33.465084</dc:date>\n    <dc:format>image/svg+xml</dc:format>\n    <dc:creator>\n     <cc:Agent>\n      <dc:title>Matplotlib v3.4.1, https://matplotlib.org/</dc:title>\n     </cc:Agent>\n    </dc:creator>\n   </cc:Work>\n  </rdf:RDF>\n </metadata>\n <defs>\n  <style type=\"text/css\">*{stroke-linecap:butt;stroke-linejoin:round;}</style>\n </defs>\n <g id=\"figure_1\">\n  <g id=\"patch_1\">\n   <path d=\"M 0 248.518125 \nL 381.230001 248.518125 \nL 381.230001 0 \nL 0 0 \nz\n\" style=\"fill:none;\"/>\n  </g>\n  <g id=\"axes_1\">\n   <g id=\"patch_2\">\n    <path d=\"M 33.2875 224.64 \nL 368.0875 224.64 \nL 368.0875 7.2 \nL 33.2875 7.2 \nz\n\" style=\"fill:#ffffff;\"/>\n   </g>\n   <g id=\"patch_3\">\n    <path clip-path=\"url(#p9e979b596e)\" d=\"M 48.505682 224.64 \nL 50.0275 224.64 \nL 50.0275 219.488614 \nL 48.505682 219.488614 \nz\n\" style=\"fill:#ff0000;opacity:0.5;\"/>\n   </g>\n   <g id=\"patch_4\">\n    <path clip-path=\"url(#p9e979b596e)\" d=\"M 50.0275 224.64 \nL 51.549318 224.64 \nL 51.549318 195.792239 \nL 50.0275 195.792239 \nz\n\" style=\"fill:#ff0000;opacity:0.5;\"/>\n   </g>\n   <g id=\"patch_5\">\n    <path clip-path=\"url(#p9e979b596e)\" d=\"M 51.549318 224.64 \nL 53.071136 224.64 \nL 53.071136 224.64 \nL 51.549318 224.64 \nz\n\" style=\"fill:#ff0000;opacity:0.5;\"/>\n   </g>\n   <g id=\"patch_6\">\n    <path clip-path=\"url(#p9e979b596e)\" d=\"M 53.071136 224.64 \nL 54.592955 224.64 \nL 54.592955 172.095864 \nL 53.071136 172.095864 \nz\n\" style=\"fill:#ff0000;opacity:0.5;\"/>\n   </g>\n   <g id=\"patch_7\">\n    <path clip-path=\"url(#p9e979b596e)\" d=\"M 54.592955 224.64 \nL 56.114773 224.64 \nL 56.114773 106.158124 \nL 54.592955 106.158124 \nz\n\" style=\"fill:#ff0000;opacity:0.5;\"/>\n   </g>\n   <g id=\"patch_8\">\n    <path clip-path=\"url(#p9e979b596e)\" d=\"M 56.114773 224.64 \nL 57.636591 224.64 \nL 57.636591 224.64 \nL 56.114773 224.64 \nz\n\" style=\"fill:#ff0000;opacity:0.5;\"/>\n   </g>\n   <g id=\"patch_9\">\n    <path clip-path=\"url(#p9e979b596e)\" d=\"M 57.636591 224.64 \nL 59.158409 224.64 \nL 59.158409 93.794797 \nL 57.636591 93.794797 \nz\n\" style=\"fill:#ff0000;opacity:0.5;\"/>\n   </g>\n   <g id=\"patch_10\">\n    <path clip-path=\"url(#p9e979b596e)\" d=\"M 59.158409 224.64 \nL 60.680227 224.64 \nL 60.680227 61.856205 \nL 59.158409 61.856205 \nz\n\" style=\"fill:#ff0000;opacity:0.5;\"/>\n   </g>\n   <g id=\"patch_11\">\n    <path clip-path=\"url(#p9e979b596e)\" d=\"M 60.680227 224.64 \nL 62.202045 224.64 \nL 62.202045 224.64 \nL 60.680227 224.64 \nz\n\" style=\"fill:#ff0000;opacity:0.5;\"/>\n   </g>\n   <g id=\"patch_12\">\n    <path clip-path=\"url(#p9e979b596e)\" d=\"M 62.202045 224.64 \nL 63.723864 224.64 \nL 63.723864 75.249808 \nL 62.202045 75.249808 \nz\n\" style=\"fill:#ff0000;opacity:0.5;\"/>\n   </g>\n   <g id=\"patch_13\">\n    <path clip-path=\"url(#p9e979b596e)\" d=\"M 63.723864 224.64 \nL 65.245682 224.64 \nL 65.245682 37.129552 \nL 63.723864 37.129552 \nz\n\" style=\"fill:#ff0000;opacity:0.5;\"/>\n   </g>\n   <g id=\"patch_14\">\n    <path clip-path=\"url(#p9e979b596e)\" d=\"M 65.245682 224.64 \nL 66.7675 224.64 \nL 66.7675 224.64 \nL 65.245682 224.64 \nz\n\" style=\"fill:#ff0000;opacity:0.5;\"/>\n   </g>\n   <g id=\"patch_15\">\n    <path clip-path=\"url(#p9e979b596e)\" d=\"M 66.7675 224.64 \nL 68.289318 224.64 \nL 68.289318 61.856205 \nL 66.7675 61.856205 \nz\n\" style=\"fill:#ff0000;opacity:0.5;\"/>\n   </g>\n   <g id=\"patch_16\">\n    <path clip-path=\"url(#p9e979b596e)\" d=\"M 68.289318 224.64 \nL 69.811136 224.64 \nL 69.811136 39.190107 \nL 68.289318 39.190107 \nz\n\" style=\"fill:#ff0000;opacity:0.5;\"/>\n   </g>\n   <g id=\"patch_17\">\n    <path clip-path=\"url(#p9e979b596e)\" d=\"M 69.811136 224.64 \nL 71.332955 224.64 \nL 71.332955 224.64 \nL 69.811136 224.64 \nz\n\" style=\"fill:#ff0000;opacity:0.5;\"/>\n   </g>\n   <g id=\"patch_18\">\n    <path clip-path=\"url(#p9e979b596e)\" d=\"M 71.332955 224.64 \nL 72.854773 224.64 \nL 72.854773 50.523156 \nL 71.332955 50.523156 \nz\n\" style=\"fill:#ff0000;opacity:0.5;\"/>\n   </g>\n   <g id=\"patch_19\">\n    <path clip-path=\"url(#p9e979b596e)\" d=\"M 72.854773 224.64 \nL 74.376591 224.64 \nL 74.376591 51.553433 \nL 72.854773 51.553433 \nz\n\" style=\"fill:#ff0000;opacity:0.5;\"/>\n   </g>\n   <g id=\"patch_20\">\n    <path clip-path=\"url(#p9e979b596e)\" d=\"M 74.376591 224.64 \nL 75.898409 224.64 \nL 75.898409 224.64 \nL 74.376591 224.64 \nz\n\" style=\"fill:#ff0000;opacity:0.5;\"/>\n   </g>\n   <g id=\"patch_21\">\n    <path clip-path=\"url(#p9e979b596e)\" d=\"M 75.898409 224.64 \nL 77.420227 224.64 \nL 77.420227 36.099275 \nL 75.898409 36.099275 \nz\n\" style=\"fill:#ff0000;opacity:0.5;\"/>\n   </g>\n   <g id=\"patch_22\">\n    <path clip-path=\"url(#p9e979b596e)\" d=\"M 77.420227 224.64 \nL 78.942045 224.64 \nL 78.942045 17.554286 \nL 77.420227 17.554286 \nz\n\" style=\"fill:#ff0000;opacity:0.5;\"/>\n   </g>\n   <g id=\"patch_23\">\n    <path clip-path=\"url(#p9e979b596e)\" d=\"M 78.942045 224.64 \nL 80.463864 224.64 \nL 80.463864 224.64 \nL 78.942045 224.64 \nz\n\" style=\"fill:#ff0000;opacity:0.5;\"/>\n   </g>\n   <g id=\"patch_24\">\n    <path clip-path=\"url(#p9e979b596e)\" d=\"M 80.463864 224.64 \nL 81.985682 224.64 \nL 81.985682 36.099275 \nL 80.463864 36.099275 \nz\n\" style=\"fill:#ff0000;opacity:0.5;\"/>\n   </g>\n   <g id=\"patch_25\">\n    <path clip-path=\"url(#p9e979b596e)\" d=\"M 81.985682 224.64 \nL 83.5075 224.64 \nL 83.5075 41.250661 \nL 81.985682 41.250661 \nz\n\" style=\"fill:#ff0000;opacity:0.5;\"/>\n   </g>\n   <g id=\"patch_26\">\n    <path clip-path=\"url(#p9e979b596e)\" d=\"M 83.5075 224.64 \nL 85.029318 224.64 \nL 85.029318 224.64 \nL 83.5075 224.64 \nz\n\" style=\"fill:#ff0000;opacity:0.5;\"/>\n   </g>\n   <g id=\"patch_27\">\n    <path clip-path=\"url(#p9e979b596e)\" d=\"M 85.029318 224.64 \nL 86.551136 224.64 \nL 86.551136 24.766226 \nL 85.029318 24.766226 \nz\n\" style=\"fill:#ff0000;opacity:0.5;\"/>\n   </g>\n   <g id=\"patch_28\">\n    <path clip-path=\"url(#p9e979b596e)\" d=\"M 86.551136 224.64 \nL 88.072955 224.64 \nL 88.072955 41.250661 \nL 86.551136 41.250661 \nz\n\" style=\"fill:#ff0000;opacity:0.5;\"/>\n   </g>\n   <g id=\"patch_29\">\n    <path clip-path=\"url(#p9e979b596e)\" d=\"M 88.072955 224.64 \nL 89.594773 224.64 \nL 89.594773 224.64 \nL 88.072955 224.64 \nz\n\" style=\"fill:#ff0000;opacity:0.5;\"/>\n   </g>\n   <g id=\"patch_30\">\n    <path clip-path=\"url(#p9e979b596e)\" d=\"M 89.594773 224.64 \nL 91.116591 224.64 \nL 91.116591 59.79565 \nL 89.594773 59.79565 \nz\n\" style=\"fill:#ff0000;opacity:0.5;\"/>\n   </g>\n   <g id=\"patch_31\">\n    <path clip-path=\"url(#p9e979b596e)\" d=\"M 91.116591 224.64 \nL 92.638409 224.64 \nL 92.638409 224.64 \nL 91.116591 224.64 \nz\n\" style=\"fill:#ff0000;opacity:0.5;\"/>\n   </g>\n   <g id=\"patch_32\">\n    <path clip-path=\"url(#p9e979b596e)\" d=\"M 92.638409 224.64 \nL 94.160227 224.64 \nL 94.160227 47.432324 \nL 92.638409 47.432324 \nz\n\" style=\"fill:#ff0000;opacity:0.5;\"/>\n   </g>\n   <g id=\"patch_33\">\n    <path clip-path=\"url(#p9e979b596e)\" d=\"M 94.160227 224.64 \nL 95.682045 224.64 \nL 95.682045 42.280938 \nL 94.160227 42.280938 \nz\n\" style=\"fill:#ff0000;opacity:0.5;\"/>\n   </g>\n   <g id=\"patch_34\">\n    <path clip-path=\"url(#p9e979b596e)\" d=\"M 95.682045 224.64 \nL 97.203864 224.64 \nL 97.203864 224.64 \nL 95.682045 224.64 \nz\n\" style=\"fill:#ff0000;opacity:0.5;\"/>\n   </g>\n   <g id=\"patch_35\">\n    <path clip-path=\"url(#p9e979b596e)\" d=\"M 97.203864 224.64 \nL 98.725682 224.64 \nL 98.725682 55.674542 \nL 97.203864 55.674542 \nz\n\" style=\"fill:#ff0000;opacity:0.5;\"/>\n   </g>\n   <g id=\"patch_36\">\n    <path clip-path=\"url(#p9e979b596e)\" d=\"M 98.725682 224.64 \nL 100.2475 224.64 \nL 100.2475 72.158977 \nL 98.725682 72.158977 \nz\n\" style=\"fill:#ff0000;opacity:0.5;\"/>\n   </g>\n   <g id=\"patch_37\">\n    <path clip-path=\"url(#p9e979b596e)\" d=\"M 100.2475 224.64 \nL 101.769318 224.64 \nL 101.769318 224.64 \nL 100.2475 224.64 \nz\n\" style=\"fill:#ff0000;opacity:0.5;\"/>\n   </g>\n   <g id=\"patch_38\">\n    <path clip-path=\"url(#p9e979b596e)\" d=\"M 101.769318 224.64 \nL 103.291136 224.64 \nL 103.291136 86.582857 \nL 101.769318 86.582857 \nz\n\" style=\"fill:#ff0000;opacity:0.5;\"/>\n   </g>\n   <g id=\"patch_39\">\n    <path clip-path=\"url(#p9e979b596e)\" d=\"M 103.291136 224.64 \nL 104.812955 224.64 \nL 104.812955 107.188401 \nL 103.291136 107.188401 \nz\n\" style=\"fill:#ff0000;opacity:0.5;\"/>\n   </g>\n   <g id=\"patch_40\">\n    <path clip-path=\"url(#p9e979b596e)\" d=\"M 104.812955 224.64 \nL 106.334773 224.64 \nL 106.334773 224.64 \nL 104.812955 224.64 \nz\n\" style=\"fill:#ff0000;opacity:0.5;\"/>\n   </g>\n   <g id=\"patch_41\">\n    <path clip-path=\"url(#p9e979b596e)\" d=\"M 106.334773 224.64 \nL 107.856591 224.64 \nL 107.856591 77.310362 \nL 106.334773 77.310362 \nz\n\" style=\"fill:#ff0000;opacity:0.5;\"/>\n   </g>\n   <g id=\"patch_42\">\n    <path clip-path=\"url(#p9e979b596e)\" d=\"M 107.856591 224.64 \nL 109.378409 224.64 \nL 109.378409 105.127846 \nL 107.856591 105.127846 \nz\n\" style=\"fill:#ff0000;opacity:0.5;\"/>\n   </g>\n   <g id=\"patch_43\">\n    <path clip-path=\"url(#p9e979b596e)\" d=\"M 109.378409 224.64 \nL 110.900227 224.64 \nL 110.900227 224.64 \nL 109.378409 224.64 \nz\n\" style=\"fill:#ff0000;opacity:0.5;\"/>\n   </g>\n   <g id=\"patch_44\">\n    <path clip-path=\"url(#p9e979b596e)\" d=\"M 110.900227 224.64 \nL 112.422045 224.64 \nL 112.422045 80.401194 \nL 110.900227 80.401194 \nz\n\" style=\"fill:#ff0000;opacity:0.5;\"/>\n   </g>\n   <g id=\"patch_45\">\n    <path clip-path=\"url(#p9e979b596e)\" d=\"M 112.422045 224.64 \nL 113.943864 224.64 \nL 113.943864 104.097569 \nL 112.422045 104.097569 \nz\n\" style=\"fill:#ff0000;opacity:0.5;\"/>\n   </g>\n   <g id=\"patch_46\">\n    <path clip-path=\"url(#p9e979b596e)\" d=\"M 113.943864 224.64 \nL 115.465682 224.64 \nL 115.465682 224.64 \nL 113.943864 224.64 \nz\n\" style=\"fill:#ff0000;opacity:0.5;\"/>\n   </g>\n   <g id=\"patch_47\">\n    <path clip-path=\"url(#p9e979b596e)\" d=\"M 115.465682 224.64 \nL 116.9875 224.64 \nL 116.9875 110.279232 \nL 115.465682 110.279232 \nz\n\" style=\"fill:#ff0000;opacity:0.5;\"/>\n   </g>\n   <g id=\"patch_48\">\n    <path clip-path=\"url(#p9e979b596e)\" d=\"M 116.9875 224.64 \nL 118.509318 224.64 \nL 118.509318 98.946183 \nL 116.9875 98.946183 \nz\n\" style=\"fill:#ff0000;opacity:0.5;\"/>\n   </g>\n   <g id=\"patch_49\">\n    <path clip-path=\"url(#p9e979b596e)\" d=\"M 118.509318 224.64 \nL 120.031136 224.64 \nL 120.031136 224.64 \nL 118.509318 224.64 \nz\n\" style=\"fill:#ff0000;opacity:0.5;\"/>\n   </g>\n   <g id=\"patch_50\">\n    <path clip-path=\"url(#p9e979b596e)\" d=\"M 120.031136 224.64 \nL 121.552955 224.64 \nL 121.552955 131.915053 \nL 120.031136 131.915053 \nz\n\" style=\"fill:#ff0000;opacity:0.5;\"/>\n   </g>\n   <g id=\"patch_51\">\n    <path clip-path=\"url(#p9e979b596e)\" d=\"M 121.552955 224.64 \nL 123.074773 224.64 \nL 123.074773 117.491173 \nL 121.552955 117.491173 \nz\n\" style=\"fill:#ff0000;opacity:0.5;\"/>\n   </g>\n   <g id=\"patch_52\">\n    <path clip-path=\"url(#p9e979b596e)\" d=\"M 123.074773 224.64 \nL 124.596591 224.64 \nL 124.596591 224.64 \nL 123.074773 224.64 \nz\n\" style=\"fill:#ff0000;opacity:0.5;\"/>\n   </g>\n   <g id=\"patch_53\">\n    <path clip-path=\"url(#p9e979b596e)\" d=\"M 124.596591 224.64 \nL 126.118409 224.64 \nL 126.118409 108.218678 \nL 124.596591 108.218678 \nz\n\" style=\"fill:#ff0000;opacity:0.5;\"/>\n   </g>\n   <g id=\"patch_54\">\n    <path clip-path=\"url(#p9e979b596e)\" d=\"M 126.118409 224.64 \nL 127.640227 224.64 \nL 127.640227 131.915053 \nL 126.118409 131.915053 \nz\n\" style=\"fill:#ff0000;opacity:0.5;\"/>\n   </g>\n   <g id=\"patch_55\">\n    <path clip-path=\"url(#p9e979b596e)\" d=\"M 127.640227 224.64 \nL 129.162045 224.64 \nL 129.162045 224.64 \nL 127.640227 224.64 \nz\n\" style=\"fill:#ff0000;opacity:0.5;\"/>\n   </g>\n   <g id=\"patch_56\">\n    <path clip-path=\"url(#p9e979b596e)\" d=\"M 129.162045 224.64 \nL 130.683864 224.64 \nL 130.683864 121.612281 \nL 129.162045 121.612281 \nz\n\" style=\"fill:#ff0000;opacity:0.5;\"/>\n   </g>\n   <g id=\"patch_57\">\n    <path clip-path=\"url(#p9e979b596e)\" d=\"M 130.683864 224.64 \nL 132.205682 224.64 \nL 132.205682 143.248102 \nL 130.683864 143.248102 \nz\n\" style=\"fill:#ff0000;opacity:0.5;\"/>\n   </g>\n   <g id=\"patch_58\">\n    <path clip-path=\"url(#p9e979b596e)\" d=\"M 132.205682 224.64 \nL 133.7275 224.64 \nL 133.7275 224.64 \nL 132.205682 224.64 \nz\n\" style=\"fill:#ff0000;opacity:0.5;\"/>\n   </g>\n   <g id=\"patch_59\">\n    <path clip-path=\"url(#p9e979b596e)\" d=\"M 133.7275 224.64 \nL 135.249318 224.64 \nL 135.249318 137.066439 \nL 133.7275 137.066439 \nz\n\" style=\"fill:#ff0000;opacity:0.5;\"/>\n   </g>\n   <g id=\"patch_60\">\n    <path clip-path=\"url(#p9e979b596e)\" d=\"M 135.249318 224.64 \nL 136.771136 224.64 \nL 136.771136 224.64 \nL 135.249318 224.64 \nz\n\" style=\"fill:#ff0000;opacity:0.5;\"/>\n   </g>\n   <g id=\"patch_61\">\n    <path clip-path=\"url(#p9e979b596e)\" d=\"M 136.771136 224.64 \nL 138.292955 224.64 \nL 138.292955 135.005885 \nL 136.771136 135.005885 \nz\n\" style=\"fill:#ff0000;opacity:0.5;\"/>\n   </g>\n   <g id=\"patch_62\">\n    <path clip-path=\"url(#p9e979b596e)\" d=\"M 138.292955 224.64 \nL 139.814773 224.64 \nL 139.814773 125.73339 \nL 138.292955 125.73339 \nz\n\" style=\"fill:#ff0000;opacity:0.5;\"/>\n   </g>\n   <g id=\"patch_63\">\n    <path clip-path=\"url(#p9e979b596e)\" d=\"M 139.814773 224.64 \nL 141.336591 224.64 \nL 141.336591 224.64 \nL 139.814773 224.64 \nz\n\" style=\"fill:#ff0000;opacity:0.5;\"/>\n   </g>\n   <g id=\"patch_64\">\n    <path clip-path=\"url(#p9e979b596e)\" d=\"M 141.336591 224.64 \nL 142.858409 224.64 \nL 142.858409 138.096716 \nL 141.336591 138.096716 \nz\n\" style=\"fill:#ff0000;opacity:0.5;\"/>\n   </g>\n   <g id=\"patch_65\">\n    <path clip-path=\"url(#p9e979b596e)\" d=\"M 142.858409 224.64 \nL 144.380227 224.64 \nL 144.380227 140.157271 \nL 142.858409 140.157271 \nz\n\" style=\"fill:#ff0000;opacity:0.5;\"/>\n   </g>\n   <g id=\"patch_66\">\n    <path clip-path=\"url(#p9e979b596e)\" d=\"M 144.380227 224.64 \nL 145.902045 224.64 \nL 145.902045 224.64 \nL 144.380227 224.64 \nz\n\" style=\"fill:#ff0000;opacity:0.5;\"/>\n   </g>\n   <g id=\"patch_67\">\n    <path clip-path=\"url(#p9e979b596e)\" d=\"M 145.902045 224.64 \nL 147.423864 224.64 \nL 147.423864 143.248102 \nL 145.902045 143.248102 \nz\n\" style=\"fill:#ff0000;opacity:0.5;\"/>\n   </g>\n   <g id=\"patch_68\">\n    <path clip-path=\"url(#p9e979b596e)\" d=\"M 147.423864 224.64 \nL 148.945682 224.64 \nL 148.945682 160.762814 \nL 147.423864 160.762814 \nz\n\" style=\"fill:#ff0000;opacity:0.5;\"/>\n   </g>\n   <g id=\"patch_69\">\n    <path clip-path=\"url(#p9e979b596e)\" d=\"M 148.945682 224.64 \nL 150.4675 224.64 \nL 150.4675 224.64 \nL 148.945682 224.64 \nz\n\" style=\"fill:#ff0000;opacity:0.5;\"/>\n   </g>\n   <g id=\"patch_70\">\n    <path clip-path=\"url(#p9e979b596e)\" d=\"M 150.4675 224.64 \nL 151.989318 224.64 \nL 151.989318 143.248102 \nL 150.4675 143.248102 \nz\n\" style=\"fill:#ff0000;opacity:0.5;\"/>\n   </g>\n   <g id=\"patch_71\">\n    <path clip-path=\"url(#p9e979b596e)\" d=\"M 151.989318 224.64 \nL 153.511136 224.64 \nL 153.511136 153.550874 \nL 151.989318 153.550874 \nz\n\" style=\"fill:#ff0000;opacity:0.5;\"/>\n   </g>\n   <g id=\"patch_72\">\n    <path clip-path=\"url(#p9e979b596e)\" d=\"M 153.511136 224.64 \nL 155.032955 224.64 \nL 155.032955 224.64 \nL 153.511136 224.64 \nz\n\" style=\"fill:#ff0000;opacity:0.5;\"/>\n   </g>\n   <g id=\"patch_73\">\n    <path clip-path=\"url(#p9e979b596e)\" d=\"M 155.032955 224.64 \nL 156.554773 224.64 \nL 156.554773 158.70226 \nL 155.032955 158.70226 \nz\n\" style=\"fill:#ff0000;opacity:0.5;\"/>\n   </g>\n   <g id=\"patch_74\">\n    <path clip-path=\"url(#p9e979b596e)\" d=\"M 156.554773 224.64 \nL 158.076591 224.64 \nL 158.076591 156.641706 \nL 156.554773 156.641706 \nz\n\" style=\"fill:#ff0000;opacity:0.5;\"/>\n   </g>\n   <g id=\"patch_75\">\n    <path clip-path=\"url(#p9e979b596e)\" d=\"M 158.076591 224.64 \nL 159.598409 224.64 \nL 159.598409 224.64 \nL 158.076591 224.64 \nz\n\" style=\"fill:#ff0000;opacity:0.5;\"/>\n   </g>\n   <g id=\"patch_76\">\n    <path clip-path=\"url(#p9e979b596e)\" d=\"M 159.598409 224.64 \nL 161.120227 224.64 \nL 161.120227 155.611429 \nL 159.598409 155.611429 \nz\n\" style=\"fill:#ff0000;opacity:0.5;\"/>\n   </g>\n   <g id=\"patch_77\">\n    <path clip-path=\"url(#p9e979b596e)\" d=\"M 161.120227 224.64 \nL 162.642045 224.64 \nL 162.642045 141.187548 \nL 161.120227 141.187548 \nz\n\" style=\"fill:#ff0000;opacity:0.5;\"/>\n   </g>\n   <g id=\"patch_78\">\n    <path clip-path=\"url(#p9e979b596e)\" d=\"M 162.642045 224.64 \nL 164.163864 224.64 \nL 164.163864 224.64 \nL 162.642045 224.64 \nz\n\" style=\"fill:#ff0000;opacity:0.5;\"/>\n   </g>\n   <g id=\"patch_79\">\n    <path clip-path=\"url(#p9e979b596e)\" d=\"M 164.163864 224.64 \nL 165.685682 224.64 \nL 165.685682 170.035309 \nL 164.163864 170.035309 \nz\n\" style=\"fill:#ff0000;opacity:0.5;\"/>\n   </g>\n   <g id=\"patch_80\">\n    <path clip-path=\"url(#p9e979b596e)\" d=\"M 165.685682 224.64 \nL 167.2075 224.64 \nL 167.2075 155.611429 \nL 165.685682 155.611429 \nz\n\" style=\"fill:#ff0000;opacity:0.5;\"/>\n   </g>\n   <g id=\"patch_81\">\n    <path clip-path=\"url(#p9e979b596e)\" d=\"M 167.2075 224.64 \nL 168.729318 224.64 \nL 168.729318 224.64 \nL 167.2075 224.64 \nz\n\" style=\"fill:#ff0000;opacity:0.5;\"/>\n   </g>\n   <g id=\"patch_82\">\n    <path clip-path=\"url(#p9e979b596e)\" d=\"M 168.729318 224.64 \nL 170.251136 224.64 \nL 170.251136 149.429765 \nL 168.729318 149.429765 \nz\n\" style=\"fill:#ff0000;opacity:0.5;\"/>\n   </g>\n   <g id=\"patch_83\">\n    <path clip-path=\"url(#p9e979b596e)\" d=\"M 170.251136 224.64 \nL 171.772955 224.64 \nL 171.772955 170.035309 \nL 170.251136 170.035309 \nz\n\" style=\"fill:#ff0000;opacity:0.5;\"/>\n   </g>\n   <g id=\"patch_84\">\n    <path clip-path=\"url(#p9e979b596e)\" d=\"M 171.772955 224.64 \nL 173.294773 224.64 \nL 173.294773 224.64 \nL 171.772955 224.64 \nz\n\" style=\"fill:#ff0000;opacity:0.5;\"/>\n   </g>\n   <g id=\"patch_85\">\n    <path clip-path=\"url(#p9e979b596e)\" d=\"M 173.294773 224.64 \nL 174.816591 224.64 \nL 174.816591 180.338081 \nL 173.294773 180.338081 \nz\n\" style=\"fill:#ff0000;opacity:0.5;\"/>\n   </g>\n   <g id=\"patch_86\">\n    <path clip-path=\"url(#p9e979b596e)\" d=\"M 174.816591 224.64 \nL 176.338409 224.64 \nL 176.338409 171.065586 \nL 174.816591 171.065586 \nz\n\" style=\"fill:#ff0000;opacity:0.5;\"/>\n   </g>\n   <g id=\"patch_87\">\n    <path clip-path=\"url(#p9e979b596e)\" d=\"M 176.338409 224.64 \nL 177.860227 224.64 \nL 177.860227 224.64 \nL 176.338409 224.64 \nz\n\" style=\"fill:#ff0000;opacity:0.5;\"/>\n   </g>\n   <g id=\"patch_88\">\n    <path clip-path=\"url(#p9e979b596e)\" d=\"M 177.860227 224.64 \nL 179.382045 224.64 \nL 179.382045 181.368358 \nL 177.860227 181.368358 \nz\n\" style=\"fill:#ff0000;opacity:0.5;\"/>\n   </g>\n   <g id=\"patch_89\">\n    <path clip-path=\"url(#p9e979b596e)\" d=\"M 179.382045 224.64 \nL 180.903864 224.64 \nL 180.903864 224.64 \nL 179.382045 224.64 \nz\n\" style=\"fill:#ff0000;opacity:0.5;\"/>\n   </g>\n   <g id=\"patch_90\">\n    <path clip-path=\"url(#p9e979b596e)\" d=\"M 180.903864 224.64 \nL 182.425682 224.64 \nL 182.425682 169.005032 \nL 180.903864 169.005032 \nz\n\" style=\"fill:#ff0000;opacity:0.5;\"/>\n   </g>\n   <g id=\"patch_91\">\n    <path clip-path=\"url(#p9e979b596e)\" d=\"M 182.425682 224.64 \nL 183.9475 224.64 \nL 183.9475 163.853646 \nL 182.425682 163.853646 \nz\n\" style=\"fill:#ff0000;opacity:0.5;\"/>\n   </g>\n   <g id=\"patch_92\">\n    <path clip-path=\"url(#p9e979b596e)\" d=\"M 183.9475 224.64 \nL 185.469318 224.64 \nL 185.469318 224.64 \nL 183.9475 224.64 \nz\n\" style=\"fill:#ff0000;opacity:0.5;\"/>\n   </g>\n   <g id=\"patch_93\">\n    <path clip-path=\"url(#p9e979b596e)\" d=\"M 185.469318 224.64 \nL 186.991136 224.64 \nL 186.991136 184.45919 \nL 185.469318 184.45919 \nz\n\" style=\"fill:#ff0000;opacity:0.5;\"/>\n   </g>\n   <g id=\"patch_94\">\n    <path clip-path=\"url(#p9e979b596e)\" d=\"M 186.991136 224.64 \nL 188.512955 224.64 \nL 188.512955 172.095864 \nL 186.991136 172.095864 \nz\n\" style=\"fill:#ff0000;opacity:0.5;\"/>\n   </g>\n   <g id=\"patch_95\">\n    <path clip-path=\"url(#p9e979b596e)\" d=\"M 188.512955 224.64 \nL 190.034773 224.64 \nL 190.034773 224.64 \nL 188.512955 224.64 \nz\n\" style=\"fill:#ff0000;opacity:0.5;\"/>\n   </g>\n   <g id=\"patch_96\">\n    <path clip-path=\"url(#p9e979b596e)\" d=\"M 190.034773 224.64 \nL 191.556591 224.64 \nL 191.556591 179.307804 \nL 190.034773 179.307804 \nz\n\" style=\"fill:#ff0000;opacity:0.5;\"/>\n   </g>\n   <g id=\"patch_97\">\n    <path clip-path=\"url(#p9e979b596e)\" d=\"M 191.556591 224.64 \nL 193.078409 224.64 \nL 193.078409 191.67113 \nL 191.556591 191.67113 \nz\n\" style=\"fill:#ff0000;opacity:0.5;\"/>\n   </g>\n   <g id=\"patch_98\">\n    <path clip-path=\"url(#p9e979b596e)\" d=\"M 193.078409 224.64 \nL 194.600227 224.64 \nL 194.600227 224.64 \nL 193.078409 224.64 \nz\n\" style=\"fill:#ff0000;opacity:0.5;\"/>\n   </g>\n   <g id=\"patch_99\">\n    <path clip-path=\"url(#p9e979b596e)\" d=\"M 194.600227 224.64 \nL 196.122045 224.64 \nL 196.122045 186.519744 \nL 194.600227 186.519744 \nz\n\" style=\"fill:#ff0000;opacity:0.5;\"/>\n   </g>\n   <g id=\"patch_100\">\n    <path clip-path=\"url(#p9e979b596e)\" d=\"M 196.122045 224.64 \nL 197.643864 224.64 \nL 197.643864 181.368358 \nL 196.122045 181.368358 \nz\n\" style=\"fill:#ff0000;opacity:0.5;\"/>\n   </g>\n   <g id=\"patch_101\">\n    <path clip-path=\"url(#p9e979b596e)\" d=\"M 197.643864 224.64 \nL 199.165682 224.64 \nL 199.165682 224.64 \nL 197.643864 224.64 \nz\n\" style=\"fill:#ff0000;opacity:0.5;\"/>\n   </g>\n   <g id=\"patch_102\">\n    <path clip-path=\"url(#p9e979b596e)\" d=\"M 199.165682 224.64 \nL 200.6875 224.64 \nL 200.6875 188.580299 \nL 199.165682 188.580299 \nz\n\" style=\"fill:#ff0000;opacity:0.5;\"/>\n   </g>\n   <g id=\"patch_103\">\n    <path clip-path=\"url(#p9e979b596e)\" d=\"M 200.6875 224.64 \nL 202.209318 224.64 \nL 202.209318 188.580299 \nL 200.6875 188.580299 \nz\n\" style=\"fill:#ff0000;opacity:0.5;\"/>\n   </g>\n   <g id=\"patch_104\">\n    <path clip-path=\"url(#p9e979b596e)\" d=\"M 202.209318 224.64 \nL 203.731136 224.64 \nL 203.731136 224.64 \nL 202.209318 224.64 \nz\n\" style=\"fill:#ff0000;opacity:0.5;\"/>\n   </g>\n   <g id=\"patch_105\">\n    <path clip-path=\"url(#p9e979b596e)\" d=\"M 203.731136 224.64 \nL 205.252955 224.64 \nL 205.252955 188.580299 \nL 203.731136 188.580299 \nz\n\" style=\"fill:#ff0000;opacity:0.5;\"/>\n   </g>\n   <g id=\"patch_106\">\n    <path clip-path=\"url(#p9e979b596e)\" d=\"M 205.252955 224.64 \nL 206.774773 224.64 \nL 206.774773 192.701407 \nL 205.252955 192.701407 \nz\n\" style=\"fill:#ff0000;opacity:0.5;\"/>\n   </g>\n   <g id=\"patch_107\">\n    <path clip-path=\"url(#p9e979b596e)\" d=\"M 206.774773 224.64 \nL 208.296591 224.64 \nL 208.296591 224.64 \nL 206.774773 224.64 \nz\n\" style=\"fill:#ff0000;opacity:0.5;\"/>\n   </g>\n   <g id=\"patch_108\">\n    <path clip-path=\"url(#p9e979b596e)\" d=\"M 208.296591 224.64 \nL 209.818409 224.64 \nL 209.818409 194.761962 \nL 208.296591 194.761962 \nz\n\" style=\"fill:#ff0000;opacity:0.5;\"/>\n   </g>\n   <g id=\"patch_109\">\n    <path clip-path=\"url(#p9e979b596e)\" d=\"M 209.818409 224.64 \nL 211.340227 224.64 \nL 211.340227 184.45919 \nL 209.818409 184.45919 \nz\n\" style=\"fill:#ff0000;opacity:0.5;\"/>\n   </g>\n   <g id=\"patch_110\">\n    <path clip-path=\"url(#p9e979b596e)\" d=\"M 211.340227 224.64 \nL 212.862045 224.64 \nL 212.862045 224.64 \nL 211.340227 224.64 \nz\n\" style=\"fill:#ff0000;opacity:0.5;\"/>\n   </g>\n   <g id=\"patch_111\">\n    <path clip-path=\"url(#p9e979b596e)\" d=\"M 212.862045 224.64 \nL 214.383864 224.64 \nL 214.383864 199.913348 \nL 212.862045 199.913348 \nz\n\" style=\"fill:#ff0000;opacity:0.5;\"/>\n   </g>\n   <g id=\"patch_112\">\n    <path clip-path=\"url(#p9e979b596e)\" d=\"M 214.383864 224.64 \nL 215.905682 224.64 \nL 215.905682 198.88307 \nL 214.383864 198.88307 \nz\n\" style=\"fill:#ff0000;opacity:0.5;\"/>\n   </g>\n   <g id=\"patch_113\">\n    <path clip-path=\"url(#p9e979b596e)\" d=\"M 215.905682 224.64 \nL 217.4275 224.64 \nL 217.4275 224.64 \nL 215.905682 224.64 \nz\n\" style=\"fill:#ff0000;opacity:0.5;\"/>\n   </g>\n   <g id=\"patch_114\">\n    <path clip-path=\"url(#p9e979b596e)\" d=\"M 217.4275 224.64 \nL 218.949318 224.64 \nL 218.949318 190.640853 \nL 217.4275 190.640853 \nz\n\" style=\"fill:#ff0000;opacity:0.5;\"/>\n   </g>\n   <g id=\"patch_115\">\n    <path clip-path=\"url(#p9e979b596e)\" d=\"M 218.949318 224.64 \nL 220.471136 224.64 \nL 220.471136 194.761962 \nL 218.949318 194.761962 \nz\n\" style=\"fill:#ff0000;opacity:0.5;\"/>\n   </g>\n   <g id=\"patch_116\">\n    <path clip-path=\"url(#p9e979b596e)\" d=\"M 220.471136 224.64 \nL 221.992955 224.64 \nL 221.992955 224.64 \nL 220.471136 224.64 \nz\n\" style=\"fill:#ff0000;opacity:0.5;\"/>\n   </g>\n   <g id=\"patch_117\">\n    <path clip-path=\"url(#p9e979b596e)\" d=\"M 221.992955 224.64 \nL 223.514773 224.64 \nL 223.514773 205.064733 \nL 221.992955 205.064733 \nz\n\" style=\"fill:#ff0000;opacity:0.5;\"/>\n   </g>\n   <g id=\"patch_118\">\n    <path clip-path=\"url(#p9e979b596e)\" d=\"M 223.514773 224.64 \nL 225.036591 224.64 \nL 225.036591 224.64 \nL 223.514773 224.64 \nz\n\" style=\"fill:#ff0000;opacity:0.5;\"/>\n   </g>\n   <g id=\"patch_119\">\n    <path clip-path=\"url(#p9e979b596e)\" d=\"M 225.036591 224.64 \nL 226.558409 224.64 \nL 226.558409 200.943625 \nL 225.036591 200.943625 \nz\n\" style=\"fill:#ff0000;opacity:0.5;\"/>\n   </g>\n   <g id=\"patch_120\">\n    <path clip-path=\"url(#p9e979b596e)\" d=\"M 226.558409 224.64 \nL 228.080227 224.64 \nL 228.080227 196.822516 \nL 226.558409 196.822516 \nz\n\" style=\"fill:#ff0000;opacity:0.5;\"/>\n   </g>\n   <g id=\"patch_121\">\n    <path clip-path=\"url(#p9e979b596e)\" d=\"M 228.080227 224.64 \nL 229.602045 224.64 \nL 229.602045 224.64 \nL 228.080227 224.64 \nz\n\" style=\"fill:#ff0000;opacity:0.5;\"/>\n   </g>\n   <g id=\"patch_122\">\n    <path clip-path=\"url(#p9e979b596e)\" d=\"M 229.602045 224.64 \nL 231.123864 224.64 \nL 231.123864 192.701407 \nL 229.602045 192.701407 \nz\n\" style=\"fill:#ff0000;opacity:0.5;\"/>\n   </g>\n   <g id=\"patch_123\">\n    <path clip-path=\"url(#p9e979b596e)\" d=\"M 231.123864 224.64 \nL 232.645682 224.64 \nL 232.645682 194.761962 \nL 231.123864 194.761962 \nz\n\" style=\"fill:#ff0000;opacity:0.5;\"/>\n   </g>\n   <g id=\"patch_124\">\n    <path clip-path=\"url(#p9e979b596e)\" d=\"M 232.645682 224.64 \nL 234.1675 224.64 \nL 234.1675 224.64 \nL 232.645682 224.64 \nz\n\" style=\"fill:#ff0000;opacity:0.5;\"/>\n   </g>\n   <g id=\"patch_125\">\n    <path clip-path=\"url(#p9e979b596e)\" d=\"M 234.1675 224.64 \nL 235.689318 224.64 \nL 235.689318 193.731684 \nL 234.1675 193.731684 \nz\n\" style=\"fill:#ff0000;opacity:0.5;\"/>\n   </g>\n   <g id=\"patch_126\">\n    <path clip-path=\"url(#p9e979b596e)\" d=\"M 235.689318 224.64 \nL 237.211136 224.64 \nL 237.211136 198.88307 \nL 235.689318 198.88307 \nz\n\" style=\"fill:#ff0000;opacity:0.5;\"/>\n   </g>\n   <g id=\"patch_127\">\n    <path clip-path=\"url(#p9e979b596e)\" d=\"M 237.211136 224.64 \nL 238.732955 224.64 \nL 238.732955 224.64 \nL 237.211136 224.64 \nz\n\" style=\"fill:#ff0000;opacity:0.5;\"/>\n   </g>\n   <g id=\"patch_128\">\n    <path clip-path=\"url(#p9e979b596e)\" d=\"M 238.732955 224.64 \nL 240.254773 224.64 \nL 240.254773 195.792239 \nL 238.732955 195.792239 \nz\n\" style=\"fill:#ff0000;opacity:0.5;\"/>\n   </g>\n   <g id=\"patch_129\">\n    <path clip-path=\"url(#p9e979b596e)\" d=\"M 240.254773 224.64 \nL 241.776591 224.64 \nL 241.776591 198.88307 \nL 240.254773 198.88307 \nz\n\" style=\"fill:#ff0000;opacity:0.5;\"/>\n   </g>\n   <g id=\"patch_130\">\n    <path clip-path=\"url(#p9e979b596e)\" d=\"M 241.776591 224.64 \nL 243.298409 224.64 \nL 243.298409 224.64 \nL 241.776591 224.64 \nz\n\" style=\"fill:#ff0000;opacity:0.5;\"/>\n   </g>\n   <g id=\"patch_131\">\n    <path clip-path=\"url(#p9e979b596e)\" d=\"M 243.298409 224.64 \nL 244.820227 224.64 \nL 244.820227 191.67113 \nL 243.298409 191.67113 \nz\n\" style=\"fill:#ff0000;opacity:0.5;\"/>\n   </g>\n   <g id=\"patch_132\">\n    <path clip-path=\"url(#p9e979b596e)\" d=\"M 244.820227 224.64 \nL 246.342045 224.64 \nL 246.342045 200.943625 \nL 244.820227 200.943625 \nz\n\" style=\"fill:#ff0000;opacity:0.5;\"/>\n   </g>\n   <g id=\"patch_133\">\n    <path clip-path=\"url(#p9e979b596e)\" d=\"M 246.342045 224.64 \nL 247.863864 224.64 \nL 247.863864 224.64 \nL 246.342045 224.64 \nz\n\" style=\"fill:#ff0000;opacity:0.5;\"/>\n   </g>\n   <g id=\"patch_134\">\n    <path clip-path=\"url(#p9e979b596e)\" d=\"M 247.863864 224.64 \nL 249.385682 224.64 \nL 249.385682 203.004179 \nL 247.863864 203.004179 \nz\n\" style=\"fill:#ff0000;opacity:0.5;\"/>\n   </g>\n   <g id=\"patch_135\">\n    <path clip-path=\"url(#p9e979b596e)\" d=\"M 249.385682 224.64 \nL 250.9075 224.64 \nL 250.9075 200.943625 \nL 249.385682 200.943625 \nz\n\" style=\"fill:#ff0000;opacity:0.5;\"/>\n   </g>\n   <g id=\"patch_136\">\n    <path clip-path=\"url(#p9e979b596e)\" d=\"M 250.9075 224.64 \nL 252.429318 224.64 \nL 252.429318 224.64 \nL 250.9075 224.64 \nz\n\" style=\"fill:#ff0000;opacity:0.5;\"/>\n   </g>\n   <g id=\"patch_137\">\n    <path clip-path=\"url(#p9e979b596e)\" d=\"M 252.429318 224.64 \nL 253.951136 224.64 \nL 253.951136 204.034456 \nL 252.429318 204.034456 \nz\n\" style=\"fill:#ff0000;opacity:0.5;\"/>\n   </g>\n   <g id=\"patch_138\">\n    <path clip-path=\"url(#p9e979b596e)\" d=\"M 253.951136 224.64 \nL 255.472955 224.64 \nL 255.472955 205.064733 \nL 253.951136 205.064733 \nz\n\" style=\"fill:#ff0000;opacity:0.5;\"/>\n   </g>\n   <g id=\"patch_139\">\n    <path clip-path=\"url(#p9e979b596e)\" d=\"M 255.472955 224.64 \nL 256.994773 224.64 \nL 256.994773 224.64 \nL 255.472955 224.64 \nz\n\" style=\"fill:#ff0000;opacity:0.5;\"/>\n   </g>\n   <g id=\"patch_140\">\n    <path clip-path=\"url(#p9e979b596e)\" d=\"M 256.994773 224.64 \nL 258.516591 224.64 \nL 258.516591 199.913348 \nL 256.994773 199.913348 \nz\n\" style=\"fill:#ff0000;opacity:0.5;\"/>\n   </g>\n   <g id=\"patch_141\">\n    <path clip-path=\"url(#p9e979b596e)\" d=\"M 258.516591 224.64 \nL 260.038409 224.64 \nL 260.038409 205.064733 \nL 258.516591 205.064733 \nz\n\" style=\"fill:#ff0000;opacity:0.5;\"/>\n   </g>\n   <g id=\"patch_142\">\n    <path clip-path=\"url(#p9e979b596e)\" d=\"M 260.038409 224.64 \nL 261.560227 224.64 \nL 261.560227 224.64 \nL 260.038409 224.64 \nz\n\" style=\"fill:#ff0000;opacity:0.5;\"/>\n   </g>\n   <g id=\"patch_143\">\n    <path clip-path=\"url(#p9e979b596e)\" d=\"M 261.560227 224.64 \nL 263.082045 224.64 \nL 263.082045 204.034456 \nL 261.560227 204.034456 \nz\n\" style=\"fill:#ff0000;opacity:0.5;\"/>\n   </g>\n   <g id=\"patch_144\">\n    <path clip-path=\"url(#p9e979b596e)\" d=\"M 263.082045 224.64 \nL 264.603864 224.64 \nL 264.603864 206.095011 \nL 263.082045 206.095011 \nz\n\" style=\"fill:#ff0000;opacity:0.5;\"/>\n   </g>\n   <g id=\"patch_145\">\n    <path clip-path=\"url(#p9e979b596e)\" d=\"M 264.603864 224.64 \nL 266.125682 224.64 \nL 266.125682 224.64 \nL 264.603864 224.64 \nz\n\" style=\"fill:#ff0000;opacity:0.5;\"/>\n   </g>\n   <g id=\"patch_146\">\n    <path clip-path=\"url(#p9e979b596e)\" d=\"M 266.125682 224.64 \nL 267.6475 224.64 \nL 267.6475 200.943625 \nL 266.125682 200.943625 \nz\n\" style=\"fill:#ff0000;opacity:0.5;\"/>\n   </g>\n   <g id=\"patch_147\">\n    <path clip-path=\"url(#p9e979b596e)\" d=\"M 267.6475 224.64 \nL 269.169318 224.64 \nL 269.169318 224.64 \nL 267.6475 224.64 \nz\n\" style=\"fill:#ff0000;opacity:0.5;\"/>\n   </g>\n   <g id=\"patch_148\">\n    <path clip-path=\"url(#p9e979b596e)\" d=\"M 269.169318 224.64 \nL 270.691136 224.64 \nL 270.691136 204.034456 \nL 269.169318 204.034456 \nz\n\" style=\"fill:#ff0000;opacity:0.5;\"/>\n   </g>\n   <g id=\"patch_149\">\n    <path clip-path=\"url(#p9e979b596e)\" d=\"M 270.691136 224.64 \nL 272.212955 224.64 \nL 272.212955 206.095011 \nL 270.691136 206.095011 \nz\n\" style=\"fill:#ff0000;opacity:0.5;\"/>\n   </g>\n   <g id=\"patch_150\">\n    <path clip-path=\"url(#p9e979b596e)\" d=\"M 272.212955 224.64 \nL 273.734773 224.64 \nL 273.734773 224.64 \nL 272.212955 224.64 \nz\n\" style=\"fill:#ff0000;opacity:0.5;\"/>\n   </g>\n   <g id=\"patch_151\">\n    <path clip-path=\"url(#p9e979b596e)\" d=\"M 273.734773 224.64 \nL 275.256591 224.64 \nL 275.256591 213.306951 \nL 273.734773 213.306951 \nz\n\" style=\"fill:#ff0000;opacity:0.5;\"/>\n   </g>\n   <g id=\"patch_152\">\n    <path clip-path=\"url(#p9e979b596e)\" d=\"M 275.256591 224.64 \nL 276.778409 224.64 \nL 276.778409 212.276674 \nL 275.256591 212.276674 \nz\n\" style=\"fill:#ff0000;opacity:0.5;\"/>\n   </g>\n   <g id=\"patch_153\">\n    <path clip-path=\"url(#p9e979b596e)\" d=\"M 276.778409 224.64 \nL 278.300227 224.64 \nL 278.300227 224.64 \nL 276.778409 224.64 \nz\n\" style=\"fill:#ff0000;opacity:0.5;\"/>\n   </g>\n   <g id=\"patch_154\">\n    <path clip-path=\"url(#p9e979b596e)\" d=\"M 278.300227 224.64 \nL 279.822045 224.64 \nL 279.822045 206.095011 \nL 278.300227 206.095011 \nz\n\" style=\"fill:#ff0000;opacity:0.5;\"/>\n   </g>\n   <g id=\"patch_155\">\n    <path clip-path=\"url(#p9e979b596e)\" d=\"M 279.822045 224.64 \nL 281.343864 224.64 \nL 281.343864 210.216119 \nL 279.822045 210.216119 \nz\n\" style=\"fill:#ff0000;opacity:0.5;\"/>\n   </g>\n   <g id=\"patch_156\">\n    <path clip-path=\"url(#p9e979b596e)\" d=\"M 281.343864 224.64 \nL 282.865682 224.64 \nL 282.865682 224.64 \nL 281.343864 224.64 \nz\n\" style=\"fill:#ff0000;opacity:0.5;\"/>\n   </g>\n   <g id=\"patch_157\">\n    <path clip-path=\"url(#p9e979b596e)\" d=\"M 282.865682 224.64 \nL 284.3875 224.64 \nL 284.3875 211.246397 \nL 282.865682 211.246397 \nz\n\" style=\"fill:#ff0000;opacity:0.5;\"/>\n   </g>\n   <g id=\"patch_158\">\n    <path clip-path=\"url(#p9e979b596e)\" d=\"M 284.3875 224.64 \nL 285.909318 224.64 \nL 285.909318 205.064733 \nL 284.3875 205.064733 \nz\n\" style=\"fill:#ff0000;opacity:0.5;\"/>\n   </g>\n   <g id=\"patch_159\">\n    <path clip-path=\"url(#p9e979b596e)\" d=\"M 285.909318 224.64 \nL 287.431136 224.64 \nL 287.431136 224.64 \nL 285.909318 224.64 \nz\n\" style=\"fill:#ff0000;opacity:0.5;\"/>\n   </g>\n   <g id=\"patch_160\">\n    <path clip-path=\"url(#p9e979b596e)\" d=\"M 287.431136 224.64 \nL 288.952955 224.64 \nL 288.952955 215.367505 \nL 287.431136 215.367505 \nz\n\" style=\"fill:#ff0000;opacity:0.5;\"/>\n   </g>\n   <g id=\"patch_161\">\n    <path clip-path=\"url(#p9e979b596e)\" d=\"M 288.952955 224.64 \nL 290.474773 224.64 \nL 290.474773 209.185842 \nL 288.952955 209.185842 \nz\n\" style=\"fill:#ff0000;opacity:0.5;\"/>\n   </g>\n   <g id=\"patch_162\">\n    <path clip-path=\"url(#p9e979b596e)\" d=\"M 290.474773 224.64 \nL 291.996591 224.64 \nL 291.996591 224.64 \nL 290.474773 224.64 \nz\n\" style=\"fill:#ff0000;opacity:0.5;\"/>\n   </g>\n   <g id=\"patch_163\">\n    <path clip-path=\"url(#p9e979b596e)\" d=\"M 291.996591 224.64 \nL 293.518409 224.64 \nL 293.518409 211.246397 \nL 291.996591 211.246397 \nz\n\" style=\"fill:#ff0000;opacity:0.5;\"/>\n   </g>\n   <g id=\"patch_164\">\n    <path clip-path=\"url(#p9e979b596e)\" d=\"M 293.518409 224.64 \nL 295.040227 224.64 \nL 295.040227 212.276674 \nL 293.518409 212.276674 \nz\n\" style=\"fill:#ff0000;opacity:0.5;\"/>\n   </g>\n   <g id=\"patch_165\">\n    <path clip-path=\"url(#p9e979b596e)\" d=\"M 295.040227 224.64 \nL 296.562045 224.64 \nL 296.562045 224.64 \nL 295.040227 224.64 \nz\n\" style=\"fill:#ff0000;opacity:0.5;\"/>\n   </g>\n   <g id=\"patch_166\">\n    <path clip-path=\"url(#p9e979b596e)\" d=\"M 296.562045 224.64 \nL 298.083864 224.64 \nL 298.083864 213.306951 \nL 296.562045 213.306951 \nz\n\" style=\"fill:#ff0000;opacity:0.5;\"/>\n   </g>\n   <g id=\"patch_167\">\n    <path clip-path=\"url(#p9e979b596e)\" d=\"M 298.083864 224.64 \nL 299.605682 224.64 \nL 299.605682 211.246397 \nL 298.083864 211.246397 \nz\n\" style=\"fill:#ff0000;opacity:0.5;\"/>\n   </g>\n   <g id=\"patch_168\">\n    <path clip-path=\"url(#p9e979b596e)\" d=\"M 299.605682 224.64 \nL 301.1275 224.64 \nL 301.1275 224.64 \nL 299.605682 224.64 \nz\n\" style=\"fill:#ff0000;opacity:0.5;\"/>\n   </g>\n   <g id=\"patch_169\">\n    <path clip-path=\"url(#p9e979b596e)\" d=\"M 301.1275 224.64 \nL 302.649318 224.64 \nL 302.649318 208.155565 \nL 301.1275 208.155565 \nz\n\" style=\"fill:#ff0000;opacity:0.5;\"/>\n   </g>\n   <g id=\"patch_170\">\n    <path clip-path=\"url(#p9e979b596e)\" d=\"M 302.649318 224.64 \nL 304.171136 224.64 \nL 304.171136 210.216119 \nL 302.649318 210.216119 \nz\n\" style=\"fill:#ff0000;opacity:0.5;\"/>\n   </g>\n   <g id=\"patch_171\">\n    <path clip-path=\"url(#p9e979b596e)\" d=\"M 304.171136 224.64 \nL 305.692955 224.64 \nL 305.692955 224.64 \nL 304.171136 224.64 \nz\n\" style=\"fill:#ff0000;opacity:0.5;\"/>\n   </g>\n   <g id=\"patch_172\">\n    <path clip-path=\"url(#p9e979b596e)\" d=\"M 305.692955 224.64 \nL 307.214773 224.64 \nL 307.214773 213.306951 \nL 305.692955 213.306951 \nz\n\" style=\"fill:#ff0000;opacity:0.5;\"/>\n   </g>\n   <g id=\"patch_173\">\n    <path clip-path=\"url(#p9e979b596e)\" d=\"M 307.214773 224.64 \nL 308.736591 224.64 \nL 308.736591 210.216119 \nL 307.214773 210.216119 \nz\n\" style=\"fill:#ff0000;opacity:0.5;\"/>\n   </g>\n   <g id=\"patch_174\">\n    <path clip-path=\"url(#p9e979b596e)\" d=\"M 308.736591 224.64 \nL 310.258409 224.64 \nL 310.258409 224.64 \nL 308.736591 224.64 \nz\n\" style=\"fill:#ff0000;opacity:0.5;\"/>\n   </g>\n   <g id=\"patch_175\">\n    <path clip-path=\"url(#p9e979b596e)\" d=\"M 310.258409 224.64 \nL 311.780227 224.64 \nL 311.780227 216.397783 \nL 310.258409 216.397783 \nz\n\" style=\"fill:#ff0000;opacity:0.5;\"/>\n   </g>\n   <g id=\"patch_176\">\n    <path clip-path=\"url(#p9e979b596e)\" d=\"M 311.780227 224.64 \nL 313.302045 224.64 \nL 313.302045 224.64 \nL 311.780227 224.64 \nz\n\" style=\"fill:#ff0000;opacity:0.5;\"/>\n   </g>\n   <g id=\"patch_177\">\n    <path clip-path=\"url(#p9e979b596e)\" d=\"M 313.302045 224.64 \nL 314.823864 224.64 \nL 314.823864 209.185842 \nL 313.302045 209.185842 \nz\n\" style=\"fill:#ff0000;opacity:0.5;\"/>\n   </g>\n   <g id=\"patch_178\">\n    <path clip-path=\"url(#p9e979b596e)\" d=\"M 314.823864 224.64 \nL 316.345682 224.64 \nL 316.345682 214.337228 \nL 314.823864 214.337228 \nz\n\" style=\"fill:#ff0000;opacity:0.5;\"/>\n   </g>\n   <g id=\"patch_179\">\n    <path clip-path=\"url(#p9e979b596e)\" d=\"M 316.345682 224.64 \nL 317.8675 224.64 \nL 317.8675 224.64 \nL 316.345682 224.64 \nz\n\" style=\"fill:#ff0000;opacity:0.5;\"/>\n   </g>\n   <g id=\"patch_180\">\n    <path clip-path=\"url(#p9e979b596e)\" d=\"M 317.8675 224.64 \nL 319.389318 224.64 \nL 319.389318 212.276674 \nL 317.8675 212.276674 \nz\n\" style=\"fill:#ff0000;opacity:0.5;\"/>\n   </g>\n   <g id=\"patch_181\">\n    <path clip-path=\"url(#p9e979b596e)\" d=\"M 319.389318 224.64 \nL 320.911136 224.64 \nL 320.911136 211.246397 \nL 319.389318 211.246397 \nz\n\" style=\"fill:#ff0000;opacity:0.5;\"/>\n   </g>\n   <g id=\"patch_182\">\n    <path clip-path=\"url(#p9e979b596e)\" d=\"M 320.911136 224.64 \nL 322.432955 224.64 \nL 322.432955 224.64 \nL 320.911136 224.64 \nz\n\" style=\"fill:#ff0000;opacity:0.5;\"/>\n   </g>\n   <g id=\"patch_183\">\n    <path clip-path=\"url(#p9e979b596e)\" d=\"M 322.432955 224.64 \nL 323.954773 224.64 \nL 323.954773 214.337228 \nL 322.432955 214.337228 \nz\n\" style=\"fill:#ff0000;opacity:0.5;\"/>\n   </g>\n   <g id=\"patch_184\">\n    <path clip-path=\"url(#p9e979b596e)\" d=\"M 323.954773 224.64 \nL 325.476591 224.64 \nL 325.476591 215.367505 \nL 323.954773 215.367505 \nz\n\" style=\"fill:#ff0000;opacity:0.5;\"/>\n   </g>\n   <g id=\"patch_185\">\n    <path clip-path=\"url(#p9e979b596e)\" d=\"M 325.476591 224.64 \nL 326.998409 224.64 \nL 326.998409 224.64 \nL 325.476591 224.64 \nz\n\" style=\"fill:#ff0000;opacity:0.5;\"/>\n   </g>\n   <g id=\"patch_186\">\n    <path clip-path=\"url(#p9e979b596e)\" d=\"M 326.998409 224.64 \nL 328.520227 224.64 \nL 328.520227 218.458337 \nL 326.998409 218.458337 \nz\n\" style=\"fill:#ff0000;opacity:0.5;\"/>\n   </g>\n   <g id=\"patch_187\">\n    <path clip-path=\"url(#p9e979b596e)\" d=\"M 328.520227 224.64 \nL 330.042045 224.64 \nL 330.042045 218.458337 \nL 328.520227 218.458337 \nz\n\" style=\"fill:#ff0000;opacity:0.5;\"/>\n   </g>\n   <g id=\"patch_188\">\n    <path clip-path=\"url(#p9e979b596e)\" d=\"M 330.042045 224.64 \nL 331.563864 224.64 \nL 331.563864 224.64 \nL 330.042045 224.64 \nz\n\" style=\"fill:#ff0000;opacity:0.5;\"/>\n   </g>\n   <g id=\"patch_189\">\n    <path clip-path=\"url(#p9e979b596e)\" d=\"M 331.563864 224.64 \nL 333.085682 224.64 \nL 333.085682 218.458337 \nL 331.563864 218.458337 \nz\n\" style=\"fill:#ff0000;opacity:0.5;\"/>\n   </g>\n   <g id=\"patch_190\">\n    <path clip-path=\"url(#p9e979b596e)\" d=\"M 333.085682 224.64 \nL 334.6075 224.64 \nL 334.6075 222.579446 \nL 333.085682 222.579446 \nz\n\" style=\"fill:#ff0000;opacity:0.5;\"/>\n   </g>\n   <g id=\"patch_191\">\n    <path clip-path=\"url(#p9e979b596e)\" d=\"M 334.6075 224.64 \nL 336.129318 224.64 \nL 336.129318 224.64 \nL 334.6075 224.64 \nz\n\" style=\"fill:#ff0000;opacity:0.5;\"/>\n   </g>\n   <g id=\"patch_192\">\n    <path clip-path=\"url(#p9e979b596e)\" d=\"M 336.129318 224.64 \nL 337.651136 224.64 \nL 337.651136 219.488614 \nL 336.129318 219.488614 \nz\n\" style=\"fill:#ff0000;opacity:0.5;\"/>\n   </g>\n   <g id=\"patch_193\">\n    <path clip-path=\"url(#p9e979b596e)\" d=\"M 337.651136 224.64 \nL 339.172955 224.64 \nL 339.172955 221.549168 \nL 337.651136 221.549168 \nz\n\" style=\"fill:#ff0000;opacity:0.5;\"/>\n   </g>\n   <g id=\"patch_194\">\n    <path clip-path=\"url(#p9e979b596e)\" d=\"M 339.172955 224.64 \nL 340.694773 224.64 \nL 340.694773 224.64 \nL 339.172955 224.64 \nz\n\" style=\"fill:#ff0000;opacity:0.5;\"/>\n   </g>\n   <g id=\"patch_195\">\n    <path clip-path=\"url(#p9e979b596e)\" d=\"M 340.694773 224.64 \nL 342.216591 224.64 \nL 342.216591 221.549168 \nL 340.694773 221.549168 \nz\n\" style=\"fill:#ff0000;opacity:0.5;\"/>\n   </g>\n   <g id=\"patch_196\">\n    <path clip-path=\"url(#p9e979b596e)\" d=\"M 342.216591 224.64 \nL 343.738409 224.64 \nL 343.738409 223.609723 \nL 342.216591 223.609723 \nz\n\" style=\"fill:#ff0000;opacity:0.5;\"/>\n   </g>\n   <g id=\"patch_197\">\n    <path clip-path=\"url(#p9e979b596e)\" d=\"M 343.738409 224.64 \nL 345.260227 224.64 \nL 345.260227 224.64 \nL 343.738409 224.64 \nz\n\" style=\"fill:#ff0000;opacity:0.5;\"/>\n   </g>\n   <g id=\"patch_198\">\n    <path clip-path=\"url(#p9e979b596e)\" d=\"M 345.260227 224.64 \nL 346.782045 224.64 \nL 346.782045 224.64 \nL 345.260227 224.64 \nz\n\" style=\"fill:#ff0000;opacity:0.5;\"/>\n   </g>\n   <g id=\"patch_199\">\n    <path clip-path=\"url(#p9e979b596e)\" d=\"M 346.782045 224.64 \nL 348.303864 224.64 \nL 348.303864 224.64 \nL 346.782045 224.64 \nz\n\" style=\"fill:#ff0000;opacity:0.5;\"/>\n   </g>\n   <g id=\"patch_200\">\n    <path clip-path=\"url(#p9e979b596e)\" d=\"M 348.303864 224.64 \nL 349.825682 224.64 \nL 349.825682 224.64 \nL 348.303864 224.64 \nz\n\" style=\"fill:#ff0000;opacity:0.5;\"/>\n   </g>\n   <g id=\"patch_201\">\n    <path clip-path=\"url(#p9e979b596e)\" d=\"M 349.825682 224.64 \nL 351.3475 224.64 \nL 351.3475 224.64 \nL 349.825682 224.64 \nz\n\" style=\"fill:#ff0000;opacity:0.5;\"/>\n   </g>\n   <g id=\"patch_202\">\n    <path clip-path=\"url(#p9e979b596e)\" d=\"M 351.3475 224.64 \nL 352.869318 224.64 \nL 352.869318 223.609723 \nL 351.3475 223.609723 \nz\n\" style=\"fill:#ff0000;opacity:0.5;\"/>\n   </g>\n   <g id=\"matplotlib.axis_1\">\n    <g id=\"xtick_1\">\n     <g id=\"line2d_1\">\n      <defs>\n       <path d=\"M 0 0 \nL 0 3.5 \n\" id=\"mfdfd7436cd\" style=\"stroke:#000000;stroke-width:0.8;\"/>\n      </defs>\n      <g>\n       <use style=\"stroke:#000000;stroke-width:0.8;\" x=\"39.212136\" xlink:href=\"#mfdfd7436cd\" y=\"224.64\"/>\n      </g>\n     </g>\n     <g id=\"text_1\">\n      <!-- 0 -->\n      <g transform=\"translate(36.030886 239.238437)scale(0.1 -0.1)\">\n       <defs>\n        <path d=\"M 2034 4250 \nQ 1547 4250 1301 3770 \nQ 1056 3291 1056 2328 \nQ 1056 1369 1301 889 \nQ 1547 409 2034 409 \nQ 2525 409 2770 889 \nQ 3016 1369 3016 2328 \nQ 3016 3291 2770 3770 \nQ 2525 4250 2034 4250 \nz\nM 2034 4750 \nQ 2819 4750 3233 4129 \nQ 3647 3509 3647 2328 \nQ 3647 1150 3233 529 \nQ 2819 -91 2034 -91 \nQ 1250 -91 836 529 \nQ 422 1150 422 2328 \nQ 422 3509 836 4129 \nQ 1250 4750 2034 4750 \nz\n\" id=\"DejaVuSans-30\" transform=\"scale(0.015625)\"/>\n       </defs>\n       <use xlink:href=\"#DejaVuSans-30\"/>\n      </g>\n     </g>\n    </g>\n    <g id=\"xtick_2\">\n     <g id=\"line2d_2\">\n      <g>\n       <use style=\"stroke:#000000;stroke-width:0.8;\" x=\"85.679866\" xlink:href=\"#mfdfd7436cd\" y=\"224.64\"/>\n      </g>\n     </g>\n     <g id=\"text_2\">\n      <!-- 20 -->\n      <g transform=\"translate(79.317366 239.238437)scale(0.1 -0.1)\">\n       <defs>\n        <path d=\"M 1228 531 \nL 3431 531 \nL 3431 0 \nL 469 0 \nL 469 531 \nQ 828 903 1448 1529 \nQ 2069 2156 2228 2338 \nQ 2531 2678 2651 2914 \nQ 2772 3150 2772 3378 \nQ 2772 3750 2511 3984 \nQ 2250 4219 1831 4219 \nQ 1534 4219 1204 4116 \nQ 875 4013 500 3803 \nL 500 4441 \nQ 881 4594 1212 4672 \nQ 1544 4750 1819 4750 \nQ 2544 4750 2975 4387 \nQ 3406 4025 3406 3419 \nQ 3406 3131 3298 2873 \nQ 3191 2616 2906 2266 \nQ 2828 2175 2409 1742 \nQ 1991 1309 1228 531 \nz\n\" id=\"DejaVuSans-32\" transform=\"scale(0.015625)\"/>\n       </defs>\n       <use xlink:href=\"#DejaVuSans-32\"/>\n       <use x=\"63.623047\" xlink:href=\"#DejaVuSans-30\"/>\n      </g>\n     </g>\n    </g>\n    <g id=\"xtick_3\">\n     <g id=\"line2d_3\">\n      <g>\n       <use style=\"stroke:#000000;stroke-width:0.8;\" x=\"132.147597\" xlink:href=\"#mfdfd7436cd\" y=\"224.64\"/>\n      </g>\n     </g>\n     <g id=\"text_3\">\n      <!-- 40 -->\n      <g transform=\"translate(125.785097 239.238437)scale(0.1 -0.1)\">\n       <defs>\n        <path d=\"M 2419 4116 \nL 825 1625 \nL 2419 1625 \nL 2419 4116 \nz\nM 2253 4666 \nL 3047 4666 \nL 3047 1625 \nL 3713 1625 \nL 3713 1100 \nL 3047 1100 \nL 3047 0 \nL 2419 0 \nL 2419 1100 \nL 313 1100 \nL 313 1709 \nL 2253 4666 \nz\n\" id=\"DejaVuSans-34\" transform=\"scale(0.015625)\"/>\n       </defs>\n       <use xlink:href=\"#DejaVuSans-34\"/>\n       <use x=\"63.623047\" xlink:href=\"#DejaVuSans-30\"/>\n      </g>\n     </g>\n    </g>\n    <g id=\"xtick_4\">\n     <g id=\"line2d_4\">\n      <g>\n       <use style=\"stroke:#000000;stroke-width:0.8;\" x=\"178.615328\" xlink:href=\"#mfdfd7436cd\" y=\"224.64\"/>\n      </g>\n     </g>\n     <g id=\"text_4\">\n      <!-- 60 -->\n      <g transform=\"translate(172.252828 239.238437)scale(0.1 -0.1)\">\n       <defs>\n        <path d=\"M 2113 2584 \nQ 1688 2584 1439 2293 \nQ 1191 2003 1191 1497 \nQ 1191 994 1439 701 \nQ 1688 409 2113 409 \nQ 2538 409 2786 701 \nQ 3034 994 3034 1497 \nQ 3034 2003 2786 2293 \nQ 2538 2584 2113 2584 \nz\nM 3366 4563 \nL 3366 3988 \nQ 3128 4100 2886 4159 \nQ 2644 4219 2406 4219 \nQ 1781 4219 1451 3797 \nQ 1122 3375 1075 2522 \nQ 1259 2794 1537 2939 \nQ 1816 3084 2150 3084 \nQ 2853 3084 3261 2657 \nQ 3669 2231 3669 1497 \nQ 3669 778 3244 343 \nQ 2819 -91 2113 -91 \nQ 1303 -91 875 529 \nQ 447 1150 447 2328 \nQ 447 3434 972 4092 \nQ 1497 4750 2381 4750 \nQ 2619 4750 2861 4703 \nQ 3103 4656 3366 4563 \nz\n\" id=\"DejaVuSans-36\" transform=\"scale(0.015625)\"/>\n       </defs>\n       <use xlink:href=\"#DejaVuSans-36\"/>\n       <use x=\"63.623047\" xlink:href=\"#DejaVuSans-30\"/>\n      </g>\n     </g>\n    </g>\n    <g id=\"xtick_5\">\n     <g id=\"line2d_5\">\n      <g>\n       <use style=\"stroke:#000000;stroke-width:0.8;\" x=\"225.083059\" xlink:href=\"#mfdfd7436cd\" y=\"224.64\"/>\n      </g>\n     </g>\n     <g id=\"text_5\">\n      <!-- 80 -->\n      <g transform=\"translate(218.720559 239.238437)scale(0.1 -0.1)\">\n       <defs>\n        <path d=\"M 2034 2216 \nQ 1584 2216 1326 1975 \nQ 1069 1734 1069 1313 \nQ 1069 891 1326 650 \nQ 1584 409 2034 409 \nQ 2484 409 2743 651 \nQ 3003 894 3003 1313 \nQ 3003 1734 2745 1975 \nQ 2488 2216 2034 2216 \nz\nM 1403 2484 \nQ 997 2584 770 2862 \nQ 544 3141 544 3541 \nQ 544 4100 942 4425 \nQ 1341 4750 2034 4750 \nQ 2731 4750 3128 4425 \nQ 3525 4100 3525 3541 \nQ 3525 3141 3298 2862 \nQ 3072 2584 2669 2484 \nQ 3125 2378 3379 2068 \nQ 3634 1759 3634 1313 \nQ 3634 634 3220 271 \nQ 2806 -91 2034 -91 \nQ 1263 -91 848 271 \nQ 434 634 434 1313 \nQ 434 1759 690 2068 \nQ 947 2378 1403 2484 \nz\nM 1172 3481 \nQ 1172 3119 1398 2916 \nQ 1625 2713 2034 2713 \nQ 2441 2713 2670 2916 \nQ 2900 3119 2900 3481 \nQ 2900 3844 2670 4047 \nQ 2441 4250 2034 4250 \nQ 1625 4250 1398 4047 \nQ 1172 3844 1172 3481 \nz\n\" id=\"DejaVuSans-38\" transform=\"scale(0.015625)\"/>\n       </defs>\n       <use xlink:href=\"#DejaVuSans-38\"/>\n       <use x=\"63.623047\" xlink:href=\"#DejaVuSans-30\"/>\n      </g>\n     </g>\n    </g>\n    <g id=\"xtick_6\">\n     <g id=\"line2d_6\">\n      <g>\n       <use style=\"stroke:#000000;stroke-width:0.8;\" x=\"271.550789\" xlink:href=\"#mfdfd7436cd\" y=\"224.64\"/>\n      </g>\n     </g>\n     <g id=\"text_6\">\n      <!-- 100 -->\n      <g transform=\"translate(262.007039 239.238437)scale(0.1 -0.1)\">\n       <defs>\n        <path d=\"M 794 531 \nL 1825 531 \nL 1825 4091 \nL 703 3866 \nL 703 4441 \nL 1819 4666 \nL 2450 4666 \nL 2450 531 \nL 3481 531 \nL 3481 0 \nL 794 0 \nL 794 531 \nz\n\" id=\"DejaVuSans-31\" transform=\"scale(0.015625)\"/>\n       </defs>\n       <use xlink:href=\"#DejaVuSans-31\"/>\n       <use x=\"63.623047\" xlink:href=\"#DejaVuSans-30\"/>\n       <use x=\"127.246094\" xlink:href=\"#DejaVuSans-30\"/>\n      </g>\n     </g>\n    </g>\n    <g id=\"xtick_7\">\n     <g id=\"line2d_7\">\n      <g>\n       <use style=\"stroke:#000000;stroke-width:0.8;\" x=\"318.01852\" xlink:href=\"#mfdfd7436cd\" y=\"224.64\"/>\n      </g>\n     </g>\n     <g id=\"text_7\">\n      <!-- 120 -->\n      <g transform=\"translate(308.47477 239.238437)scale(0.1 -0.1)\">\n       <use xlink:href=\"#DejaVuSans-31\"/>\n       <use x=\"63.623047\" xlink:href=\"#DejaVuSans-32\"/>\n       <use x=\"127.246094\" xlink:href=\"#DejaVuSans-30\"/>\n      </g>\n     </g>\n    </g>\n    <g id=\"xtick_8\">\n     <g id=\"line2d_8\">\n      <g>\n       <use style=\"stroke:#000000;stroke-width:0.8;\" x=\"364.486251\" xlink:href=\"#mfdfd7436cd\" y=\"224.64\"/>\n      </g>\n     </g>\n     <g id=\"text_8\">\n      <!-- 140 -->\n      <g transform=\"translate(354.942501 239.238437)scale(0.1 -0.1)\">\n       <use xlink:href=\"#DejaVuSans-31\"/>\n       <use x=\"63.623047\" xlink:href=\"#DejaVuSans-34\"/>\n       <use x=\"127.246094\" xlink:href=\"#DejaVuSans-30\"/>\n      </g>\n     </g>\n    </g>\n   </g>\n   <g id=\"matplotlib.axis_2\">\n    <g id=\"ytick_1\">\n     <g id=\"line2d_9\">\n      <defs>\n       <path d=\"M 0 0 \nL -3.5 0 \n\" id=\"mf9794b1730\" style=\"stroke:#000000;stroke-width:0.8;\"/>\n      </defs>\n      <g>\n       <use style=\"stroke:#000000;stroke-width:0.8;\" x=\"33.2875\" xlink:href=\"#mf9794b1730\" y=\"224.64\"/>\n      </g>\n     </g>\n     <g id=\"text_9\">\n      <!-- 0 -->\n      <g transform=\"translate(19.925 228.439219)scale(0.1 -0.1)\">\n       <use xlink:href=\"#DejaVuSans-30\"/>\n      </g>\n     </g>\n    </g>\n    <g id=\"ytick_2\">\n     <g id=\"line2d_10\">\n      <g>\n       <use style=\"stroke:#000000;stroke-width:0.8;\" x=\"33.2875\" xlink:href=\"#mf9794b1730\" y=\"198.88307\"/>\n      </g>\n     </g>\n     <g id=\"text_10\">\n      <!-- 25 -->\n      <g transform=\"translate(13.5625 202.682289)scale(0.1 -0.1)\">\n       <defs>\n        <path d=\"M 691 4666 \nL 3169 4666 \nL 3169 4134 \nL 1269 4134 \nL 1269 2991 \nQ 1406 3038 1543 3061 \nQ 1681 3084 1819 3084 \nQ 2600 3084 3056 2656 \nQ 3513 2228 3513 1497 \nQ 3513 744 3044 326 \nQ 2575 -91 1722 -91 \nQ 1428 -91 1123 -41 \nQ 819 9 494 109 \nL 494 744 \nQ 775 591 1075 516 \nQ 1375 441 1709 441 \nQ 2250 441 2565 725 \nQ 2881 1009 2881 1497 \nQ 2881 1984 2565 2268 \nQ 2250 2553 1709 2553 \nQ 1456 2553 1204 2497 \nQ 953 2441 691 2322 \nL 691 4666 \nz\n\" id=\"DejaVuSans-35\" transform=\"scale(0.015625)\"/>\n       </defs>\n       <use xlink:href=\"#DejaVuSans-32\"/>\n       <use x=\"63.623047\" xlink:href=\"#DejaVuSans-35\"/>\n      </g>\n     </g>\n    </g>\n    <g id=\"ytick_3\">\n     <g id=\"line2d_11\">\n      <g>\n       <use style=\"stroke:#000000;stroke-width:0.8;\" x=\"33.2875\" xlink:href=\"#mf9794b1730\" y=\"173.126141\"/>\n      </g>\n     </g>\n     <g id=\"text_11\">\n      <!-- 50 -->\n      <g transform=\"translate(13.5625 176.925359)scale(0.1 -0.1)\">\n       <use xlink:href=\"#DejaVuSans-35\"/>\n       <use x=\"63.623047\" xlink:href=\"#DejaVuSans-30\"/>\n      </g>\n     </g>\n    </g>\n    <g id=\"ytick_4\">\n     <g id=\"line2d_12\">\n      <g>\n       <use style=\"stroke:#000000;stroke-width:0.8;\" x=\"33.2875\" xlink:href=\"#mf9794b1730\" y=\"147.369211\"/>\n      </g>\n     </g>\n     <g id=\"text_12\">\n      <!-- 75 -->\n      <g transform=\"translate(13.5625 151.16843)scale(0.1 -0.1)\">\n       <defs>\n        <path d=\"M 525 4666 \nL 3525 4666 \nL 3525 4397 \nL 1831 0 \nL 1172 0 \nL 2766 4134 \nL 525 4134 \nL 525 4666 \nz\n\" id=\"DejaVuSans-37\" transform=\"scale(0.015625)\"/>\n       </defs>\n       <use xlink:href=\"#DejaVuSans-37\"/>\n       <use x=\"63.623047\" xlink:href=\"#DejaVuSans-35\"/>\n      </g>\n     </g>\n    </g>\n    <g id=\"ytick_5\">\n     <g id=\"line2d_13\">\n      <g>\n       <use style=\"stroke:#000000;stroke-width:0.8;\" x=\"33.2875\" xlink:href=\"#mf9794b1730\" y=\"121.612281\"/>\n      </g>\n     </g>\n     <g id=\"text_13\">\n      <!-- 100 -->\n      <g transform=\"translate(7.2 125.4115)scale(0.1 -0.1)\">\n       <use xlink:href=\"#DejaVuSans-31\"/>\n       <use x=\"63.623047\" xlink:href=\"#DejaVuSans-30\"/>\n       <use x=\"127.246094\" xlink:href=\"#DejaVuSans-30\"/>\n      </g>\n     </g>\n    </g>\n    <g id=\"ytick_6\">\n     <g id=\"line2d_14\">\n      <g>\n       <use style=\"stroke:#000000;stroke-width:0.8;\" x=\"33.2875\" xlink:href=\"#mf9794b1730\" y=\"95.855352\"/>\n      </g>\n     </g>\n     <g id=\"text_14\">\n      <!-- 125 -->\n      <g transform=\"translate(7.2 99.654571)scale(0.1 -0.1)\">\n       <use xlink:href=\"#DejaVuSans-31\"/>\n       <use x=\"63.623047\" xlink:href=\"#DejaVuSans-32\"/>\n       <use x=\"127.246094\" xlink:href=\"#DejaVuSans-35\"/>\n      </g>\n     </g>\n    </g>\n    <g id=\"ytick_7\">\n     <g id=\"line2d_15\">\n      <g>\n       <use style=\"stroke:#000000;stroke-width:0.8;\" x=\"33.2875\" xlink:href=\"#mf9794b1730\" y=\"70.098422\"/>\n      </g>\n     </g>\n     <g id=\"text_15\">\n      <!-- 150 -->\n      <g transform=\"translate(7.2 73.897641)scale(0.1 -0.1)\">\n       <use xlink:href=\"#DejaVuSans-31\"/>\n       <use x=\"63.623047\" xlink:href=\"#DejaVuSans-35\"/>\n       <use x=\"127.246094\" xlink:href=\"#DejaVuSans-30\"/>\n      </g>\n     </g>\n    </g>\n    <g id=\"ytick_8\">\n     <g id=\"line2d_16\">\n      <g>\n       <use style=\"stroke:#000000;stroke-width:0.8;\" x=\"33.2875\" xlink:href=\"#mf9794b1730\" y=\"44.341493\"/>\n      </g>\n     </g>\n     <g id=\"text_16\">\n      <!-- 175 -->\n      <g transform=\"translate(7.2 48.140711)scale(0.1 -0.1)\">\n       <use xlink:href=\"#DejaVuSans-31\"/>\n       <use x=\"63.623047\" xlink:href=\"#DejaVuSans-37\"/>\n       <use x=\"127.246094\" xlink:href=\"#DejaVuSans-35\"/>\n      </g>\n     </g>\n    </g>\n    <g id=\"ytick_9\">\n     <g id=\"line2d_17\">\n      <g>\n       <use style=\"stroke:#000000;stroke-width:0.8;\" x=\"33.2875\" xlink:href=\"#mf9794b1730\" y=\"18.584563\"/>\n      </g>\n     </g>\n     <g id=\"text_17\">\n      <!-- 200 -->\n      <g transform=\"translate(7.2 22.383782)scale(0.1 -0.1)\">\n       <use xlink:href=\"#DejaVuSans-32\"/>\n       <use x=\"63.623047\" xlink:href=\"#DejaVuSans-30\"/>\n       <use x=\"127.246094\" xlink:href=\"#DejaVuSans-30\"/>\n      </g>\n     </g>\n    </g>\n   </g>\n   <g id=\"patch_203\">\n    <path d=\"M 33.2875 224.64 \nL 33.2875 7.2 \n\" style=\"fill:none;stroke:#000000;stroke-linecap:square;stroke-linejoin:miter;stroke-width:0.8;\"/>\n   </g>\n   <g id=\"patch_204\">\n    <path d=\"M 368.0875 224.64 \nL 368.0875 7.2 \n\" style=\"fill:none;stroke:#000000;stroke-linecap:square;stroke-linejoin:miter;stroke-width:0.8;\"/>\n   </g>\n   <g id=\"patch_205\">\n    <path d=\"M 33.2875 224.64 \nL 368.0875 224.64 \n\" style=\"fill:none;stroke:#000000;stroke-linecap:square;stroke-linejoin:miter;stroke-width:0.8;\"/>\n   </g>\n   <g id=\"patch_206\">\n    <path d=\"M 33.2875 7.2 \nL 368.0875 7.2 \n\" style=\"fill:none;stroke:#000000;stroke-linecap:square;stroke-linejoin:miter;stroke-width:0.8;\"/>\n   </g>\n  </g>\n </g>\n <defs>\n  <clipPath id=\"p9e979b596e\">\n   <rect height=\"217.44\" width=\"334.8\" x=\"33.2875\" y=\"7.2\"/>\n  </clipPath>\n </defs>\n</svg>\n",
      "image/png": "[encoded data removed]"
     },
     "metadata": {
      "needs_background": "light"
     }
    }
   ],
   "source": [
    "data_length = df_train['comments'].astype(str).apply(len)\n",
    "\n",
    "plt.hist(data_length, bins=200, alpha=0.5, color='r', label='word')\n",
    "\n",
    "print(np.median(data_length))"
   ]
  },
  {
   "source": [
    "## 2. Data Preprocessing\n",
    "\n",
    "### 2.1 Remove unwanted part from comment\n",
    "\n",
    "1. 각종 이모티콘, 특수문자 등을 제거하여 효율성 증대\n",
    "2. 반복되는 문자를 동일하게 처리해서 효율성 증대 ex. ㅋㅋㅋㅋㅋㅋㅋㅋ -> ㅋㅋ"
   ],
   "cell_type": "markdown",
   "metadata": {}
  },
  {
   "source": [
    "import re\n",
    "\n",
    "regular_expression1 = \"[^a-zA-Z0-9ㄱ-ㅎㅏ-ㅣ가-힣 ]\"\n",
    "regular_expression2 = \"ㅋ{1,}\"\n",
    "regular_expression3 = \"ㅎ{1,}\"\n",
    "regular_expression4 = \"ㅜ{1,}\"\n",
    "regular_expression5 = \"ㅠ{1,}\"\n",
    "regular_expression6 = \"[a-zA-Z]{1,}\"\n",
    "regular_expression7 = \"[0-9]{1,}\"\n",
    "\n",
    "\n",
    "for df in dataframes:\n",
    "    df['comments'] = df['comments'].str.replace(regular_expression1, \"\")\n",
    "    df['comments'] = df['comments'].str.replace(regular_expression2, \"ㅋㅋ\")\n",
    "    df['comments'] = df['comments'].str.replace(regular_expression3, \"ㅎㅎ\")\n",
    "    df['comments'] = df['comments'].str.replace(regular_expression4, \"ㅜㅜ\")\n",
    "    df['comments'] = df['comments'].str.replace(regular_expression5, \"ㅠㅠ\")\n",
    "    df['comments'] = df['comments'].str.replace(regular_expression6, \"ENG\")\n",
    "    df['comments'] = df['comments'].str.replace(regular_expression7, \"NUM\")\n",
    "    \n",
    "    print(df.head)"
   ],
   "cell_type": "code",
   "metadata": {
    "tags": []
   },
   "execution_count": 5,
   "outputs": [
    {
     "output_type": "stream",
     "name": "stdout",
     "text": [
      "<bound method NDFrame.head of                                                comments label\n",
      "0     현재 호텔주인 심정 아NUM 난 마른하늘에 날벼락맞고 호텔망하게생겼는데 누군 계속 ...  hate\n",
      "1      한국적인 미인의 대표적인 분너무나 곱고아름다운모습그모습뒤의 슬픔을 미처 알지못했네요ㅠㅠ  none\n",
      "2     못된 넘들남의 고통을 즐겼던 넘들이젠 마땅한 처벌을 받아야지그래야 공정한 사회지심은...  hate\n",
      "3                    NUM화 어설펐는데 NUM화 지나서부터는 갈수록 너무 재밌던데  none\n",
      "4     NUM 사람 얼굴 손톱으로 긁은것은 인격살해이고NUM 동영상이 몰카냐 메걸리안들 생...  hate\n",
      "...                                                 ...   ...\n",
      "7891                                         힘내세요 응원합니다  none\n",
      "7892                                 힘내세요삼가 고인의 명복을 빕니다  none\n",
      "7893                                   힘내세용  항상 응원합니닷    none\n",
      "7894     힘내소연기로 답해요나도 NUM살 인데 이런일 저런일 다 있더라구요인격을 믿습니다홨팅  none\n",
      "7895                                 힘들면 관뒀어야지 그게 현명한거다  none\n",
      "\n",
      "[7896 rows x 2 columns]>\n",
      "<bound method NDFrame.head of                                               comments      label\n",
      "0                            송중기 시대극은 믿고본다 첫회 신선하고 좋았다       none\n",
      "1                                              지현우 나쁜놈  offensive\n",
      "2           알바쓰고많이만들면되지 돈욕심없으면골목식당왜나온겨 기댕기게나하고 산에가서팔어라       hate\n",
      "3                                       설마 ㅈ 현정 작가 아니지       hate\n",
      "4    이미자씨 송혜교씨 돈이 그리 많으면 탈세말고 그돈으로 평소에 불우이웃에게 기부도 좀...  offensive\n",
      "..                                                 ...        ...\n",
      "466                                   지현우 범죄 저지르지 않았나요  offensive\n",
      "467                                    여자인생 망칠 일 있나 ㅋㅋ       hate\n",
      "468             근데 전라도에서 사고가 났는데 굳이 서울까지 와서 병원에 가느 이유는  offensive\n",
      "469  할매젖ENG 뱃살ENG 몸매 ENG라인 유륜은 적당해야됨너무크거나 너무 작아도 EN...       hate\n",
      "470  남자가 잘못한거라면 반성도 없다면나였다면  여자처럼 아주 못되게 할것같다왜 나를 배...       none\n",
      "\n",
      "[471 rows x 2 columns]>\n",
      "<bound method NDFrame.head of                                               comments\n",
      "0           ㅋㅋ 그래도 조아해주는 팬들 많아서 좋겠다 ㅠㅠ 니들은 온유가 안만져줌 ㅠㅠ\n",
      "1                                         둘다 넘 좋다행복하세요\n",
      "2                 근데 만원이하는 현금결제만 하라고 써놓은집 우리나라에 엄청 많은데\n",
      "3                   원곡생각하나도 안나고 러블리즈 신곡나온줄 너무 예쁘게 잘봤어요\n",
      "4                                      장현승 얘도 참 이젠 짠하다\n",
      "..                                                 ...\n",
      "969                         대박 게스트 꼭 봐야징 컨셉이 바뀌니깐 재미지넹\n",
      "970  성형으로 다 뜯어고쳐놓고 예쁜척 성형 전 니 얼굴 다 알고있다 순자처럼 된장냄새나게...\n",
      "971  분위기는 비슷하다만 전혀다른 전개던데 무슨ㅋㅋㄱ 우리나라사람들은 분위기만 비슷하면 ...\n",
      "972                              입에 손가릭이 NUM개 있으니 징그럽다\n",
      "973                              난 조보아 이뻐서 보는데 백종원 관심무\n",
      "\n",
      "[974 rows x 1 columns]>\n",
      "<ipython-input-5-67169fa28d1a>:13: FutureWarning: The default value of regex will change from True to False in a future version.\n",
      "  df['comments'] = df['comments'].str.replace(regular_expression1, \"\")\n",
      "<ipython-input-5-67169fa28d1a>:14: FutureWarning: The default value of regex will change from True to False in a future version.\n",
      "  df['comments'] = df['comments'].str.replace(regular_expression2, \"ㅋㅋ\")\n",
      "<ipython-input-5-67169fa28d1a>:15: FutureWarning: The default value of regex will change from True to False in a future version.\n",
      "  df['comments'] = df['comments'].str.replace(regular_expression3, \"ㅎㅎ\")\n",
      "<ipython-input-5-67169fa28d1a>:16: FutureWarning: The default value of regex will change from True to False in a future version.\n",
      "  df['comments'] = df['comments'].str.replace(regular_expression4, \"ㅜㅜ\")\n",
      "<ipython-input-5-67169fa28d1a>:17: FutureWarning: The default value of regex will change from True to False in a future version.\n",
      "  df['comments'] = df['comments'].str.replace(regular_expression5, \"ㅠㅠ\")\n",
      "<ipython-input-5-67169fa28d1a>:18: FutureWarning: The default value of regex will change from True to False in a future version.\n",
      "  df['comments'] = df['comments'].str.replace(regular_expression6, \"ENG\")\n",
      "<ipython-input-5-67169fa28d1a>:19: FutureWarning: The default value of regex will change from True to False in a future version.\n",
      "  df['comments'] = df['comments'].str.replace(regular_expression7, \"NUM\")\n",
      "<ipython-input-5-67169fa28d1a>:13: FutureWarning: The default value of regex will change from True to False in a future version.\n",
      "  df['comments'] = df['comments'].str.replace(regular_expression1, \"\")\n",
      "<ipython-input-5-67169fa28d1a>:14: FutureWarning: The default value of regex will change from True to False in a future version.\n",
      "  df['comments'] = df['comments'].str.replace(regular_expression2, \"ㅋㅋ\")\n",
      "<ipython-input-5-67169fa28d1a>:15: FutureWarning: The default value of regex will change from True to False in a future version.\n",
      "  df['comments'] = df['comments'].str.replace(regular_expression3, \"ㅎㅎ\")\n",
      "<ipython-input-5-67169fa28d1a>:16: FutureWarning: The default value of regex will change from True to False in a future version.\n",
      "  df['comments'] = df['comments'].str.replace(regular_expression4, \"ㅜㅜ\")\n",
      "<ipython-input-5-67169fa28d1a>:17: FutureWarning: The default value of regex will change from True to False in a future version.\n",
      "  df['comments'] = df['comments'].str.replace(regular_expression5, \"ㅠㅠ\")\n",
      "<ipython-input-5-67169fa28d1a>:18: FutureWarning: The default value of regex will change from True to False in a future version.\n",
      "  df['comments'] = df['comments'].str.replace(regular_expression6, \"ENG\")\n",
      "<ipython-input-5-67169fa28d1a>:19: FutureWarning: The default value of regex will change from True to False in a future version.\n",
      "  df['comments'] = df['comments'].str.replace(regular_expression7, \"NUM\")\n",
      "<ipython-input-5-67169fa28d1a>:13: FutureWarning: The default value of regex will change from True to False in a future version.\n",
      "  df['comments'] = df['comments'].str.replace(regular_expression1, \"\")\n",
      "<ipython-input-5-67169fa28d1a>:14: FutureWarning: The default value of regex will change from True to False in a future version.\n",
      "  df['comments'] = df['comments'].str.replace(regular_expression2, \"ㅋㅋ\")\n",
      "<ipython-input-5-67169fa28d1a>:15: FutureWarning: The default value of regex will change from True to False in a future version.\n",
      "  df['comments'] = df['comments'].str.replace(regular_expression3, \"ㅎㅎ\")\n",
      "<ipython-input-5-67169fa28d1a>:16: FutureWarning: The default value of regex will change from True to False in a future version.\n",
      "  df['comments'] = df['comments'].str.replace(regular_expression4, \"ㅜㅜ\")\n",
      "<ipython-input-5-67169fa28d1a>:17: FutureWarning: The default value of regex will change from True to False in a future version.\n",
      "  df['comments'] = df['comments'].str.replace(regular_expression5, \"ㅠㅠ\")\n",
      "<ipython-input-5-67169fa28d1a>:18: FutureWarning: The default value of regex will change from True to False in a future version.\n",
      "  df['comments'] = df['comments'].str.replace(regular_expression6, \"ENG\")\n",
      "<ipython-input-5-67169fa28d1a>:19: FutureWarning: The default value of regex will change from True to False in a future version.\n",
      "  df['comments'] = df['comments'].str.replace(regular_expression7, \"NUM\")\n"
     ]
    }
   ]
  },
  {
   "source": [
    "### 2.2 Spell check\n",
    "\n",
    "인터넷 댓글이기 때문에, 오타가 많으며 맞춤법이 정확하지 않아 토큰화가 제대로 되지 않는 경우가 있다고 판단했음.\n",
    "\n",
    "이에 따라, 맞춤법 교정을 진행\n",
    "\n",
    "단점 및 부작용\n",
    "- 제대로 교정되지 않을 수 있음\n",
    "- 인터넷 유행어나 신조어 등이 제대로 분석되지 않을 수 있음\n",
    "- 시간이 오래 걸림\n",
    "\n",
    "\n",
    "라이브러리 이용: https://github.com/ssut/py-hanspell"
   ],
   "cell_type": "markdown",
   "metadata": {}
  },
  {
   "cell_type": "code",
   "execution_count": 6,
   "metadata": {
    "tags": []
   },
   "outputs": [
    {
     "output_type": "stream",
     "name": "stderr",
     "text": [
      "100%|██████████| 7896/7896 [08:53<00:00, 14.79it/s]\n",
      "  0%|          | 0/471 [00:00<?, ?it/s]0       현재 호텔 주인 심정 아 NUM 난 마른하늘에 날벼락 맞고 호텔 망하게 생겼는데 누...\n",
      "1       한국적인 미인의 대표적인 분 너무나 곱고 아름다운 모습 그 모습 뒤의 슬픔을 미처 ...\n",
      "2       못된 놈들 남의 고통을 즐겼던 놈들 이젠 마땅한 처벌을 받아야지 그래야 공정한 사회...\n",
      "3                    NUM 화 어설펐는데 NUM 화 지나서부터는 갈수록 너무 재밌던데\n",
      "4       NUM 사람 얼굴 손톱으로 긁은 것은 인격 살해이고 NUM 동영상이 몰카냐 에 걸리...\n",
      "                              ...                        \n",
      "7891                                           힘내세요 응원합니다\n",
      "7892                                  힘내세요 삼가 고인의 명복을 빕니다\n",
      "7893                                     힘내세요  항상 응원합니다  \n",
      "7894    힘내소 연기로 답해요 나도 NUM 살인데 이런 일 저런 일 다 있더라고요 인격을 믿...\n",
      "7895                                  힘들면 관뒀어야지 그게 현명한 거다\n",
      "Name: checked_comments, Length: 7896, dtype: object\n",
      "100%|██████████| 471/471 [00:31<00:00, 15.09it/s]\n",
      "  0%|          | 3/974 [00:00<00:38, 25.09it/s]0                            송중기 시대극은 믿고 본다 첫 회 신선하고 좋았다\n",
      "1                                               지현우 나쁜 놈\n",
      "2      알바쓰고많이만들면되지 돈 욕심 없으면 골목식당 왜 나온 거야 긴 댕기게 나하고 산에...\n",
      "3                                         설마 ㅈ 현정 작가 아니지\n",
      "4      이미자 씨 송혜교 씨 돈이 그리 많으면 탈세 말고 그 돈으로 평소에 불우이웃에게 기...\n",
      "                             ...                        \n",
      "466                                     지현우 범죄 저지르지 않았나요\n",
      "467                                     여자 인생 망칠 일 있나 ㅋㅋ\n",
      "468               근데 전라도에서 사고가 났는데 굳이 서울까지 와서 병원에 가는 이유는\n",
      "469    할미 젖 ENG 뱃살 ENG 몸매 ENG 라인 유륜은 적당해야 됨 너무 크거나 너무...\n",
      "470    남자가 잘못한 거라면 반성도 없다면 나였다면  여자처럼 아주 못되게 할 것 같다 왜...\n",
      "Name: checked_comments, Length: 471, dtype: object\n",
      "100%|██████████| 974/974 [01:03<00:00, 15.34it/s]0          ㅋㅋ 그래도 좋아해 주는 팬들 많아서 좋겠다 ㅠㅠ 너희들은 온유가 안 만져줌 ㅠㅠ\n",
      "1                                        둘 다 너무 좋다 행복하세요\n",
      "2                근데 만 원 이하는 현금결제만 하라고 써놓은 집 우리나라에 엄청 많은데\n",
      "3               원곡 생각 하나도 안 나고 러블리즈 신곡 나온 줄 너무 예쁘게 잘 봤어요\n",
      "4                                        장현승 얘도 참 이젠 짠하다\n",
      "                             ...                        \n",
      "969                         대박 게스트 꼭 봐야지 콘셉트가 바뀌니깐 재미 지네\n",
      "970    성형으로 다 뜯어고쳐놓고 예쁜 척 성형 전 네 얼굴 다 알고 있다 순자처럼 된장 냄...\n",
      "971    분위기는 비슷하다만 전혀 다른 전개던데 무슨ㅋㅋㄱ 우리나라 사람들은 분위기만 비슷하...\n",
      "972                               입에 손가락이 NUM 개 있으니 징그럽다\n",
      "973                                난 조보아 이뻐서 보는데 백종원 관심문\n",
      "Name: checked_comments, Length: 974, dtype: object\n",
      "\n"
     ]
    }
   ],
   "source": [
    "from hanspell import spell_checker\n",
    "\n",
    "for df in dataframes:\n",
    "    df['checked_comments'] = [None] * df.shape[0]\n",
    "\n",
    "    for i in tqdm(range(0, df.shape[0])):\n",
    "        result = spell_checker.check(df['comments'][i])\n",
    "        df['checked_comments'][i] = result.checked\n",
    "\n",
    "    print(df['checked_comments'])"
   ]
  },
  {
   "source": [
    "### 2.3 Tokenize\n",
    "\n",
    "데이터를 토큰화해 모델에 입력으로 사용하므로, 한국어 형태소 분석기를 통해 토큰화\n",
    "\n",
    "조사 등의 불용어를 정의하고 이를 제거"
   ],
   "cell_type": "markdown",
   "metadata": {}
  },
  {
   "cell_type": "code",
   "execution_count": 7,
   "metadata": {
    "tags": []
   },
   "outputs": [
    {
     "output_type": "stream",
     "name": "stderr",
     "text": [
      "100%|██████████| 7896/7896 [00:15<00:00, 524.61it/s]\n",
      " 19%|█▉        | 89/471 [00:00<00:00, 882.86it/s]0       [현재, 호텔, 주인, 심정, <NUM>, 난, 마른하늘, 날벼락, 맞다, 호텔, ...\n",
      "1       [한국, 미인, 대표, 분, 너무나, 곱, 아름답다, 모습, 그, 모습, 뒤, 슬픔...\n",
      "2       [못, 되다, 놈, 남, 고통, 즐기다, 놈, 젠, 마땅하다, 처벌, 받다, 그, ...\n",
      "3           [<NUM>, 화, 어설프다, <NUM>, 화, 지나다, 갈수록, 너무, 재밌다]\n",
      "4       [<NUM>, 사람, 얼굴, 손톱, 긁다, 인격, 살해, <NUM>, 동영상, 몰카...\n",
      "                              ...                        \n",
      "7891                                            [힘내다, 응원]\n",
      "7892                               [힘내다, 삼가다, 고인, 명복, 비다]\n",
      "7893                                        [힘내다, 항상, 응원]\n",
      "7894    [힘내다, 연기, 답, 나다, <NUM>, 살, 인데, 이렇다, 일, 저런, 일, ...\n",
      "7895                               [힘들다, 관, 두다, 그게, 현명하다]\n",
      "Name: tokenized_comments, Length: 7896, dtype: object\n",
      "100%|██████████| 471/471 [00:00<00:00, 687.93it/s]\n",
      "  9%|▉         | 87/974 [00:00<00:01, 867.06it/s]0                     [송중기, 시대극, 믿다, 보다, 첫, 회, 신선하다, 좋다]\n",
      "1                                          [지현우, 나쁘다, 놈]\n",
      "2      [알바, 쓰다, 많이, 만, 되다, 돈, 욕심, 없다, 골목, 식당, 왜, 나오다,...\n",
      "3                                   [설마, ㅈ, 현정, 작가, 아니다]\n",
      "4      [이미자, 씨, 송혜교, 씨, 돈, 그리다, 많다, 탈세, 말고, 그, 돈, 평소,...\n",
      "                             ...                        \n",
      "466                                  [지현우, 범죄, 저지르다, 않다]\n",
      "467                             [여자, 인생, 망치다, 일, 있다, ㅋㅋ]\n",
      "468    [근데, 전라도, 에서, 사고, 나다, 굳이, 서울, 까지, 오다, 병원, 가다, 이유]\n",
      "469    [할미, 젖, <ENG>, 뱃살, <ENG>, 몸매, <ENG>, 라인, 유륜, 적...\n",
      "470    [남자, 잘못, 라면, 반성, 없다, 나다, 여자, 처럼, 아주, 못, 되다, 같다...\n",
      "Name: tokenized_comments, Length: 471, dtype: object\n",
      "100%|██████████| 974/974 [00:01<00:00, 699.42it/s]0      [ㅋㅋ, 그래도, 좋아하다, 주다, 팬, 많다, 좋다, ㅠㅠ, 너희, 온유, 안, ...\n",
      "1                                      [둘, 너무, 좋다, 행복하다]\n",
      "2      [근데, 만, 원, 이하, 현금, 결제, 만, 하라, 써다, 집, 우리나라, 엄청,...\n",
      "3      [원, 곡, 생각, 하나, 안, 나다, 러블, 리즈, 신곡, 나오다, 줄, 너무, ...\n",
      "4                                   [장현승, 얘, 차다, 젠, 짠하다]\n",
      "                             ...                        \n",
      "969                   [대박, 게스트, 꼭, 보다, 콘셉트, 바뀌다, 재미, 지네]\n",
      "970    [성형, 뜯다, 고치다, 예쁘다, 척, 성형, 전, 네, 얼굴, 알, 있다, 순자,...\n",
      "971    [분위기, 비슷하다, 전혀, 다른, 전개, 던데, 무슨, ㅋㅋㄱ, 우리나라, 사람,...\n",
      "972                         [입, 손가락, <NUM>, 개, 있다, 징그럽다]\n",
      "973                        [난, 조보아, 이쁘다, 보다, 백종원, 관심, 문]\n",
      "Name: tokenized_comments, Length: 974, dtype: object\n",
      "\n"
     ]
    }
   ],
   "source": [
    "okt = Okt()\n",
    "\n",
    "stopwords = set(['뭐','으면','을','의','가','이','은','들','는','좀','잘','걍','과','도','를','으로','자','에','와','한','하다', '은', '는', '이', '가', '하', '아', '것', '들', '의', '있', '되', '수', '보', '주', '등', '한', '거', '다', '적', '인', '고', '이고', '라고', '면', '이다', '로', ])\n",
    "\n",
    "for df in dataframes:\n",
    "    df['tokenized_comments'] = [None] * df.shape[0]\n",
    "\n",
    "    for i in tqdm(range(0, df.shape[0])):\n",
    "        #print('Comment_' + str(i+1) + ':          ' + df['comments'][i])\n",
    "        #print('Comment_' + str(i+1) + '_Refined:  ' + result.checked)\n",
    "        tmp = okt.morphs(df['checked_comments'][i], stem=True)\n",
    "        result = []\n",
    "        for word in tmp:\n",
    "            if word == \"ENG\":\n",
    "                word = \"<ENG>\"\n",
    "            if word == \"NUM\":\n",
    "                word = \"<NUM>\"\n",
    "\n",
    "            if word not in stopwords:\n",
    "                result.append(word)\n",
    "\n",
    "        df['tokenized_comments'][i] = result\n",
    "    \n",
    "    print(df['tokenized_comments'])\n",
    "    "
   ]
  },
  {
   "source": [
    "### 2.4 Integer encoding"
   ],
   "cell_type": "markdown",
   "metadata": {}
  },
  {
   "cell_type": "code",
   "execution_count": 8,
   "metadata": {},
   "outputs": [],
   "source": [
    "tokenizer = Tokenizer()\n",
    "tokenizer.fit_on_texts(df_train['tokenized_comments'])\n",
    "\n",
    "sequences = {}\n",
    "\n",
    "sequences['train'] = tokenizer.texts_to_sequences(df_train['tokenized_comments'])\n",
    "sequences['validation'] = tokenizer.texts_to_sequences(df_validation['tokenized_comments'])\n",
    "sequences['test'] = tokenizer.texts_to_sequences(df_test['tokenized_comments'])"
   ]
  },
  {
   "source": [
    "### 2.5 Make vocabulary"
   ],
   "cell_type": "markdown",
   "metadata": {}
  },
  {
   "cell_type": "code",
   "execution_count": 9,
   "metadata": {
    "tags": []
   },
   "outputs": [],
   "source": [
    "vocab = tokenizer.word_index\n",
    "vocab[\"<PAD>\"] = 0\n",
    "vocab[\"<NUM>\"] = -1\n",
    "vocab[\"<ENG>\"] = -2\n",
    "vocab[\"<...>\"] = -3\n",
    "\n",
    "vocab_size = len(vocab)"
   ]
  },
  {
   "source": [
    "### 2.6 Padding for each sequences"
   ],
   "cell_type": "markdown",
   "metadata": {}
  },
  {
   "cell_type": "code",
   "execution_count": 10,
   "metadata": {
    "tags": []
   },
   "outputs": [],
   "source": [
    "MAX_SEQUENCE_LENGTH = 30\n",
    "\n",
    "inputs = {}\n",
    "labels = {}\n",
    "\n",
    "inputs['train'] = pad_sequences(sequences['train'], maxlen = MAX_SEQUENCE_LENGTH, padding='post')\n",
    "inputs['validation'] = pad_sequences(sequences['validation'], maxlen = MAX_SEQUENCE_LENGTH, padding='post')\n",
    "inputs['test'] = pad_sequences(sequences['test'], maxlen = MAX_SEQUENCE_LENGTH, padding='post')"
   ]
  },
  {
   "cell_type": "code",
   "execution_count": 11,
   "metadata": {},
   "outputs": [
    {
     "output_type": "stream",
     "name": "stdout",
     "text": [
      "['한국', '미인', '대표', '분', '너무나', '곱', '아름답다', '모습', '그', '모습', '뒤', '슬픔', '미처', '알다', 'ㅠㅠ'] [ 125 1357  901  115 2035 1358  702  243   33  243  424 2694 5955   47\n   35    0    0    0    0    0    0    0    0    0    0    0    0    0\n    0    0]\n['관상', '과학', '알', '지'] [1424 2750  154   46    0    0    0    0    0    0    0    0    0    0\n    0    0    0    0    0    0    0    0    0    0    0    0    0    0\n    0    0]\n['관상', '안', '좋다'] [1424    6    9    0    0    0    0    0    0    0    0    0    0    0\n    0    0    0    0    0    0    0    0    0    0    0    0    0    0\n    0    0]\n['전라도', '문제', '전라도', '과학', 'ㅡㅡ'] [ 510  132  510 2750  195    0    0    0    0    0    0    0    0    0\n    0    0    0    0    0    0    0    0    0    0    0    0    0    0\n    0    0]\n"
     ]
    }
   ],
   "source": [
    "def show_sequences(line_num, df='train'):\n",
    "    array_num = line_num - 2\n",
    "    if df == 'train':\n",
    "        print(df_train['tokenized_comments'][array_num], inputs['train'][array_num])\n",
    "    else:\n",
    "        print(df_test['tokenized_comments'][array_num], inputs['test'][array_num])\n",
    "\n",
    "show_sequences(3, 'train')\n",
    "show_sequences(626, 'train')\n",
    "show_sequences(605, 'test')\n",
    "show_sequences(319, 'test')"
   ]
  },
  {
   "source": [
    "### 2.7 Modify text label data to integers"
   ],
   "cell_type": "markdown",
   "metadata": {}
  },
  {
   "cell_type": "code",
   "execution_count": 12,
   "metadata": {},
   "outputs": [
    {
     "output_type": "stream",
     "name": "stdout",
     "text": [
      "<class 'str'>\noffensive\n1\n"
     ]
    }
   ],
   "source": [
    "def convert(label):\n",
    "    if label == \"hate\":\n",
    "        return 2\n",
    "    if label == \"offensive\":\n",
    "        return 1\n",
    "    if label == \"none\":\n",
    "        return 0\n",
    "\n",
    "print(type(df_train['label'][234]))\n",
    "print(df_train['label'][234])\n",
    "print(convert(df_train['label'][234]))"
   ]
  },
  {
   "cell_type": "code",
   "execution_count": 13,
   "metadata": {
    "tags": []
   },
   "outputs": [
    {
     "output_type": "stream",
     "name": "stderr",
     "text": [
      "100%|██████████| 7896/7896 [00:00<00:00, 240263.96it/s]\n",
      "100%|██████████| 471/471 [00:00<00:00, 206752.19it/s]\n"
     ]
    }
   ],
   "source": [
    "labels['train'] = [None] * len(df_train['label'])\n",
    "labels['validation'] = [None] * len(df_validation['label'])\n",
    "\n",
    "for i in tqdm(range(0, len(df_train['label']))):\n",
    "    labels['train'][i] = convert(df_train['label'][i])\n",
    "    \n",
    "for i in tqdm(range(0, len(df_validation['label']))):\n",
    "    labels['validation'][i] = convert(df_validation['label'][i])"
   ]
  },
  {
   "source": [
    "## 3. Model - LSTM\n",
    "\n",
    "### 3.1 Define hyperparameter"
   ],
   "cell_type": "markdown",
   "metadata": {}
  },
  {
   "cell_type": "code",
   "execution_count": 14,
   "metadata": {},
   "outputs": [],
   "source": [
    "model_name = 'hate_classifier'\n",
    "BATCH_SIZE = 50\n",
    "NUM_EPOCHS = 30\n",
    "\n",
    "kargs = {'model_name': model_name,\n",
    "        'vocab_size': vocab_size,\n",
    "        'embedding_dimension': 100,\n",
    "        'dropout_rate': 0.25,\n",
    "        'filter_size': 50,\n",
    "        'conv1_kernel_size': 2,\n",
    "        'conv2_kernel_size': 3,\n",
    "        'lstm_dimension': 100,\n",
    "        'dense1_dimension': 100,\n",
    "        'dense2_dimension': 20,\n",
    "        'output_dimension': 3}"
   ]
  },
  {
   "source": [
    "### 3.2 Model implementation"
   ],
   "cell_type": "markdown",
   "metadata": {}
  },
  {
   "cell_type": "code",
   "execution_count": 42,
   "metadata": {},
   "outputs": [],
   "source": [
    "class HATEclassifier(tf.keras.Model):\n",
    "    def __init__(self, **kargs):\n",
    "        super(HATEclassifier, self).__init__(name=kargs['model_name'])\n",
    "        initializer = tf.keras.initializers.HeNormal()\n",
    "\n",
    "        self.embedding = tf.keras.layers.Embedding(input_dim=kargs['vocab_size'], output_dim=kargs['embedding_dimension'])\n",
    "        self.dropout = tf.keras.layers.Dropout(kargs['dropout_rate'])\n",
    "\n",
    "        self.conv1 = tf.keras.layers.Conv1D(filters=kargs['filter_size'], kernel_size=kargs['conv1_kernel_size'], \n",
    "                                            padding='same', activation='relu')\n",
    "        self.conv2 = tf.keras.layers.Conv1D(filters=kargs['filter_size'], kernel_size=kargs['conv1_kernel_size'], \n",
    "                                            padding='same', activation='relu')\n",
    "        self.conv3 = tf.keras.layers.Conv1D(filters=kargs['filter_size'], kernel_size=kargs['conv2_kernel_size'], \n",
    "                                            padding='same', activation='relu')\n",
    "        self.conv4 = tf.keras.layers.Conv1D(filters=kargs['filter_size'], kernel_size=kargs['conv2_kernel_size'], \n",
    "                                            padding='same', activation='relu')\n",
    "        self.pooling = tf.keras.layers.MaxPool1D()\n",
    "\n",
    "        self.lstm1 = tf.keras.layers.LSTM(kargs['lstm_dimension'], return_sequences=True)\n",
    "        self.lstm2 = tf.keras.layers.LSTM(kargs['lstm_dimension'], return_sequences=True)\n",
    "        self.lstm_last = tf.keras.layers.LSTM(kargs['lstm_dimension'])\n",
    "        \n",
    "        self.fc1 = tf.keras.layers.Dense(units=kargs['dense1_dimension'], activation='relu', kernel_initializer=initializer)\n",
    "        self.fc2 = tf.keras.layers.Dense(units=kargs['dense2_dimension'], activation='relu', kernel_initializer=initializer)\n",
    "\n",
    "        self.fc_last = tf.keras.layers.Dense(units=kargs['output_dimension'], activation='softmax', kernel_initializer=initializer)\n",
    "\n",
    "    def call(self, x):\n",
    "        x = self.embedding(x)\n",
    "        x = self.dropout(x)\n",
    "\n",
    "        x = self.conv1(x)\n",
    "        x = self.conv2(x)\n",
    "        x = self.pooling(x)\n",
    "        x = self.conv3(x)\n",
    "        x = self.conv4(x)\n",
    "        x = self.pooling(x)\n",
    "\n",
    "        x = self.lstm1(x)\n",
    "        x = self.lstm2(x)\n",
    "        x = self.lstm_last(x)\n",
    "        x = self.dropout(x)\n",
    "\n",
    "        x = self.fc1(x)\n",
    "        x = self.dropout(x)\n",
    "        x = self.fc2(x)\n",
    "        x = self.dropout(x)\n",
    "\n",
    "        x = self.fc_last(x)\n",
    "\n",
    "        return x"
   ]
  },
  {
   "source": [
    "### 3.3 Generate model instance"
   ],
   "cell_type": "markdown",
   "metadata": {}
  },
  {
   "cell_type": "code",
   "execution_count": 43,
   "metadata": {},
   "outputs": [],
   "source": [
    "model = HATEclassifier(**kargs)\n",
    "model.compile(optimizer=tf.keras.optimizers.Adam(1e-4),\n",
    "            loss=tf.keras.losses.SparseCategoricalCrossentropy(),\n",
    "            metrics=[tf.keras.metrics.SparseCategoricalAccuracy(name='accuracy')])"
   ]
  },
  {
   "source": [
    "## 4. Learning\n",
    "\n",
    "### 4.1 Learning"
   ],
   "cell_type": "markdown",
   "metadata": {}
  },
  {
   "cell_type": "code",
   "execution_count": 44,
   "metadata": {
    "tags": []
   },
   "outputs": [
    {
     "output_type": "stream",
     "name": "stdout",
     "text": [
      "Epoch 1/30\n",
      "158/158 [==============================] - 4s 21ms/step - loss: 1.0834 - accuracy: 0.4157 - val_loss: 1.1092 - val_accuracy: 0.3397\n",
      "\n",
      "Epoch 00001: val_accuracy improved from -inf to 0.33970, saving model to /Users/choijuhwan/Workspace/Git_Repos/korean-hate-speech-detection/hate_classifier/weights.h5\n",
      "Epoch 2/30\n",
      "158/158 [==============================] - 3s 18ms/step - loss: 1.0578 - accuracy: 0.4433 - val_loss: 1.0942 - val_accuracy: 0.3418\n",
      "\n",
      "Epoch 00002: val_accuracy improved from 0.33970 to 0.34183, saving model to /Users/choijuhwan/Workspace/Git_Repos/korean-hate-speech-detection/hate_classifier/weights.h5\n",
      "Epoch 3/30\n",
      "158/158 [==============================] - 3s 20ms/step - loss: 1.0267 - accuracy: 0.4625 - val_loss: 0.9772 - val_accuracy: 0.4883\n",
      "\n",
      "Epoch 00003: val_accuracy improved from 0.34183 to 0.48832, saving model to /Users/choijuhwan/Workspace/Git_Repos/korean-hate-speech-detection/hate_classifier/weights.h5\n",
      "Epoch 4/30\n",
      "158/158 [==============================] - 3s 20ms/step - loss: 0.8885 - accuracy: 0.5671 - val_loss: 0.9611 - val_accuracy: 0.5011\n",
      "\n",
      "Epoch 00004: val_accuracy improved from 0.48832 to 0.50106, saving model to /Users/choijuhwan/Workspace/Git_Repos/korean-hate-speech-detection/hate_classifier/weights.h5\n",
      "Epoch 5/30\n",
      "158/158 [==============================] - 3s 20ms/step - loss: 0.8184 - accuracy: 0.6093 - val_loss: 1.0125 - val_accuracy: 0.5414\n",
      "\n",
      "Epoch 00005: val_accuracy improved from 0.50106 to 0.54140, saving model to /Users/choijuhwan/Workspace/Git_Repos/korean-hate-speech-detection/hate_classifier/weights.h5\n",
      "Epoch 6/30\n",
      "158/158 [==============================] - 3s 20ms/step - loss: 0.7397 - accuracy: 0.6764 - val_loss: 1.2184 - val_accuracy: 0.5393\n",
      "\n",
      "Epoch 00006: val_accuracy did not improve from 0.54140\n",
      "Epoch 7/30\n",
      "158/158 [==============================] - 3s 19ms/step - loss: 0.7091 - accuracy: 0.7042 - val_loss: 1.0499 - val_accuracy: 0.5584\n",
      "\n",
      "Epoch 00007: val_accuracy improved from 0.54140 to 0.55839, saving model to /Users/choijuhwan/Workspace/Git_Repos/korean-hate-speech-detection/hate_classifier/weights.h5\n",
      "Epoch 8/30\n",
      "158/158 [==============================] - 3s 19ms/step - loss: 0.6648 - accuracy: 0.7351 - val_loss: 1.3901 - val_accuracy: 0.5541\n",
      "\n",
      "Epoch 00008: val_accuracy did not improve from 0.55839\n",
      "Epoch 9/30\n",
      "158/158 [==============================] - 3s 19ms/step - loss: 0.6140 - accuracy: 0.7638 - val_loss: 1.2517 - val_accuracy: 0.5563\n",
      "\n",
      "Epoch 00009: val_accuracy did not improve from 0.55839\n",
      "Epoch 10/30\n",
      "158/158 [==============================] - 3s 20ms/step - loss: 0.5621 - accuracy: 0.7869 - val_loss: 1.4697 - val_accuracy: 0.5563\n",
      "\n",
      "Epoch 00010: val_accuracy did not improve from 0.55839\n",
      "Epoch 11/30\n",
      "158/158 [==============================] - 3s 20ms/step - loss: 0.5149 - accuracy: 0.8122 - val_loss: 1.6003 - val_accuracy: 0.5605\n",
      "\n",
      "Epoch 00011: val_accuracy improved from 0.55839 to 0.56051, saving model to /Users/choijuhwan/Workspace/Git_Repos/korean-hate-speech-detection/hate_classifier/weights.h5\n",
      "Epoch 12/30\n",
      "158/158 [==============================] - 3s 20ms/step - loss: 0.5002 - accuracy: 0.8257 - val_loss: 1.8356 - val_accuracy: 0.5393\n",
      "\n",
      "Epoch 00012: val_accuracy did not improve from 0.56051\n",
      "Epoch 13/30\n",
      "158/158 [==============================] - 3s 18ms/step - loss: 0.4700 - accuracy: 0.8378 - val_loss: 1.9229 - val_accuracy: 0.5520\n",
      "\n",
      "Epoch 00013: val_accuracy did not improve from 0.56051\n",
      "Epoch 14/30\n",
      "158/158 [==============================] - 3s 18ms/step - loss: 0.4573 - accuracy: 0.8492 - val_loss: 1.8699 - val_accuracy: 0.5435\n",
      "\n",
      "Epoch 00014: val_accuracy did not improve from 0.56051\n",
      "Epoch 15/30\n",
      "158/158 [==============================] - 3s 18ms/step - loss: 0.4320 - accuracy: 0.8606 - val_loss: 2.1568 - val_accuracy: 0.5329\n",
      "\n",
      "Epoch 00015: val_accuracy did not improve from 0.56051\n",
      "Epoch 16/30\n",
      "158/158 [==============================] - 3s 19ms/step - loss: 0.4022 - accuracy: 0.8726 - val_loss: 1.9814 - val_accuracy: 0.5393\n",
      "\n",
      "Epoch 00016: val_accuracy did not improve from 0.56051\n",
      "Model: \"hate_classifier\"\n",
      "_________________________________________________________________\n",
      "Layer (type)                 Output Shape              Param #   \n",
      "=================================================================\n",
      "embedding_5 (Embedding)      multiple                  1121300   \n",
      "_________________________________________________________________\n",
      "dropout_5 (Dropout)          multiple                  0         \n",
      "_________________________________________________________________\n",
      "conv1d_20 (Conv1D)           multiple                  10050     \n",
      "_________________________________________________________________\n",
      "conv1d_21 (Conv1D)           multiple                  5050      \n",
      "_________________________________________________________________\n",
      "conv1d_22 (Conv1D)           multiple                  7550      \n",
      "_________________________________________________________________\n",
      "conv1d_23 (Conv1D)           multiple                  7550      \n",
      "_________________________________________________________________\n",
      "max_pooling1d_5 (MaxPooling1 multiple                  0         \n",
      "_________________________________________________________________\n",
      "lstm_13 (LSTM)               multiple                  60400     \n",
      "_________________________________________________________________\n",
      "lstm_14 (LSTM)               multiple                  80400     \n",
      "_________________________________________________________________\n",
      "lstm_15 (LSTM)               multiple                  80400     \n",
      "_________________________________________________________________\n",
      "dense_15 (Dense)             multiple                  10100     \n",
      "_________________________________________________________________\n",
      "dense_16 (Dense)             multiple                  2020      \n",
      "_________________________________________________________________\n",
      "dense_17 (Dense)             multiple                  63        \n",
      "=================================================================\n",
      "Total params: 1,384,883\n",
      "Trainable params: 1,384,883\n",
      "Non-trainable params: 0\n",
      "_________________________________________________________________\n"
     ]
    }
   ],
   "source": [
    "#from tensorflow.python.ops.math_ops import reduce_prod\n",
    "#from tensorflow.math import reduce_prod\n",
    "\n",
    "earlystop_callback = tf.keras.callbacks.EarlyStopping(monitor='val_accuracy', min_delta=1e-4, patience=5)\n",
    "\n",
    "checkpoint_path = DATA_PATH + model_name + '/weights.h5'\n",
    "checkpoint_dir = os.path.dirname(checkpoint_path)\n",
    "\n",
    "if os.path.exists(checkpoint_dir):\n",
    "    pass\n",
    "else:\n",
    "    os.makedirs(checkpoint_dir, exist_ok=True)\n",
    "\n",
    "checkpoint_callback = tf.keras.callbacks.ModelCheckpoint(checkpoint_path, monitor='val_accuracy', verbose=1, save_best_only=True, save_weights_only=True)\n",
    "\n",
    "labels['train'] = np.asarray(labels['train']).astype(np.int8)\n",
    "labels['validation'] = np.asarray(labels['validation']).astype(np.int8)\n",
    "\n",
    "history = model.fit(inputs['train'], labels['train'], batch_size=BATCH_SIZE, epochs=NUM_EPOCHS, \n",
    "                    validation_data=(inputs['validation'], labels['validation']), \n",
    "                    callbacks=[earlystop_callback, checkpoint_callback])\n",
    "\n",
    "model.summary()"
   ]
  },
  {
   "source": [
    "## 5. Show results\n",
    "\n",
    "### 5.1 Plot results & validation score"
   ],
   "cell_type": "markdown",
   "metadata": {}
  },
  {
   "cell_type": "code",
   "execution_count": 45,
   "metadata": {},
   "outputs": [
    {
     "output_type": "display_data",
     "data": {
      "text/plain": "<Figure size 432x288 with 1 Axes>",
      "image/svg+xml": "<?xml version=\"1.0\" encoding=\"utf-8\" standalone=\"no\"?>\n<!DOCTYPE svg PUBLIC \"-//W3C//DTD SVG 1.1//EN\"\n  \"http://www.w3.org/Graphics/SVG/1.1/DTD/svg11.dtd\">\n<svg height=\"263.63625pt\" version=\"1.1\" viewBox=\"0 0 372.103125 263.63625\" width=\"372.103125pt\" xmlns=\"http://www.w3.org/2000/svg\" xmlns:xlink=\"http://www.w3.org/1999/xlink\">\n <metadata>\n  <rdf:RDF xmlns:cc=\"http://creativecommons.org/ns#\" xmlns:dc=\"http://purl.org/dc/elements/1.1/\" xmlns:rdf=\"http://www.w3.org/1999/02/22-rdf-syntax-ns#\">\n   <cc:Work>\n    <dc:type rdf:resource=\"http://purl.org/dc/dcmitype/StillImage\"/>\n    <dc:date>2021-04-18T15:33:08.630686</dc:date>\n    <dc:format>image/svg+xml</dc:format>\n    <dc:creator>\n     <cc:Agent>\n      <dc:title>Matplotlib v3.4.1, https://matplotlib.org/</dc:title>\n     </cc:Agent>\n    </dc:creator>\n   </cc:Work>\n  </rdf:RDF>\n </metadata>\n <defs>\n  <style type=\"text/css\">*{stroke-linecap:butt;stroke-linejoin:round;}</style>\n </defs>\n <g id=\"figure_1\">\n  <g id=\"patch_1\">\n   <path d=\"M 0 263.63625 \nL 372.103125 263.63625 \nL 372.103125 0 \nL 0 0 \nz\n\" style=\"fill:none;\"/>\n  </g>\n  <g id=\"axes_1\">\n   <g id=\"patch_2\">\n    <path d=\"M 30.103125 239.758125 \nL 364.903125 239.758125 \nL 364.903125 22.318125 \nL 30.103125 22.318125 \nz\n\" style=\"fill:#ffffff;\"/>\n   </g>\n   <g id=\"matplotlib.axis_1\">\n    <g id=\"xtick_1\">\n     <g id=\"line2d_1\">\n      <defs>\n       <path d=\"M 0 0 \nL 0 3.5 \n\" id=\"m3585cb9353\" style=\"stroke:#000000;stroke-width:0.8;\"/>\n      </defs>\n      <g>\n       <use style=\"stroke:#000000;stroke-width:0.8;\" x=\"45.321307\" xlink:href=\"#m3585cb9353\" y=\"239.758125\"/>\n      </g>\n     </g>\n     <g id=\"text_1\">\n      <!-- 0 -->\n      <g transform=\"translate(42.140057 254.356563)scale(0.1 -0.1)\">\n       <defs>\n        <path d=\"M 2034 4250 \nQ 1547 4250 1301 3770 \nQ 1056 3291 1056 2328 \nQ 1056 1369 1301 889 \nQ 1547 409 2034 409 \nQ 2525 409 2770 889 \nQ 3016 1369 3016 2328 \nQ 3016 3291 2770 3770 \nQ 2525 4250 2034 4250 \nz\nM 2034 4750 \nQ 2819 4750 3233 4129 \nQ 3647 3509 3647 2328 \nQ 3647 1150 3233 529 \nQ 2819 -91 2034 -91 \nQ 1250 -91 836 529 \nQ 422 1150 422 2328 \nQ 422 3509 836 4129 \nQ 1250 4750 2034 4750 \nz\n\" id=\"DejaVuSans-30\" transform=\"scale(0.015625)\"/>\n       </defs>\n       <use xlink:href=\"#DejaVuSans-30\"/>\n      </g>\n     </g>\n    </g>\n    <g id=\"xtick_2\">\n     <g id=\"line2d_2\">\n      <g>\n       <use style=\"stroke:#000000;stroke-width:0.8;\" x=\"85.903125\" xlink:href=\"#m3585cb9353\" y=\"239.758125\"/>\n      </g>\n     </g>\n     <g id=\"text_2\">\n      <!-- 2 -->\n      <g transform=\"translate(82.721875 254.356563)scale(0.1 -0.1)\">\n       <defs>\n        <path d=\"M 1228 531 \nL 3431 531 \nL 3431 0 \nL 469 0 \nL 469 531 \nQ 828 903 1448 1529 \nQ 2069 2156 2228 2338 \nQ 2531 2678 2651 2914 \nQ 2772 3150 2772 3378 \nQ 2772 3750 2511 3984 \nQ 2250 4219 1831 4219 \nQ 1534 4219 1204 4116 \nQ 875 4013 500 3803 \nL 500 4441 \nQ 881 4594 1212 4672 \nQ 1544 4750 1819 4750 \nQ 2544 4750 2975 4387 \nQ 3406 4025 3406 3419 \nQ 3406 3131 3298 2873 \nQ 3191 2616 2906 2266 \nQ 2828 2175 2409 1742 \nQ 1991 1309 1228 531 \nz\n\" id=\"DejaVuSans-32\" transform=\"scale(0.015625)\"/>\n       </defs>\n       <use xlink:href=\"#DejaVuSans-32\"/>\n      </g>\n     </g>\n    </g>\n    <g id=\"xtick_3\">\n     <g id=\"line2d_3\">\n      <g>\n       <use style=\"stroke:#000000;stroke-width:0.8;\" x=\"126.484943\" xlink:href=\"#m3585cb9353\" y=\"239.758125\"/>\n      </g>\n     </g>\n     <g id=\"text_3\">\n      <!-- 4 -->\n      <g transform=\"translate(123.303693 254.356563)scale(0.1 -0.1)\">\n       <defs>\n        <path d=\"M 2419 4116 \nL 825 1625 \nL 2419 1625 \nL 2419 4116 \nz\nM 2253 4666 \nL 3047 4666 \nL 3047 1625 \nL 3713 1625 \nL 3713 1100 \nL 3047 1100 \nL 3047 0 \nL 2419 0 \nL 2419 1100 \nL 313 1100 \nL 313 1709 \nL 2253 4666 \nz\n\" id=\"DejaVuSans-34\" transform=\"scale(0.015625)\"/>\n       </defs>\n       <use xlink:href=\"#DejaVuSans-34\"/>\n      </g>\n     </g>\n    </g>\n    <g id=\"xtick_4\">\n     <g id=\"line2d_4\">\n      <g>\n       <use style=\"stroke:#000000;stroke-width:0.8;\" x=\"167.066761\" xlink:href=\"#m3585cb9353\" y=\"239.758125\"/>\n      </g>\n     </g>\n     <g id=\"text_4\">\n      <!-- 6 -->\n      <g transform=\"translate(163.885511 254.356563)scale(0.1 -0.1)\">\n       <defs>\n        <path d=\"M 2113 2584 \nQ 1688 2584 1439 2293 \nQ 1191 2003 1191 1497 \nQ 1191 994 1439 701 \nQ 1688 409 2113 409 \nQ 2538 409 2786 701 \nQ 3034 994 3034 1497 \nQ 3034 2003 2786 2293 \nQ 2538 2584 2113 2584 \nz\nM 3366 4563 \nL 3366 3988 \nQ 3128 4100 2886 4159 \nQ 2644 4219 2406 4219 \nQ 1781 4219 1451 3797 \nQ 1122 3375 1075 2522 \nQ 1259 2794 1537 2939 \nQ 1816 3084 2150 3084 \nQ 2853 3084 3261 2657 \nQ 3669 2231 3669 1497 \nQ 3669 778 3244 343 \nQ 2819 -91 2113 -91 \nQ 1303 -91 875 529 \nQ 447 1150 447 2328 \nQ 447 3434 972 4092 \nQ 1497 4750 2381 4750 \nQ 2619 4750 2861 4703 \nQ 3103 4656 3366 4563 \nz\n\" id=\"DejaVuSans-36\" transform=\"scale(0.015625)\"/>\n       </defs>\n       <use xlink:href=\"#DejaVuSans-36\"/>\n      </g>\n     </g>\n    </g>\n    <g id=\"xtick_5\">\n     <g id=\"line2d_5\">\n      <g>\n       <use style=\"stroke:#000000;stroke-width:0.8;\" x=\"207.64858\" xlink:href=\"#m3585cb9353\" y=\"239.758125\"/>\n      </g>\n     </g>\n     <g id=\"text_5\">\n      <!-- 8 -->\n      <g transform=\"translate(204.46733 254.356563)scale(0.1 -0.1)\">\n       <defs>\n        <path d=\"M 2034 2216 \nQ 1584 2216 1326 1975 \nQ 1069 1734 1069 1313 \nQ 1069 891 1326 650 \nQ 1584 409 2034 409 \nQ 2484 409 2743 651 \nQ 3003 894 3003 1313 \nQ 3003 1734 2745 1975 \nQ 2488 2216 2034 2216 \nz\nM 1403 2484 \nQ 997 2584 770 2862 \nQ 544 3141 544 3541 \nQ 544 4100 942 4425 \nQ 1341 4750 2034 4750 \nQ 2731 4750 3128 4425 \nQ 3525 4100 3525 3541 \nQ 3525 3141 3298 2862 \nQ 3072 2584 2669 2484 \nQ 3125 2378 3379 2068 \nQ 3634 1759 3634 1313 \nQ 3634 634 3220 271 \nQ 2806 -91 2034 -91 \nQ 1263 -91 848 271 \nQ 434 634 434 1313 \nQ 434 1759 690 2068 \nQ 947 2378 1403 2484 \nz\nM 1172 3481 \nQ 1172 3119 1398 2916 \nQ 1625 2713 2034 2713 \nQ 2441 2713 2670 2916 \nQ 2900 3119 2900 3481 \nQ 2900 3844 2670 4047 \nQ 2441 4250 2034 4250 \nQ 1625 4250 1398 4047 \nQ 1172 3844 1172 3481 \nz\n\" id=\"DejaVuSans-38\" transform=\"scale(0.015625)\"/>\n       </defs>\n       <use xlink:href=\"#DejaVuSans-38\"/>\n      </g>\n     </g>\n    </g>\n    <g id=\"xtick_6\">\n     <g id=\"line2d_6\">\n      <g>\n       <use style=\"stroke:#000000;stroke-width:0.8;\" x=\"248.230398\" xlink:href=\"#m3585cb9353\" y=\"239.758125\"/>\n      </g>\n     </g>\n     <g id=\"text_6\">\n      <!-- 10 -->\n      <g transform=\"translate(241.867898 254.356563)scale(0.1 -0.1)\">\n       <defs>\n        <path d=\"M 794 531 \nL 1825 531 \nL 1825 4091 \nL 703 3866 \nL 703 4441 \nL 1819 4666 \nL 2450 4666 \nL 2450 531 \nL 3481 531 \nL 3481 0 \nL 794 0 \nL 794 531 \nz\n\" id=\"DejaVuSans-31\" transform=\"scale(0.015625)\"/>\n       </defs>\n       <use xlink:href=\"#DejaVuSans-31\"/>\n       <use x=\"63.623047\" xlink:href=\"#DejaVuSans-30\"/>\n      </g>\n     </g>\n    </g>\n    <g id=\"xtick_7\">\n     <g id=\"line2d_7\">\n      <g>\n       <use style=\"stroke:#000000;stroke-width:0.8;\" x=\"288.812216\" xlink:href=\"#m3585cb9353\" y=\"239.758125\"/>\n      </g>\n     </g>\n     <g id=\"text_7\">\n      <!-- 12 -->\n      <g transform=\"translate(282.449716 254.356563)scale(0.1 -0.1)\">\n       <use xlink:href=\"#DejaVuSans-31\"/>\n       <use x=\"63.623047\" xlink:href=\"#DejaVuSans-32\"/>\n      </g>\n     </g>\n    </g>\n    <g id=\"xtick_8\">\n     <g id=\"line2d_8\">\n      <g>\n       <use style=\"stroke:#000000;stroke-width:0.8;\" x=\"329.394034\" xlink:href=\"#m3585cb9353\" y=\"239.758125\"/>\n      </g>\n     </g>\n     <g id=\"text_8\">\n      <!-- 14 -->\n      <g transform=\"translate(323.031534 254.356563)scale(0.1 -0.1)\">\n       <use xlink:href=\"#DejaVuSans-31\"/>\n       <use x=\"63.623047\" xlink:href=\"#DejaVuSans-34\"/>\n      </g>\n     </g>\n    </g>\n   </g>\n   <g id=\"matplotlib.axis_2\">\n    <g id=\"ytick_1\">\n     <g id=\"line2d_9\">\n      <defs>\n       <path d=\"M 0 0 \nL -3.5 0 \n\" id=\"m844ab6888e\" style=\"stroke:#000000;stroke-width:0.8;\"/>\n      </defs>\n      <g>\n       <use style=\"stroke:#000000;stroke-width:0.8;\" x=\"30.103125\" xlink:href=\"#m844ab6888e\" y=\"207.298333\"/>\n      </g>\n     </g>\n     <g id=\"text_9\">\n      <!-- 0.4 -->\n      <g transform=\"translate(7.2 211.097552)scale(0.1 -0.1)\">\n       <defs>\n        <path d=\"M 684 794 \nL 1344 794 \nL 1344 0 \nL 684 0 \nL 684 794 \nz\n\" id=\"DejaVuSans-2e\" transform=\"scale(0.015625)\"/>\n       </defs>\n       <use xlink:href=\"#DejaVuSans-30\"/>\n       <use x=\"63.623047\" xlink:href=\"#DejaVuSans-2e\"/>\n       <use x=\"95.410156\" xlink:href=\"#DejaVuSans-34\"/>\n      </g>\n     </g>\n    </g>\n    <g id=\"ytick_2\">\n     <g id=\"line2d_10\">\n      <g>\n       <use style=\"stroke:#000000;stroke-width:0.8;\" x=\"30.103125\" xlink:href=\"#m844ab6888e\" y=\"169.856895\"/>\n      </g>\n     </g>\n     <g id=\"text_10\">\n      <!-- 0.5 -->\n      <g transform=\"translate(7.2 173.656114)scale(0.1 -0.1)\">\n       <defs>\n        <path d=\"M 691 4666 \nL 3169 4666 \nL 3169 4134 \nL 1269 4134 \nL 1269 2991 \nQ 1406 3038 1543 3061 \nQ 1681 3084 1819 3084 \nQ 2600 3084 3056 2656 \nQ 3513 2228 3513 1497 \nQ 3513 744 3044 326 \nQ 2575 -91 1722 -91 \nQ 1428 -91 1123 -41 \nQ 819 9 494 109 \nL 494 744 \nQ 775 591 1075 516 \nQ 1375 441 1709 441 \nQ 2250 441 2565 725 \nQ 2881 1009 2881 1497 \nQ 2881 1984 2565 2268 \nQ 2250 2553 1709 2553 \nQ 1456 2553 1204 2497 \nQ 953 2441 691 2322 \nL 691 4666 \nz\n\" id=\"DejaVuSans-35\" transform=\"scale(0.015625)\"/>\n       </defs>\n       <use xlink:href=\"#DejaVuSans-30\"/>\n       <use x=\"63.623047\" xlink:href=\"#DejaVuSans-2e\"/>\n       <use x=\"95.410156\" xlink:href=\"#DejaVuSans-35\"/>\n      </g>\n     </g>\n    </g>\n    <g id=\"ytick_3\">\n     <g id=\"line2d_11\">\n      <g>\n       <use style=\"stroke:#000000;stroke-width:0.8;\" x=\"30.103125\" xlink:href=\"#m844ab6888e\" y=\"132.415457\"/>\n      </g>\n     </g>\n     <g id=\"text_11\">\n      <!-- 0.6 -->\n      <g transform=\"translate(7.2 136.214675)scale(0.1 -0.1)\">\n       <use xlink:href=\"#DejaVuSans-30\"/>\n       <use x=\"63.623047\" xlink:href=\"#DejaVuSans-2e\"/>\n       <use x=\"95.410156\" xlink:href=\"#DejaVuSans-36\"/>\n      </g>\n     </g>\n    </g>\n    <g id=\"ytick_4\">\n     <g id=\"line2d_12\">\n      <g>\n       <use style=\"stroke:#000000;stroke-width:0.8;\" x=\"30.103125\" xlink:href=\"#m844ab6888e\" y=\"94.974018\"/>\n      </g>\n     </g>\n     <g id=\"text_12\">\n      <!-- 0.7 -->\n      <g transform=\"translate(7.2 98.773237)scale(0.1 -0.1)\">\n       <defs>\n        <path d=\"M 525 4666 \nL 3525 4666 \nL 3525 4397 \nL 1831 0 \nL 1172 0 \nL 2766 4134 \nL 525 4134 \nL 525 4666 \nz\n\" id=\"DejaVuSans-37\" transform=\"scale(0.015625)\"/>\n       </defs>\n       <use xlink:href=\"#DejaVuSans-30\"/>\n       <use x=\"63.623047\" xlink:href=\"#DejaVuSans-2e\"/>\n       <use x=\"95.410156\" xlink:href=\"#DejaVuSans-37\"/>\n      </g>\n     </g>\n    </g>\n    <g id=\"ytick_5\">\n     <g id=\"line2d_13\">\n      <g>\n       <use style=\"stroke:#000000;stroke-width:0.8;\" x=\"30.103125\" xlink:href=\"#m844ab6888e\" y=\"57.53258\"/>\n      </g>\n     </g>\n     <g id=\"text_13\">\n      <!-- 0.8 -->\n      <g transform=\"translate(7.2 61.331799)scale(0.1 -0.1)\">\n       <use xlink:href=\"#DejaVuSans-30\"/>\n       <use x=\"63.623047\" xlink:href=\"#DejaVuSans-2e\"/>\n       <use x=\"95.410156\" xlink:href=\"#DejaVuSans-38\"/>\n      </g>\n     </g>\n    </g>\n   </g>\n   <g id=\"line2d_14\">\n    <path clip-path=\"url(#pb9ca0d00f0)\" d=\"M 45.321307 195.130812 \nL 65.612216 191.764117 \nL 85.903125 176.874792 \nL 106.194034 142.543988 \nL 126.484943 126.658887 \nL 146.775852 106.885478 \nL 167.066761 92.849683 \nL 187.35767 83.176361 \nL 207.64858 73.265945 \nL 227.939489 62.739094 \nL 248.230398 55.721207 \nL 268.521307 49.367158 \nL 288.812216 46.095309 \nL 309.103125 41.400895 \nL 329.394034 37.654858 \nL 349.684943 32.201761 \n\" style=\"fill:none;stroke:#1f77b4;stroke-linecap:square;stroke-width:1.5;\"/>\n   </g>\n   <g id=\"line2d_15\">\n    <path clip-path=\"url(#pb9ca0d00f0)\" d=\"M 45.321307 229.874489 \nL 65.612216 229.079552 \nL 85.903125 174.229042 \nL 106.194034 169.459432 \nL 126.484943 154.355665 \nL 146.775852 155.150591 \nL 167.066761 147.996192 \nL 187.35767 149.586044 \nL 207.64858 148.791118 \nL 227.939489 148.791118 \nL 248.230398 147.201244 \nL 268.521307 155.150591 \nL 288.812216 150.380992 \nL 309.103125 153.560717 \nL 329.394034 157.535412 \nL 349.684943 155.150591 \n\" style=\"fill:none;stroke:#ff7f0e;stroke-linecap:square;stroke-width:1.5;\"/>\n   </g>\n   <g id=\"patch_3\">\n    <path d=\"M 30.103125 239.758125 \nL 30.103125 22.318125 \n\" style=\"fill:none;stroke:#000000;stroke-linecap:square;stroke-linejoin:miter;stroke-width:0.8;\"/>\n   </g>\n   <g id=\"patch_4\">\n    <path d=\"M 364.903125 239.758125 \nL 364.903125 22.318125 \n\" style=\"fill:none;stroke:#000000;stroke-linecap:square;stroke-linejoin:miter;stroke-width:0.8;\"/>\n   </g>\n   <g id=\"patch_5\">\n    <path d=\"M 30.103125 239.758125 \nL 364.903125 239.758125 \n\" style=\"fill:none;stroke:#000000;stroke-linecap:square;stroke-linejoin:miter;stroke-width:0.8;\"/>\n   </g>\n   <g id=\"patch_6\">\n    <path d=\"M 30.103125 22.318125 \nL 364.903125 22.318125 \n\" style=\"fill:none;stroke:#000000;stroke-linecap:square;stroke-linejoin:miter;stroke-width:0.8;\"/>\n   </g>\n   <g id=\"text_14\">\n    <!-- hate_classifier - 56051 -->\n    <g transform=\"translate(129.415313 16.318125)scale(0.12 -0.12)\">\n     <defs>\n      <path d=\"M 3513 2113 \nL 3513 0 \nL 2938 0 \nL 2938 2094 \nQ 2938 2591 2744 2837 \nQ 2550 3084 2163 3084 \nQ 1697 3084 1428 2787 \nQ 1159 2491 1159 1978 \nL 1159 0 \nL 581 0 \nL 581 4863 \nL 1159 4863 \nL 1159 2956 \nQ 1366 3272 1645 3428 \nQ 1925 3584 2291 3584 \nQ 2894 3584 3203 3211 \nQ 3513 2838 3513 2113 \nz\n\" id=\"DejaVuSans-68\" transform=\"scale(0.015625)\"/>\n      <path d=\"M 2194 1759 \nQ 1497 1759 1228 1600 \nQ 959 1441 959 1056 \nQ 959 750 1161 570 \nQ 1363 391 1709 391 \nQ 2188 391 2477 730 \nQ 2766 1069 2766 1631 \nL 2766 1759 \nL 2194 1759 \nz\nM 3341 1997 \nL 3341 0 \nL 2766 0 \nL 2766 531 \nQ 2569 213 2275 61 \nQ 1981 -91 1556 -91 \nQ 1019 -91 701 211 \nQ 384 513 384 1019 \nQ 384 1609 779 1909 \nQ 1175 2209 1959 2209 \nL 2766 2209 \nL 2766 2266 \nQ 2766 2663 2505 2880 \nQ 2244 3097 1772 3097 \nQ 1472 3097 1187 3025 \nQ 903 2953 641 2809 \nL 641 3341 \nQ 956 3463 1253 3523 \nQ 1550 3584 1831 3584 \nQ 2591 3584 2966 3190 \nQ 3341 2797 3341 1997 \nz\n\" id=\"DejaVuSans-61\" transform=\"scale(0.015625)\"/>\n      <path d=\"M 1172 4494 \nL 1172 3500 \nL 2356 3500 \nL 2356 3053 \nL 1172 3053 \nL 1172 1153 \nQ 1172 725 1289 603 \nQ 1406 481 1766 481 \nL 2356 481 \nL 2356 0 \nL 1766 0 \nQ 1100 0 847 248 \nQ 594 497 594 1153 \nL 594 3053 \nL 172 3053 \nL 172 3500 \nL 594 3500 \nL 594 4494 \nL 1172 4494 \nz\n\" id=\"DejaVuSans-74\" transform=\"scale(0.015625)\"/>\n      <path d=\"M 3597 1894 \nL 3597 1613 \nL 953 1613 \nQ 991 1019 1311 708 \nQ 1631 397 2203 397 \nQ 2534 397 2845 478 \nQ 3156 559 3463 722 \nL 3463 178 \nQ 3153 47 2828 -22 \nQ 2503 -91 2169 -91 \nQ 1331 -91 842 396 \nQ 353 884 353 1716 \nQ 353 2575 817 3079 \nQ 1281 3584 2069 3584 \nQ 2775 3584 3186 3129 \nQ 3597 2675 3597 1894 \nz\nM 3022 2063 \nQ 3016 2534 2758 2815 \nQ 2500 3097 2075 3097 \nQ 1594 3097 1305 2825 \nQ 1016 2553 972 2059 \nL 3022 2063 \nz\n\" id=\"DejaVuSans-65\" transform=\"scale(0.015625)\"/>\n      <path d=\"M 3263 -1063 \nL 3263 -1509 \nL -63 -1509 \nL -63 -1063 \nL 3263 -1063 \nz\n\" id=\"DejaVuSans-5f\" transform=\"scale(0.015625)\"/>\n      <path d=\"M 3122 3366 \nL 3122 2828 \nQ 2878 2963 2633 3030 \nQ 2388 3097 2138 3097 \nQ 1578 3097 1268 2742 \nQ 959 2388 959 1747 \nQ 959 1106 1268 751 \nQ 1578 397 2138 397 \nQ 2388 397 2633 464 \nQ 2878 531 3122 666 \nL 3122 134 \nQ 2881 22 2623 -34 \nQ 2366 -91 2075 -91 \nQ 1284 -91 818 406 \nQ 353 903 353 1747 \nQ 353 2603 823 3093 \nQ 1294 3584 2113 3584 \nQ 2378 3584 2631 3529 \nQ 2884 3475 3122 3366 \nz\n\" id=\"DejaVuSans-63\" transform=\"scale(0.015625)\"/>\n      <path d=\"M 603 4863 \nL 1178 4863 \nL 1178 0 \nL 603 0 \nL 603 4863 \nz\n\" id=\"DejaVuSans-6c\" transform=\"scale(0.015625)\"/>\n      <path d=\"M 2834 3397 \nL 2834 2853 \nQ 2591 2978 2328 3040 \nQ 2066 3103 1784 3103 \nQ 1356 3103 1142 2972 \nQ 928 2841 928 2578 \nQ 928 2378 1081 2264 \nQ 1234 2150 1697 2047 \nL 1894 2003 \nQ 2506 1872 2764 1633 \nQ 3022 1394 3022 966 \nQ 3022 478 2636 193 \nQ 2250 -91 1575 -91 \nQ 1294 -91 989 -36 \nQ 684 19 347 128 \nL 347 722 \nQ 666 556 975 473 \nQ 1284 391 1588 391 \nQ 1994 391 2212 530 \nQ 2431 669 2431 922 \nQ 2431 1156 2273 1281 \nQ 2116 1406 1581 1522 \nL 1381 1569 \nQ 847 1681 609 1914 \nQ 372 2147 372 2553 \nQ 372 3047 722 3315 \nQ 1072 3584 1716 3584 \nQ 2034 3584 2315 3537 \nQ 2597 3491 2834 3397 \nz\n\" id=\"DejaVuSans-73\" transform=\"scale(0.015625)\"/>\n      <path d=\"M 603 3500 \nL 1178 3500 \nL 1178 0 \nL 603 0 \nL 603 3500 \nz\nM 603 4863 \nL 1178 4863 \nL 1178 4134 \nL 603 4134 \nL 603 4863 \nz\n\" id=\"DejaVuSans-69\" transform=\"scale(0.015625)\"/>\n      <path d=\"M 2375 4863 \nL 2375 4384 \nL 1825 4384 \nQ 1516 4384 1395 4259 \nQ 1275 4134 1275 3809 \nL 1275 3500 \nL 2222 3500 \nL 2222 3053 \nL 1275 3053 \nL 1275 0 \nL 697 0 \nL 697 3053 \nL 147 3053 \nL 147 3500 \nL 697 3500 \nL 697 3744 \nQ 697 4328 969 4595 \nQ 1241 4863 1831 4863 \nL 2375 4863 \nz\n\" id=\"DejaVuSans-66\" transform=\"scale(0.015625)\"/>\n      <path d=\"M 2631 2963 \nQ 2534 3019 2420 3045 \nQ 2306 3072 2169 3072 \nQ 1681 3072 1420 2755 \nQ 1159 2438 1159 1844 \nL 1159 0 \nL 581 0 \nL 581 3500 \nL 1159 3500 \nL 1159 2956 \nQ 1341 3275 1631 3429 \nQ 1922 3584 2338 3584 \nQ 2397 3584 2469 3576 \nQ 2541 3569 2628 3553 \nL 2631 2963 \nz\n\" id=\"DejaVuSans-72\" transform=\"scale(0.015625)\"/>\n      <path id=\"DejaVuSans-20\" transform=\"scale(0.015625)\"/>\n      <path d=\"M 313 2009 \nL 1997 2009 \nL 1997 1497 \nL 313 1497 \nL 313 2009 \nz\n\" id=\"DejaVuSans-2d\" transform=\"scale(0.015625)\"/>\n     </defs>\n     <use xlink:href=\"#DejaVuSans-68\"/>\n     <use x=\"63.378906\" xlink:href=\"#DejaVuSans-61\"/>\n     <use x=\"124.658203\" xlink:href=\"#DejaVuSans-74\"/>\n     <use x=\"163.867188\" xlink:href=\"#DejaVuSans-65\"/>\n     <use x=\"225.390625\" xlink:href=\"#DejaVuSans-5f\"/>\n     <use x=\"275.390625\" xlink:href=\"#DejaVuSans-63\"/>\n     <use x=\"330.371094\" xlink:href=\"#DejaVuSans-6c\"/>\n     <use x=\"358.154297\" xlink:href=\"#DejaVuSans-61\"/>\n     <use x=\"419.433594\" xlink:href=\"#DejaVuSans-73\"/>\n     <use x=\"471.533203\" xlink:href=\"#DejaVuSans-73\"/>\n     <use x=\"523.632812\" xlink:href=\"#DejaVuSans-69\"/>\n     <use x=\"551.416016\" xlink:href=\"#DejaVuSans-66\"/>\n     <use x=\"586.621094\" xlink:href=\"#DejaVuSans-69\"/>\n     <use x=\"614.404297\" xlink:href=\"#DejaVuSans-65\"/>\n     <use x=\"675.927734\" xlink:href=\"#DejaVuSans-72\"/>\n     <use x=\"717.041016\" xlink:href=\"#DejaVuSans-20\"/>\n     <use x=\"748.828125\" xlink:href=\"#DejaVuSans-2d\"/>\n     <use x=\"784.912109\" xlink:href=\"#DejaVuSans-20\"/>\n     <use x=\"816.699219\" xlink:href=\"#DejaVuSans-35\"/>\n     <use x=\"880.322266\" xlink:href=\"#DejaVuSans-36\"/>\n     <use x=\"943.945312\" xlink:href=\"#DejaVuSans-30\"/>\n     <use x=\"1007.568359\" xlink:href=\"#DejaVuSans-35\"/>\n     <use x=\"1071.191406\" xlink:href=\"#DejaVuSans-31\"/>\n    </g>\n   </g>\n   <g id=\"legend_1\">\n    <g id=\"patch_7\">\n     <path d=\"M 37.103125 59.9525 \nL 169.140625 59.9525 \nQ 171.140625 59.9525 171.140625 57.9525 \nL 171.140625 29.318125 \nQ 171.140625 27.318125 169.140625 27.318125 \nL 37.103125 27.318125 \nQ 35.103125 27.318125 35.103125 29.318125 \nL 35.103125 57.9525 \nQ 35.103125 59.9525 37.103125 59.9525 \nz\n\" style=\"fill:#ffffff;opacity:0.8;stroke:#cccccc;stroke-linejoin:miter;\"/>\n    </g>\n    <g id=\"line2d_16\">\n     <path d=\"M 39.103125 35.416562 \nL 59.103125 35.416562 \n\" style=\"fill:none;stroke:#1f77b4;stroke-linecap:square;stroke-width:1.5;\"/>\n    </g>\n    <g id=\"line2d_17\"/>\n    <g id=\"text_15\">\n     <!-- Accuracy -->\n     <g transform=\"translate(67.103125 38.916562)scale(0.1 -0.1)\">\n      <defs>\n       <path d=\"M 2188 4044 \nL 1331 1722 \nL 3047 1722 \nL 2188 4044 \nz\nM 1831 4666 \nL 2547 4666 \nL 4325 0 \nL 3669 0 \nL 3244 1197 \nL 1141 1197 \nL 716 0 \nL 50 0 \nL 1831 4666 \nz\n\" id=\"DejaVuSans-41\" transform=\"scale(0.015625)\"/>\n       <path d=\"M 544 1381 \nL 544 3500 \nL 1119 3500 \nL 1119 1403 \nQ 1119 906 1312 657 \nQ 1506 409 1894 409 \nQ 2359 409 2629 706 \nQ 2900 1003 2900 1516 \nL 2900 3500 \nL 3475 3500 \nL 3475 0 \nL 2900 0 \nL 2900 538 \nQ 2691 219 2414 64 \nQ 2138 -91 1772 -91 \nQ 1169 -91 856 284 \nQ 544 659 544 1381 \nz\nM 1991 3584 \nL 1991 3584 \nz\n\" id=\"DejaVuSans-75\" transform=\"scale(0.015625)\"/>\n       <path d=\"M 2059 -325 \nQ 1816 -950 1584 -1140 \nQ 1353 -1331 966 -1331 \nL 506 -1331 \nL 506 -850 \nL 844 -850 \nQ 1081 -850 1212 -737 \nQ 1344 -625 1503 -206 \nL 1606 56 \nL 191 3500 \nL 800 3500 \nL 1894 763 \nL 2988 3500 \nL 3597 3500 \nL 2059 -325 \nz\n\" id=\"DejaVuSans-79\" transform=\"scale(0.015625)\"/>\n      </defs>\n      <use xlink:href=\"#DejaVuSans-41\"/>\n      <use x=\"66.658203\" xlink:href=\"#DejaVuSans-63\"/>\n      <use x=\"121.638672\" xlink:href=\"#DejaVuSans-63\"/>\n      <use x=\"176.619141\" xlink:href=\"#DejaVuSans-75\"/>\n      <use x=\"239.998047\" xlink:href=\"#DejaVuSans-72\"/>\n      <use x=\"281.111328\" xlink:href=\"#DejaVuSans-61\"/>\n      <use x=\"342.390625\" xlink:href=\"#DejaVuSans-63\"/>\n      <use x=\"397.371094\" xlink:href=\"#DejaVuSans-79\"/>\n     </g>\n    </g>\n    <g id=\"line2d_18\">\n     <path d=\"M 39.103125 50.094687 \nL 59.103125 50.094687 \n\" style=\"fill:none;stroke:#ff7f0e;stroke-linecap:square;stroke-width:1.5;\"/>\n    </g>\n    <g id=\"line2d_19\"/>\n    <g id=\"text_16\">\n     <!-- Validation_Accuracy -->\n     <g transform=\"translate(67.103125 53.594687)scale(0.1 -0.1)\">\n      <defs>\n       <path d=\"M 1831 0 \nL 50 4666 \nL 709 4666 \nL 2188 738 \nL 3669 4666 \nL 4325 4666 \nL 2547 0 \nL 1831 0 \nz\n\" id=\"DejaVuSans-56\" transform=\"scale(0.015625)\"/>\n       <path d=\"M 2906 2969 \nL 2906 4863 \nL 3481 4863 \nL 3481 0 \nL 2906 0 \nL 2906 525 \nQ 2725 213 2448 61 \nQ 2172 -91 1784 -91 \nQ 1150 -91 751 415 \nQ 353 922 353 1747 \nQ 353 2572 751 3078 \nQ 1150 3584 1784 3584 \nQ 2172 3584 2448 3432 \nQ 2725 3281 2906 2969 \nz\nM 947 1747 \nQ 947 1113 1208 752 \nQ 1469 391 1925 391 \nQ 2381 391 2643 752 \nQ 2906 1113 2906 1747 \nQ 2906 2381 2643 2742 \nQ 2381 3103 1925 3103 \nQ 1469 3103 1208 2742 \nQ 947 2381 947 1747 \nz\n\" id=\"DejaVuSans-64\" transform=\"scale(0.015625)\"/>\n       <path d=\"M 1959 3097 \nQ 1497 3097 1228 2736 \nQ 959 2375 959 1747 \nQ 959 1119 1226 758 \nQ 1494 397 1959 397 \nQ 2419 397 2687 759 \nQ 2956 1122 2956 1747 \nQ 2956 2369 2687 2733 \nQ 2419 3097 1959 3097 \nz\nM 1959 3584 \nQ 2709 3584 3137 3096 \nQ 3566 2609 3566 1747 \nQ 3566 888 3137 398 \nQ 2709 -91 1959 -91 \nQ 1206 -91 779 398 \nQ 353 888 353 1747 \nQ 353 2609 779 3096 \nQ 1206 3584 1959 3584 \nz\n\" id=\"DejaVuSans-6f\" transform=\"scale(0.015625)\"/>\n       <path d=\"M 3513 2113 \nL 3513 0 \nL 2938 0 \nL 2938 2094 \nQ 2938 2591 2744 2837 \nQ 2550 3084 2163 3084 \nQ 1697 3084 1428 2787 \nQ 1159 2491 1159 1978 \nL 1159 0 \nL 581 0 \nL 581 3500 \nL 1159 3500 \nL 1159 2956 \nQ 1366 3272 1645 3428 \nQ 1925 3584 2291 3584 \nQ 2894 3584 3203 3211 \nQ 3513 2838 3513 2113 \nz\n\" id=\"DejaVuSans-6e\" transform=\"scale(0.015625)\"/>\n      </defs>\n      <use xlink:href=\"#DejaVuSans-56\"/>\n      <use x=\"60.658203\" xlink:href=\"#DejaVuSans-61\"/>\n      <use x=\"121.9375\" xlink:href=\"#DejaVuSans-6c\"/>\n      <use x=\"149.720703\" xlink:href=\"#DejaVuSans-69\"/>\n      <use x=\"177.503906\" xlink:href=\"#DejaVuSans-64\"/>\n      <use x=\"240.980469\" xlink:href=\"#DejaVuSans-61\"/>\n      <use x=\"302.259766\" xlink:href=\"#DejaVuSans-74\"/>\n      <use x=\"341.46875\" xlink:href=\"#DejaVuSans-69\"/>\n      <use x=\"369.251953\" xlink:href=\"#DejaVuSans-6f\"/>\n      <use x=\"430.433594\" xlink:href=\"#DejaVuSans-6e\"/>\n      <use x=\"493.8125\" xlink:href=\"#DejaVuSans-5f\"/>\n      <use x=\"543.8125\" xlink:href=\"#DejaVuSans-41\"/>\n      <use x=\"610.470703\" xlink:href=\"#DejaVuSans-63\"/>\n      <use x=\"665.451172\" xlink:href=\"#DejaVuSans-63\"/>\n      <use x=\"720.431641\" xlink:href=\"#DejaVuSans-75\"/>\n      <use x=\"783.810547\" xlink:href=\"#DejaVuSans-72\"/>\n      <use x=\"824.923828\" xlink:href=\"#DejaVuSans-61\"/>\n      <use x=\"886.203125\" xlink:href=\"#DejaVuSans-63\"/>\n      <use x=\"941.183594\" xlink:href=\"#DejaVuSans-79\"/>\n     </g>\n    </g>\n   </g>\n  </g>\n </g>\n <defs>\n  <clipPath id=\"pb9ca0d00f0\">\n   <rect height=\"217.44\" width=\"334.8\" x=\"30.103125\" y=\"22.318125\"/>\n  </clipPath>\n </defs>\n</svg>\n",
      "image/png": "[encoded data removed]"
     },
     "metadata": {
      "needs_background": "light"
     }
    }
   ],
   "source": [
    "import matplotlib.pyplot as plt\n",
    "\n",
    "score = np.max(history.history['val_accuracy'])\n",
    "score = np.round(score, 5)\n",
    "score = str(score)\n",
    "score = score[2:]\n",
    "\n",
    "if len(score) == 4:\n",
    "    score.append(\"0\")\n",
    "\n",
    "plt.plot(history.history['accuracy'], label = \"Accuracy\")\n",
    "plt.plot(history.history['val_accuracy'], label=\"Validation_Accuracy\")\n",
    "\n",
    "plt.title(kargs['model_name'] + \" - \" + str(score))\n",
    "plt.legend()\n",
    "plt.show()"
   ]
  },
  {
   "source": [
    "## 6. Predictions\n",
    "\n",
    "### 6.1 Predict for test inputs"
   ],
   "cell_type": "markdown",
   "metadata": {}
  },
  {
   "cell_type": "code",
   "execution_count": 46,
   "metadata": {},
   "outputs": [],
   "source": [
    "model.load_weights(os.path.join(checkpoint_path))\n",
    "predictions = model.predict(inputs['test'], batch_size=BATCH_SIZE)"
   ]
  },
  {
   "source": [
    "## 7. Export result to csv format "
   ],
   "cell_type": "markdown",
   "metadata": {}
  },
  {
   "cell_type": "code",
   "execution_count": 47,
   "metadata": {
    "tags": []
   },
   "outputs": [
    {
     "output_type": "stream",
     "name": "stderr",
     "text": [
      "100%|██████████| 974/974 [00:00<00:00, 4332.05it/s]\n"
     ]
    },
    {
     "output_type": "execute_result",
     "data": {
      "text/plain": [
       "                                              comments label\n",
       "0         ㅋㅋㅋㅋ 그래도 조아해주는 팬들 많아서 좋겠다 ㅠㅠ 니들은 온유가 안만져줌 ㅠㅠ     1\n",
       "1                                        둘다 넘 좋다~행복하세요     1\n",
       "2                 근데 만원이하는 현금결제만 하라고 써놓은집 우리나라에 엄청 많은데     1\n",
       "3                원곡생각하나도 안나고 러블리즈 신곡나온줄!!! 너무 예쁘게 잘봤어요     0\n",
       "4                                   장현승 얘도 참 이젠 짠하다...     2\n",
       "..                                                 ...   ...\n",
       "969                     대박 게스트... 꼭 봐야징~ 컨셉이 바뀌니깐 재미지넹     2\n",
       "970  성형으로 다 뜯어고쳐놓고 예쁜척. 성형 전 니 얼굴 다 알고있다. 순자처럼 된장냄새...     0\n",
       "971  분위기는 비슷하다만 전혀다른 전개던데 무슨ㅋㅋㄱ 우리나라사람들은 분위기만 비슷하면 ...     0\n",
       "972                               입에 손가릭이 10개 있으니 징그럽다     1\n",
       "973                              난 조보아 이뻐서 보는데 백종원 관심무     2\n",
       "\n",
       "[974 rows x 2 columns]"
      ],
      "text/html": "<div>\n<style scoped>\n    .dataframe tbody tr th:only-of-type {\n        vertical-align: middle;\n    }\n\n    .dataframe tbody tr th {\n        vertical-align: top;\n    }\n\n    .dataframe thead th {\n        text-align: right;\n    }\n</style>\n<table border=\"1\" class=\"dataframe\">\n  <thead>\n    <tr style=\"text-align: right;\">\n      <th></th>\n      <th>comments</th>\n      <th>label</th>\n    </tr>\n  </thead>\n  <tbody>\n    <tr>\n      <th>0</th>\n      <td>ㅋㅋㅋㅋ 그래도 조아해주는 팬들 많아서 좋겠다 ㅠㅠ 니들은 온유가 안만져줌 ㅠㅠ</td>\n      <td>1</td>\n    </tr>\n    <tr>\n      <th>1</th>\n      <td>둘다 넘 좋다~행복하세요</td>\n      <td>1</td>\n    </tr>\n    <tr>\n      <th>2</th>\n      <td>근데 만원이하는 현금결제만 하라고 써놓은집 우리나라에 엄청 많은데</td>\n      <td>1</td>\n    </tr>\n    <tr>\n      <th>3</th>\n      <td>원곡생각하나도 안나고 러블리즈 신곡나온줄!!! 너무 예쁘게 잘봤어요</td>\n      <td>0</td>\n    </tr>\n    <tr>\n      <th>4</th>\n      <td>장현승 얘도 참 이젠 짠하다...</td>\n      <td>2</td>\n    </tr>\n    <tr>\n      <th>...</th>\n      <td>...</td>\n      <td>...</td>\n    </tr>\n    <tr>\n      <th>969</th>\n      <td>대박 게스트... 꼭 봐야징~ 컨셉이 바뀌니깐 재미지넹</td>\n      <td>2</td>\n    </tr>\n    <tr>\n      <th>970</th>\n      <td>성형으로 다 뜯어고쳐놓고 예쁜척. 성형 전 니 얼굴 다 알고있다. 순자처럼 된장냄새...</td>\n      <td>0</td>\n    </tr>\n    <tr>\n      <th>971</th>\n      <td>분위기는 비슷하다만 전혀다른 전개던데 무슨ㅋㅋㄱ 우리나라사람들은 분위기만 비슷하면 ...</td>\n      <td>0</td>\n    </tr>\n    <tr>\n      <th>972</th>\n      <td>입에 손가릭이 10개 있으니 징그럽다</td>\n      <td>1</td>\n    </tr>\n    <tr>\n      <th>973</th>\n      <td>난 조보아 이뻐서 보는데 백종원 관심무</td>\n      <td>2</td>\n    </tr>\n  </tbody>\n</table>\n<p>974 rows × 2 columns</p>\n</div>"
     },
     "metadata": {},
     "execution_count": 47
    }
   ],
   "source": [
    "df_export = pd.read_csv(DATA_PATH + '/dataset/test.hate.no_label.csv')\n",
    "\n",
    "df_export['label'] = [None] * predictions.shape[0]\n",
    "\n",
    "for i in tqdm(range(0, predictions.shape[0])):\n",
    "    df_export['label'][i] = np.argmax(predictions[i])\n",
    "\n",
    "df_export = pd.DataFrame(df_export, columns = ['comments', 'label'])\n",
    "\n",
    "df_export.to_csv(DATA_PATH + model_name + '/export_' + score + '.csv', sep=',', index=False)\n",
    "df_export"
   ]
  },
  {
   "cell_type": "code",
   "execution_count": null,
   "metadata": {},
   "outputs": [],
   "source": []
  }
 ]
}