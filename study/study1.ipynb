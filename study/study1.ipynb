{
 "metadata": {
  "language_info": {
   "codemirror_mode": {
    "name": "ipython",
    "version": 3
   },
   "file_extension": ".py",
   "mimetype": "text/x-python",
   "name": "python",
   "nbconvert_exporter": "python",
   "pygments_lexer": "ipython3",
   "version": "3.8.8"
  },
  "orig_nbformat": 2,
  "kernelspec": {
   "name": "python388jvsc74a57bd03e5722b678611390efb691cd042b19d6a1c84033434cef78dfdb8ed3093fccda",
   "display_name": "Python 3.8.8 64-bit ('nlp': conda)"
  }
 },
 "nbformat": 4,
 "nbformat_minor": 2,
 "cells": [
  {
   "source": [
    "# 텐서플로2와 머신러닝으로 ~~~\n",
    "\n"
   ],
   "cell_type": "markdown",
   "metadata": {}
  },
  {
   "source": [
    "## P74 - konlpy"
   ],
   "cell_type": "markdown",
   "metadata": {}
  },
  {
   "cell_type": "code",
   "execution_count": 66,
   "metadata": {},
   "outputs": [
    {
     "output_type": "stream",
     "name": "stdout",
     "text": [
      "['룰루랄라', '신나는', '하루', '가', '되길', '바', '래', '는', '아침']\n['룰루랄라', '신나다', '하루', '가', '되다', '바', '래', '늘다', '아침']\n['룰루랄라', '신나다', '하루', '가', '되다', '바라다', '아침']\n"
     ]
    }
   ],
   "source": [
    "from konlpy.tag import Okt\n",
    "from hanspell import spell_checker\n",
    "\n",
    "okt = Okt()\n",
    "\n",
    "text = \"룰루랄라 신나는 하루가 되길 바래는 아침\"\n",
    "\n",
    "result = spell_checker.check(text).checked\n",
    "\n",
    "print(okt.morphs(text))\n",
    "print(okt.morphs(text, stem=True))\n",
    "\n",
    "#print(result)\n",
    "print(okt.morphs(result, stem=True))"
   ]
  },
  {
   "cell_type": "code",
   "execution_count": null,
   "metadata": {},
   "outputs": [],
   "source": []
  }
 ]
}