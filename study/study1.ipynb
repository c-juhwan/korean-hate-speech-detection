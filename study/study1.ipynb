{
 "metadata": {
  "language_info": {
   "codemirror_mode": {
    "name": "ipython",
    "version": 3
   },
   "file_extension": ".py",
   "mimetype": "text/x-python",
   "name": "python",
   "nbconvert_exporter": "python",
   "pygments_lexer": "ipython3",
   "version": "3.8.8"
  },
  "orig_nbformat": 2,
  "kernelspec": {
   "name": "python388jvsc74a57bd01a32a8893a324cd10ee115e5cfdb8831767326d6be6bef65c9b47165b6407108",
   "display_name": "Python 3.8.8 64-bit ('NLP-tf': conda)"
  },
  "metadata": {
   "interpreter": {
    "hash": "1a32a8893a324cd10ee115e5cfdb8831767326d6be6bef65c9b47165b6407108"
   }
  }
 },
 "nbformat": 4,
 "nbformat_minor": 2,
 "cells": [
  {
   "source": [
    "# Chapter 4.1 - 영어 텍스트 분류, P145 \n",
    "\n",
    "## Load data"
   ],
   "cell_type": "markdown",
   "metadata": {}
  },
  {
   "cell_type": "code",
   "execution_count": 1,
   "metadata": {},
   "outputs": [],
   "source": [
    "%reset\n",
    "\n",
    "import numpy as np\n",
    "import pandas as pd\n",
    "import os\n",
    "import matplotlib.pyplot as plt\n",
    "import seaborn as sns\n",
    "from tqdm import tqdm\n",
    "\n",
    "%matplotlib inline\n",
    "\n",
    "DATA_PATH = \"~/Workspace/Git_Repos/korean-hate-speech-detection/study/word2vec-nlp-tutorial/\""
   ]
  },
  {
   "cell_type": "code",
   "execution_count": 2,
   "metadata": {},
   "outputs": [
    {
     "output_type": "execute_result",
     "data": {
      "text/plain": [
       "           id                                             review\n",
       "0  \"12311_10\"  \"Naturally in a film who's main themes are of ...\n",
       "1    \"8348_2\"  \"This movie is a disaster within a disaster fi...\n",
       "2    \"5828_4\"  \"All in all, this is a movie for kids. We saw ...\n",
       "3    \"7186_2\"  \"Afraid of the Dark left me with the impressio...\n",
       "4   \"12128_7\"  \"A very accurate depiction of small time mob l..."
      ],
      "text/html": "<div>\n<style scoped>\n    .dataframe tbody tr th:only-of-type {\n        vertical-align: middle;\n    }\n\n    .dataframe tbody tr th {\n        vertical-align: top;\n    }\n\n    .dataframe thead th {\n        text-align: right;\n    }\n</style>\n<table border=\"1\" class=\"dataframe\">\n  <thead>\n    <tr style=\"text-align: right;\">\n      <th></th>\n      <th>id</th>\n      <th>review</th>\n    </tr>\n  </thead>\n  <tbody>\n    <tr>\n      <th>0</th>\n      <td>\"12311_10\"</td>\n      <td>\"Naturally in a film who's main themes are of ...</td>\n    </tr>\n    <tr>\n      <th>1</th>\n      <td>\"8348_2\"</td>\n      <td>\"This movie is a disaster within a disaster fi...</td>\n    </tr>\n    <tr>\n      <th>2</th>\n      <td>\"5828_4\"</td>\n      <td>\"All in all, this is a movie for kids. We saw ...</td>\n    </tr>\n    <tr>\n      <th>3</th>\n      <td>\"7186_2\"</td>\n      <td>\"Afraid of the Dark left me with the impressio...</td>\n    </tr>\n    <tr>\n      <th>4</th>\n      <td>\"12128_7\"</td>\n      <td>\"A very accurate depiction of small time mob l...</td>\n    </tr>\n  </tbody>\n</table>\n</div>"
     },
     "metadata": {},
     "execution_count": 2
    }
   ],
   "source": [
    "df_train = pd.read_csv(DATA_PATH + \"labeledTrainData.tsv\", header=0, delimiter=\"\\t\", quoting=3)\n",
    "df_test = pd.read_csv(DATA_PATH + \"testData.tsv\", header=0, delimiter=\"\\t\", quoting=3)\n",
    "\n",
    "df_train.head()\n",
    "df_test.head()"
   ]
  },
  {
   "source": [
    "## Preprocessing"
   ],
   "cell_type": "markdown",
   "metadata": {}
  },
  {
   "cell_type": "code",
   "execution_count": 3,
   "metadata": {},
   "outputs": [],
   "source": [
    "import re\n",
    "import json\n",
    "from bs4 import BeautifulSoup\n",
    "from nltk.corpus import stopwords\n",
    "from tensorflow.keras.preprocessing.sequence import pad_sequences\n",
    "from tensorflow.keras.preprocessing.text import Tokenizer"
   ]
  },
  {
   "cell_type": "code",
   "execution_count": 4,
   "metadata": {},
   "outputs": [],
   "source": [
    "# Regular Expression\n",
    "# Remove HTML tag\n",
    "# Lower case and split to each words\n",
    "# Remove stopwords\n",
    "# Make splited words to sentences\n",
    "\n",
    "def preprocessing(text):\n",
    "    regular_expression1 = \"^[a-zA-Z0-9]\"\n",
    "\n",
    "    text = BeautifulSoup(text, 'html5lib').get_text()\n",
    "\n",
    "    text = re.sub(regular_expression1, \" \", text)\n",
    "\n",
    "    words = text.lower().split()\n",
    "\n",
    "    stop_words = stopwords.words('english')\n",
    "\n",
    "    words = [w for w in words if not w in stop_words]\n",
    "\n",
    "    clean_text = ' '.join(words)\n",
    "\n",
    "    return clean_text"
   ]
  },
  {
   "cell_type": "code",
   "execution_count": 5,
   "metadata": {},
   "outputs": [
    {
     "output_type": "stream",
     "name": "stderr",
     "text": [
      "  0%|          | 0/25000 [00:00<?, ?it/s]<ipython-input-5-499664c78033>:2: SettingWithCopyWarning: \n",
      "A value is trying to be set on a copy of a slice from a DataFrame\n",
      "\n",
      "See the caveats in the documentation: https://pandas.pydata.org/pandas-docs/stable/user_guide/indexing.html#returning-a-view-versus-a-copy\n",
      "  df_train['review'][i] = preprocessing(df_train['review'][i])\n",
      "100%|██████████| 25000/25000 [00:36<00:00, 680.79it/s]\n",
      "100%|██████████| 25000/25000 [00:29<00:00, 846.92it/s]\n"
     ]
    },
    {
     "output_type": "execute_result",
     "data": {
      "text/plain": [
       "           id                                             review\n",
       "0  \"12311_10\"  \"naturally film who's main themes mortality, n...\n",
       "1    \"8348_2\"  \"this movie disaster within disaster film. ful...\n",
       "2    \"5828_4\"  \"all all, movie kids. saw tonight child loved ...\n",
       "3    \"7186_2\"  \"afraid dark left impression several different...\n",
       "4   \"12128_7\"  \"a accurate depiction small time mob life film..."
      ],
      "text/html": "<div>\n<style scoped>\n    .dataframe tbody tr th:only-of-type {\n        vertical-align: middle;\n    }\n\n    .dataframe tbody tr th {\n        vertical-align: top;\n    }\n\n    .dataframe thead th {\n        text-align: right;\n    }\n</style>\n<table border=\"1\" class=\"dataframe\">\n  <thead>\n    <tr style=\"text-align: right;\">\n      <th></th>\n      <th>id</th>\n      <th>review</th>\n    </tr>\n  </thead>\n  <tbody>\n    <tr>\n      <th>0</th>\n      <td>\"12311_10\"</td>\n      <td>\"naturally film who's main themes mortality, n...</td>\n    </tr>\n    <tr>\n      <th>1</th>\n      <td>\"8348_2\"</td>\n      <td>\"this movie disaster within disaster film. ful...</td>\n    </tr>\n    <tr>\n      <th>2</th>\n      <td>\"5828_4\"</td>\n      <td>\"all all, movie kids. saw tonight child loved ...</td>\n    </tr>\n    <tr>\n      <th>3</th>\n      <td>\"7186_2\"</td>\n      <td>\"afraid dark left impression several different...</td>\n    </tr>\n    <tr>\n      <th>4</th>\n      <td>\"12128_7\"</td>\n      <td>\"a accurate depiction small time mob life film...</td>\n    </tr>\n  </tbody>\n</table>\n</div>"
     },
     "metadata": {},
     "execution_count": 5
    }
   ],
   "source": [
    "for i in tqdm(range(0, df_train.shape[0])):\n",
    "    df_train['review'][i] = preprocessing(df_train['review'][i])\n",
    "\n",
    "for i in tqdm(range(0, df_test.shape[0])):\n",
    "    df_test['review'][i] = preprocessing(df_test['review'][i])\n",
    "\n",
    "df_train.head()\n",
    "df_test.head()"
   ]
  },
  {
   "source": [
    "# Integer index\n",
    "\n",
    "tokenizer = Tokenizer()\n",
    "tokenizer.fit_on_texts(df_train['review'])\n",
    "text_sequences = tokenizer.texts_to_sequences(df_train['review'])\n",
    "\n",
    "print(text_sequences[0])"
   ],
   "cell_type": "code",
   "metadata": {},
   "execution_count": 6,
   "outputs": [
    {
     "output_type": "stream",
     "name": "stdout",
     "text": [
      "[354, 454, 78, 479, 10068, 111, 564, 2570, 132, 60, 956, 580, 149, 205, 19492, 205, 11560, 206, 190, 85, 18, 733, 2571, 138, 104, 12, 565, 4224, 190, 26, 240, 645, 2465, 1290, 11560, 79, 5005, 79, 710, 2, 288, 78, 13, 350, 1758, 541, 1237, 3394, 27613, 465, 872, 3474, 20, 496, 672, 1603, 19, 51972, 1953, 1087, 170, 403, 1823, 819, 2543, 4, 10068, 471, 78, 702, 77, 269, 108, 602, 10068, 27614, 27615, 136, 1, 10068, 364, 10, 52, 24, 364, 191, 12, 237, 176, 6, 699, 710, 2, 131, 329, 434, 815, 139, 16102, 3501, 1614, 639, 840, 11289, 1005, 11908, 899, 1329, 1574, 408, 10068, 261, 19, 643, 133, 10068, 23366, 2399, 14348, 840, 30551, 34, 30552, 386, 21, 45, 19493, 1603, 439, 11561, 190, 4107, 27613, 132, 695, 565, 87, 4, 10068, 1524, 436, 2315, 130, 2066, 2674, 639, 20, 75, 119, 5006, 5529, 297, 1359, 27616, 19, 639, 548, 831, 702, 700, 3, 472, 299, 504, 130, 683, 3395, 1248, 758, 53, 1265, 258, 1, 21, 4, 10068, 3, 566, 67, 464, 29, 21, 229, 709, 151, 264, 107, 7779, 672, 3572, 27613, 40808, 2011, 1, 156, 403, 1823, 282, 3, 944, 21, 46, 1633, 1153, 2465, 15, 610, 111, 437, 796, 7157, 15, 45, 21, 186, 409, 4528, 3550, 45, 98, 255, 495, 237, 289, 138, 3, 19494, 19495, 353, 1501]\n"
     ]
    }
   ]
  },
  {
   "cell_type": "code",
   "execution_count": 7,
   "metadata": {
    "tags": [
     "outputPrepend"
    ]
   },
   "outputs": [
    {
     "output_type": "stream",
     "name": "stdout",
     "text": [
      "\": 88081, 'sarat': 88082, \"chandra's\": 88083, \"shekar's\": 88084, 'piyu': 88085, 'nris': 88086, 'ita': 88087, \"rufus'\": 88088, 'blabla': 88089, '230mph': 88090, 'idiosyncracies': 88091, 'assestment': 88092, \"vulkin'\": 88093, 'shure': 88094, '820': 88095, 'cloyingly': 88096, 'volvo': 88097, 'priuses': 88098, 'haavard': 88099, 'lilleheie': 88100, 'eazy': 88101, 'flava': 88102, \"'rap'\": 88103, 'rosenstraße': 88104, 'cameron´s': 88105, 'we´ve': 88106, 'girl´s': 88107, 'riemann´s': 88108, 'ritterkreuz': 88109, 'luftens': 88110, 'helte': 88111, 'nutz': 88112, 'beautifulest': 88113, 'principaly': 88114, 'translater': 88115, 'albertine': 88116, 'forme': 88117, 'signification': 88118, 'rousset': 88119, 'charlus': 88120, 'crystallizes': 88121, 'fallowing': 88122, 'pucking': 88123, \"sarte's\": 88124, 'clot': 88125, 'retrouvé': 88126, 'genette': 88127, 'holobrothel': 88128, 'planetscapes': 88129, 'charterers': 88130, 'tapers': 88131, 'connerey': 88132, 'psp': 88133, \"till's\": 88134, 'dyad': 88135, 'stockpiled': 88136, 'hilarities': 88137, 'empt': 88138, 'cannae': 88139, 'manucci': 88140, 'morneau': 88141, 'stoppable': 88142, 'inlay': 88143, 'steiners': 88144, 'akeem': 88145, 'wwwf': 88146, 'dystopic': 88147, 'convene': 88148, 'obstructs': 88149, 'rudiments': 88150, 'affix': 88151, 'rashly': 88152, 'ponderance': 88153, 'millenium': 88154, 'ewige': 88155, 'gentiles': 88156, 'hoarded': 88157, 'undesirables': 88158, 'deceptiveness': 88159, 'taxed': 88160, 'execrated': 88161, 'moviewatching': 88162, \"ej's\": 88163, \"propagandist's\": 88164, 'realated': 88165, 'ceta': 88166, 'handlebar': 88167, \"'baroque'\": 88168, 'bogmeister': 88169, 'manouever': 88170, 'adeptness': 88171, \"bravo's\": 88172, 'sheath': 88173, 'vogues': 88174, 'giraudot': 88175, 'doremus': 88176, 'snug': 88177, 'refuges': 88178, 'whirry': 88179, 'nighteyes': 88180, 'whizz': 88181, 'stringfellow': 88182, 'dmax': 88183, '155': 88184, 'expeditioners': 88185, \"hyena'\": 88186, 'verica': 88187, 'deadness': 88188, 'shahan': 88189, 'commancheroes': 88190, 'lapdog': 88191, 'oe': 88192, 'organisers': 88193, 'unblemished': 88194, 'js': 88195, 'theoffice': 88196, '14yr': 88197, '25s': 88198, \"'craft\": 88199, 'filaments': 88200, \"'auteur\": 88201, \"savant'\": 88202, \"'vision\": 88203, 'oneness': 88204, 'gaea': 88205, \"sick'\": 88206, 'chistina': 88207, 'rcci': 88208, 'mingella': 88209, \"''while''\": 88210, 'swoosh': 88211, \"'sakura\": 88212, \"'effects\": 88213, 'dorkness': 88214, \"chapters'\": 88215, 'thornbury': 88216, 'pepino': 88217, 'winkleman': 88218, 'safest': 88219, 'dodgerdude': 88220, \"abandon'\": 88221, 'invigorated': 88222, 'farreley': 88223, 'paheli': 88224, 'exposer': 88225, \"duchovany's\": 88226, \"'hear'\": 88227, 'nihlani': 88228, 'tendulkar': 88229, \"'baap'\": 88230, 'sadhashiv': 88231, \"sadhashiv's\": 88232, 'absoulely': 88233, 'kafi': 88234, 'bakke': 88235, 'selena': 88236, \"'neo\": 88237, 'mou': 88238, 'akai': 88239, 'yasoumi': 88240, \"umetsu's\": 88241, \"ami's\": 88242, 'ewald': 88243, \"frith's\": 88244, 'krazy': 88245, 'eyecatchers': 88246, 'antrax': 88247, \"'goldfinger'\": 88248, 'mull': 88249, 'blooey': 88250, \"lewtons'\": 88251, 'rosetto': 88252, '420': 88253, '51b': 88254, 'disslikes': 88255, 'abanks': 88256, 'carte': 88257, \"'hippy'\": 88258, 'castlevania': 88259, 'nipped': 88260, 'highschoolers': 88261, 'rigomortis': 88262, \"''empire\": 88263, \"back''\": 88264, \"''return\": 88265, \"jedi''\": 88266, 'tattoine': 88267, 'lukes': 88268, \"chewbacca's\": 88269, \"'food'\": 88270, 'boba': 88271, \"sarlacc's\": 88272, 'dagoba': 88273, \"alliance's\": 88274, 'arsenals': 88275, 'uesa': 88276, 'romefeller': 88277, \"treize's\": 88278, 'architected': 88279, 'quotas': 88280, 'honerable': 88281, 'suss': 88282, 'loafs': 88283, \"'eyes\": 88284, 'bloods': 88285, \"kit's\": 88286, \"baloo's\": 88287, \"yakin's\": 88288, 'yakin': 88289, 'yosi': 88290, 'hasidic': 88291, 'monsey': 88292, 'milah': 88293, 'chosson': 88294, 'oaks': 88295, 'giornate': 88296, 'particulare': 88297, \"'rubbish'\": 88298, \"'pleasant\": 88299, 'unflashy': 88300, 'swanks': 88301, 'hypermodern': 88302, 'mastrionani': 88303, 'ozon': 88304, 'hadnt': 88305, 'cartilage': 88306, 'denting': 88307, 'rauol': 88308, 'dryfus': 88309, 'tarted': 88310, 'sorrel': 88311, 'recherché': 88312, 'lusciousness': 88313, 'fatherliness': 88314, 'karfreitag': 88315, 'heiland': 88316, 'jdd': 88317, 'bakelite': 88318, 'swithes': 88319, 'floorpan': 88320, 'acceptence': 88321, 'relevent': 88322, 'missunderstand': 88323, 'themsleves': 88324, \"dobkin's\": 88325, '20p': 88326, 'vinchenzo': 88327, 'caprioli': 88328, \"manzari's\": 88329, 'garwin': 88330, 'overrate': 88331, 'pwt': 88332, 'melora': 88333, 'eeriest': 88334, 'handbasket': 88335, \"four's\": 88336, 'tranquillo': 88337, \"paura'\": 88338, \"turn'\": 88339, 'bullard': 88340, 'enjoied': 88341, '2point4': 88342, 'veoh': 88343, 'unavliable': 88344, 'arcades': 88345, 'camaro': 88346, 'symphonie': 88347, 'grauens': 88348, 'wie': 88349, 'welt': 88350, 'kam': 88351, 'hanns': 88352, \"rye's\": 88353, \"seeber's\": 88354, 'forecasts': 88355, 'salmonova': 88356, 'weidemann': 88357, 'waldis': 88358, \"lörner's\": 88359, \"ewers'\": 88360, 'uhum': 88361, 'calito': 88362, \"cannibals'\": 88363, 'ladrones': 88364, 'mentirosos': 88365, \"rico's\": 88366, 'mikhali': 88367, \"cacoyannis'\": 88368, 'aulis': 88369, 'giorgos': 88370, 'dissecting': 88371, 'papamoskou': 88372, 'menalaus': 88373, \"clytemnestra's\": 88374, \"theodorakis'\": 88375, 'menelaus': 88376, 'elopement': 88377, 'wmd': 88378, 'sanctioning': 88379, 'ensnared': 88380, 'filicide': 88381, \"bram's\": 88382, 'threated': 88383, 'pyrokinetics': 88384, \"colors'\": 88385, \"'recalling'\": 88386, \"'care\": 88387, \"'pokemon\": 88388, 'entitle': 88389, 'coptic': 88390, 'darwininan': 88391, 'agers': 88392, \"schnaas's\": 88393, 'buttergeit': 88394, 'hardline': 88395, 'ro': 88396, 'conservitive': 88397, \"700's\": 88398, 'chamberland': 88399, 'baffeling': 88400, 'behaviours': 88401, 'extremiously': 88402, 'matelot': 88403, 'kringle': 88404, \"cundey's\": 88405, 'hiccuping': 88406, 'sanguinary': 88407, 'eventully': 88408, 'mctell': 88409, 'shemekia': 88410, 'supertroopers': 88411, 'clise': 88412, \"troop'\": 88413, \"tender'\": 88414, \"'jailhouse\": 88415, \"'viva\": 88416, \"'change\": 88417, \"habit'\": 88418, 'botoxed': 88419, 'sizing': 88420, 'beverage': 88421, \"dons't\": 88422, 'bankcrupcy': 88423, 'ahahahah': 88424, 'workprint': 88425, \"born'\": 88426, \"'barbara\": 88427, \"storyline'\": 88428, \"entity's\": 88429, 'augustin': 88430, 'gamecock': 88431, 'não': 88432, 'escreve': 88433, \"coronel'\": 88434, 'rousch': 88435, 'penitentiaries': 88436, \"chair's\": 88437, \"'tiny'\": 88438, 'dressings': 88439, \"'l\": 88440, \"'law\": 88441, 'licker': 88442, 'weirds': 88443, 'thorstein': 88444, 'veblen': 88445, 'latinamerica': 88446, \"'ahhh'\": 88447, \"'decadence'\": 88448, \"'edgy'\": 88449, 'metaldude': 88450, 'corpsified': 88451, 'calafornia': 88452, 'aorta': 88453, 'helpfuls': 88454, 'thundercloud': 88455, \"'western'\": 88456, \"'destruction\": 88457, 'pothus': 88458, 'extremite': 88459, \"o'henry\": 88460, 'tendresse': 88461, 'humaine': 88462, 'kinks': 88463, \"l'inrus\": 88464, 'bicycling': 88465, 'evergreens': 88466, 'cued': 88467, \"mother'\": 88468, \"doophus's\": 88469, \"nastassja's\": 88470, 'occupancy': 88471, 'freighting': 88472, 'headquartered': 88473, \"cleveland's\": 88474, 'gop': 88475, 'mutia': 88476, 'yodeller': 88477, 'dead\\x97only': 88478, 'eensy': 88479, 'weensy': 88480, \"'sharon\": 88481, 'finalé': 88482, 'props\\x97dodgy': 88483, 'swings\\x97but': 88484, 'okazaki': 88485, 'quaalude': 88486, 'actualize': 88487, \"clique'\": 88488, 'blondel': 88489, 'spririt': 88490, \"number'\": 88491, 'gramophone': 88492, 'tubby': 88493, 'tain': 88494, 'chandeliers': 88495, 'katzenjammer': 88496, 'horrify': 88497, 'gymakta': 88498, 'anywhoo': 88499, 'elanor': 88500, 'bartold': 88501, 'isenberg': 88502, 'mundanely': 88503, 'milliagn': 88504, 'norden': 88505, \"wasp's\": 88506, 'imposters': 88507, 'horseshoes': 88508, 'fantasticfantasticfantastic': 88509, 'massaccesi': 88510, 'aahhh': 88511, \"schriber's\": 88512, 'berwick': 88513, \"ra's\": 88514, 'ls': 88515, 'chulak': 88516, \"ska'ra\": 88517, 'maldoran': 88518, 'paradice': 88519, 'johnathin': 88520, \"kaplan's\": 88521, 'invlove': 88522, 'deano': 88523, \"gance's\": 88524, \"thalberg's\": 88525, \"ku's\": 88526, 'pealed': 88527, 'goosebump': 88528, 'howarth': 88529, 'lillihamer': 88530, 'perseverence': 88531, \"'grim'\": 88532, 'cavalery': 88533, 'xxe': 88534, 'kajawari': 88535, 'ecchi': 88536, 'helumis': 88537, 'worsle': 88538, 'coercible': 88539, \"21's\": 88540, 'taverns': 88541, \"teffe's\": 88542, 'complexions': 88543, 'tarzans': 88544, 'cristopher': 88545, \"cheeta's\": 88546, \"'fake\": 88547, \"steward'\": 88548, 'gse': 88549, \"'bother'\": 88550, 'acct': 88551, 'cataluña´s': 88552, 'berlin´s': 88553, 'film´s': 88554, \"dionna's\": 88555, 'esamples': 88556, 'trawling': 88557, 'punt': 88558, 'helo': 88559, 'leetle': 88560, 'wk00817': 88561, 'brogado': 88562, 'libyan': 88563, 'kartiff': 88564, 'waverley': 88565, 'gunny': 88566, 'hathcock': 88567, 'backett': 88568, 'medalist': 88569, 'miraglittoa': 88570, 'ochoa': 88571, 'spotter': 88572, 'aden': 88573, 'eward': 88574, 'neurosurgeon': 88575, 'escadrille': 88576, 'alecks': 88577, 'stockade': 88578, 'hollywierd': 88579, \"'mutant\": 88580, 'decisions\\x97in': 88581, 'acmetropolis': 88582, 'frelling': 88583, 'henchpeople': 88584, 'henchthings': 88585, 'looniness': 88586, 'drekish': 88587, 'wabbits': 88588, 'actores': 88589, \"bleak's\": 88590, 'tranquilli': 88591, 'credential': 88592, '164': 88593, \"'white'\": 88594, 'rêves': 88595, \"bustin'\": 88596, 'kamp': 88597, 'frightner': 88598, 'dedications': 88599, \"riegert's\": 88600, 'corsair': 88601, 'spinell': 88602, \"benson's\": 88603, 'wearied': 88604, 'repetitiveness': 88605, \"giraldi's\": 88606, 'labouredly': 88607, \"meyerowitz's\": 88608, 'kitties': 88609, \"knobs'\": 88610, 'remenber': 88611, 'pied': 88612, 'pipers': 88613, \"'quality'\": 88614, \"'tyranasaurus\": 88615, \"wrecks'\": 88616, \"'d'amato\": 88617, 'careered': 88618, 'heckled': 88619, 'petered': 88620, 'subsided': 88621, 'slumbering': 88622, 'dardino': 88623, 'sachetti': 88624, 'fagrasso': 88625, 'phillimines': 88626, 'fabrazio': 88627, 'deangelis': 88628, 'tomassi': 88629, 'gianetto': 88630, 'bulworth': 88631, 'parsee': 88632, '78rpm': 88633, \"ivay's\": 88634, 'quadraphenia': 88635, \"'shrooms\": 88636, 'cockles': 88637, 'rulezzz': 88638, 'talon': 88639, \"'divorce\": 88640, 'magistrates': 88641, 'crummier': 88642, \"'poverty\": 88643, \"row'\": 88644, 'wsj': 88645, 'paras': 88646, 'riki': 88647, 'predigested': 88648, 'unamerican': 88649, \"marylin's\": 88650, 'exhibitionism': 88651, \"exorcist'\": 88652, 'yack': 88653, 'nolo': 88654, 'gangfights': 88655, 'shiu': 88656, 'fil': 88657, 'jihadist': 88658, 'fogg': 88659, 'uncurbed': 88660, 'weisman': 88661, \"hetfield's\": 88662, 'chessy': 88663, 'crudy': 88664, 'gayson': 88665, 'zobie': 88666, \"shields'\": 88667, 'rustling': 88668, \"'torched'\": 88669, 'superceeds': 88670, 'rahad': 88671, 'economises': 88672, 'perked': 88673, 'abetting': 88674, 'grabby': 88675, 'shirely': 88676, 'frankin': 88677, \"'absorbed'\": 88678, \"olivia's\": 88679, \"because's\": 88680, 'fragmentaric': 88681, \"cruel'\": 88682, 'franzisca': 88683, \"mcdonnell's\": 88684, '378': 88685, 'loyally': 88686, 'kalser': 88687, 'runmanian': 88688, 'doubtfire': 88689, 'cinemtography': 88690, 'wrassle': 88691, 'tubed': 88692, 'mres': 88693, 'cupertino': 88694, 'schizo': 88695, 'electrons': 88696, 'formations': 88697, 'unecessary': 88698, 'traumatisingly': 88699, 'bombeshells': 88700, 'children´s': 88701, 'yiannis': 88702, 'zouganelis': 88703, 'exaggerative': 88704, 'symbolizations': 88705, 'politiki': 88706, 'kouzina': 88707, 'kollek': 88708, 'hindrances': 88709, 'instigate': 88710, \"tisserand's\": 88711, 'splutter': 88712, 'pouter': 88713, 'usages': 88714, 'intimist': 88715, 'krs': 88716, 'ultramagnetic': 88717, 'bizmarkie': 88718, 'traumitized': 88719, 'selve': 88720, 'windu': 88721, 'younglings': 88722, 'fluffee': 88723, 'frisk': 88724, 'unfotunately': 88725, 'bizzzzare': 88726, 'harbored': 88727, 'fertilise': 88728, 'diarrhoeic': 88729, 'carabatsos': 88730, 'screamers': 88731, 'saugages': 88732, 'notld': 88733, 'drexel': 88734, \"'lisa'\": 88735, 'croaking': 88736, 'epitaphs': 88737, 'vandalised': 88738, 'prowled': 88739, 'girlpower': 88740, 'pohler': 88741, 'woopi': 88742, \"graf's\": 88743, 'leitmotiv': 88744, 'severities': 88745, 'galitzien': 88746, 'ferdinandvongalitzien': 88747, 'wendi': 88748, 'mclendon': 88749, 'wads': 88750, 'manageress': 88751, 'intoxicants': 88752, 'bruckhiemer': 88753, \"mayleses'\": 88754, 'asynchronous': 88755, 'hospice': 88756, 'bejeweled': 88757, 'ungraced': 88758, \"tether's\": 88759, 'nesting': 88760, 'fracturing': 88761, 'phelan': 88762, 'spirtas': 88763, 'valour': 88764, \"siddons'\": 88765, 'blatent': 88766, 'plotty': 88767, 'midtorso': 88768, 'galiano': 88769, 'loafer': 88770, 'ama': 88771, 'vaccarro': 88772, 'platonically': 88773, \"rickles'\": 88774, 'm80': 88775, 'matel': 88776, 'persepctive': 88777, 'reviewied': 88778, \"'evening'\": 88779, 'verandah': 88780, 'woofter': 88781, 'preggers': 88782, \"'beard'\": 88783, 'earlobes': 88784, 'saucepan': 88785, 'fruitfully': 88786, 'lowish': 88787, \"jcc's\": 88788, 'achad': 88789, 'tranvestites': 88790, 'mest': 88791, 'kinematograficheskogo': 88792, 'operatora': 88793, 'kinematograph': 88794, 'clambers': 88795, 'unrivaled': 88796, 'clamshell': 88797, \"valenti's\": 88798, 'explaination': 88799, 'macadam': 88800, 'honorably': 88801, \"apollonius'\": 88802, 'argonautica': 88803, 'antiquity': 88804, \"bible's\": 88805, 'vulgate': 88806, 'correlative': 88807, 'housecleaning': 88808, \"kari's\": 88809, 'correggio': 88810, \"'court\": 88811, \"stalkers'\": 88812, 'disasterous': 88813, 'goldcrest': 88814, 'kensett': 88815, \"kensett's\": 88816, 'campest': 88817, \"screweyes's\": 88818, 'incridible': 88819, 'softfordigging': 88820, 'kosentsev': 88821, 'coranado': 88822, 'almerayeda': 88823, 'bravora': 88824, 'gerarde': 88825, 'depardue': 88826, 'ranyaldo': 88827, 'leartes': 88828, 'marcellous': 88829, \"enjoy's\": 88830, 'shakespeares': 88831, 'corne': 88832, 'oppikoppi': 88833, 'raunchier': 88834, 'agy': 88835, 'universes': 88836, 'royersford': 88837, 'magsel': 88838, \"'tell\": 88839, \"put's\": 88840, \"'revolutionized\": 88841, \"cuba'\": 88842, 'muffling': 88843, 'wiesz': 88844, \"hulce's\": 88845, 'iikes': 88846, 'patronization': 88847, 'sniffish': 88848, 'underztand': 88849, 'ifit': 88850, 'quizzical': 88851, 'secularized': 88852, 'numerical': 88853, 'tyranosaurous': 88854, 'mellowed': 88855, \"pinto's\": 88856, 'tram': 88857, 'feinting': 88858, 'celest': 88859, \"fate'\": 88860, \"'fatty\": 88861, \"brimmer's\": 88862, 'goofily': 88863, 'mindgames': 88864, 'illlinois': 88865, 'hjitler': 88866, \"prompter's\": 88867, 'polygram': 88868, 'papel': 88869, 'gweneth': 88870, 'johnasson': 88871, 'barbados': 88872, 'fluffier': 88873, 'rosselini': 88874, 'ladislas': 88875, \"grasshopper's\": 88876, 'briefcases': 88877, 'mandibles': 88878, \"andrea's\": 88879, 'upatz': 88880, 'gradualism': 88881, 'antigone': 88882, 'secularity': 88883, 'marushka': 88884, 'boriest': 88885, 'groundskeeper': 88886, 'hemmitt': 88887, 'zungia': 88888, 'lapinski': 88889, 'bimboesque': 88890, 'benj': 88891, 'quadruped': 88892, \"cats's\": 88893, 'rattler': 88894, 'cartooned': 88895, 'trahisons': 88896, 'affinité': 88897, 'tirard': 88898, \"tirard's\": 88899, 'deewani': 88900, 'barjatyagot': 88901, 'barjatyas': 88902, 'anjane': 88903, 'chichi': 88904, 'roa': 88905, 'overdub': 88906, \"aweigh'\": 88907, \"kate'\": 88908, 'luckier': 88909, \"anchors'\": 88910, 'prided': 88911, 'underpar': 88912, \"hasen't\": 88913, 'macmahone': 88914, \"alta's\": 88915, \"lookalikes'\": 88916, \"jaynetts'\": 88917, \"gershuny's\": 88918, 'ondine': 88919, 'warholite': 88920, 'vooren': 88921, 'gershuny': 88922, 'kemek': 88923, 'hypotheses': 88924, 'gasbag': 88925, 'revolta': 88926, 'muerto': 88927, 'shya': 88928, 'northwet': 88929, 'patoot': 88930, 'hatchets': 88931, \"'bargain\": 88932, 'kindliness': 88933, 'serf': 88934, 'bazaar': 88935, 'inconceivably': 88936, 'androse': 88937, 'orlac': 88938, 'jarman': 88939, 'coiffure': 88940, 'mentalist': 88941, 'gattaca': 88942, \"ethan's\": 88943, 'dillute': 88944, 'natashia': 88945, 'begly': 88946, 'berner': 88947, \"brahms'\": 88948, 'stoll': 88949, 'drk': 88950, \"marihuana'\": 88951, 'chorion': 88952, 'plateaus': 88953, 'unparrallel': 88954, 'jutland': 88955, \"'seachd\": 88956, \"pinacle'\": 88957, 'weavers': 88958, \"young'\": 88959, \"elder'\": 88960, 'uill': 88961, \"'seachd'\": 88962, 'mòran': 88963, 'taing': 88964, 'beiges': 88965, \"vampire's's\": 88966, 'interactivity': 88967, 'catgirls': 88968, 'cannible': 88969, '50ish': 88970, \"'vaseekaramaana\": 88971, \"paiyan'\": 88972, 'yesteryears': 88973, 'theist': 88974, \"rehman's\": 88975, 'underimpressed': 88976, 'raveup': 88977, 'teeeell': 88978, 'youuuu': 88979, 'efff': 88980, 'ieeee': 88981, 'expen': 88982, 'novelization': 88983, 'synanomess': 88984, 'marocco': 88985, \"salomaa's\": 88986, 'puyn': 88987, \"'unfolds'\": 88988, \"venoms'\": 88989, \"'deadly\": 88990, \"assassins'\": 88991, 'confine': 88992, 'cmmandments': 88993, \"feist's\": 88994, \"tieney's\": 88995, 'ruffian': 88996, 'birnam': 88997, 'levelled': 88998, \"'mutiny\": 88999, \"jarecki's\": 89000, 'friedmans': 89001, 'houdini': 89002, 'meanies': 89003, 'nuttin': 89004, 'moonlanding': 89005, 'ipso': 89006, 'nonaquatic': 89007, \"reiser's\": 89008, 'tillier': 89009, '1801': 89010, '1844': 89011, 'oncle': 89012, 'manette': 89013, 'georgians': 89014, 'wachtang': 89015, 'levan': 89016, 'leonid': 89017, 'gaiday': 89018, 'paraszhanov': 89019, 'amrarcord': 89020, 'tragicomedies': 89021, 'seryozha': 89022, \"'seryozha\": 89023, 'shagayu': 89024, 'moskve': 89025, 'afonya': 89026, 'osenniy': 89027, 'marafon': 89028, 'jogando': 89029, 'assassino': 89030, 'telletubbes': 89031, 'dolf': 89032, 'courttv': 89033, \"temple'\": 89034, 'season3': 89035, 'season2': 89036, 'season1': 89037, 'shahadah': 89038, 'tunde': 89039, 'jegede': 89040, 'twill': 89041, 'cadaverous': 89042, 'kindler': 89043, 'glared': 89044, 'cinematographed': 89045, 'englishness': 89046, \"ego'\": 89047, 'categorizing': 89048, 'conley': 89049, 'eitel': 89050, 'kayla': 89051, 'tingly': 89052, 'marahuana': 89053, 'eschatalogy': 89054, 'spitted': 89055, 'nikkhil': 89056, 'sati': 89057, 'savitri': 89058, 'pati': 89059, 'parmeshwar': 89060, \"johar's\": 89061, 'priyanaka': 89062, 'mage': 89063, 'larp': 89064, 'squeeing': 89065, 'nis': 89066, 'bgs1614': 89067, 'scientist\\x97ilona': 89068, 'geneticist': 89069, 'up\\x97to\\x97date': 89070, 'medical\\x97genetic': 89071, 'tasuiev\\x97a': 89072, 'episode\\x97here': 89073, 'future\\x97more': 89074, 'well\\x97paced': 89075, 'world\\x97and': 89076, 'kasbah': 89077, 'affability': 89078, 'advisable': 89079, 'naghib': 89080, 'alike\\x97that': 89081, 'tale\\x97namely': 89082, '\\x96on': 89083, 'kids\\x97well': 89084, 'naughtier': 89085, \"comics'\": 89086, 'eragorn': 89087, 'radtha': 89088, \"flamengo's\": 89089, 'whitepages': 89090, 'elusiveness': 89091, \"'rebellious'\": 89092, \"'huge\": 89093, 'forklift': 89094, 'dominos': 89095, 'gleib': 89096, \"bertin's\": 89097, 'thses': 89098, \"keepin'\": 89099, 'alfrie': 89100, 'expansiveness': 89101, \"yoakam's\": 89102, 'pols': 89103, \"navigator'\": 89104, 'schenck': 89105, 'dardis': 89106, \"opera'\": 89107, \"grogan's\": 89108, 'grogan': 89109, 'postmark': 89110, 'jostle': 89111, 'intermesh': 89112, \"'viz'\": 89113, 'intellectualises': 89114, 'hepcats': 89115, \"'kale'\": 89116, \"'cartwheels'\": 89117, 'armetta': 89118, \"'horse\": 89119, \"feathers'\": 89120, 'bankrolling': 89121, \"'angel'\": 89122, 'pursestrings': 89123, \"'screen\": 89124, \"playhouse'\": 89125, \"circus'\": 89126, 'substantively': 89127, 'tobogganing': 89128, 'riiiight': 89129, 'imy': 89130, 'jayden': 89131, \"'gigi'\": 89132, \"'sound\": 89133, \"'concider\": 89134, '1\\x97the': 89135, 'bear\\x97and': 89136, 'unflinchingly\\x97what': 89137, 'acids': 89138, \"gaye's\": 89139, 'crahan': 89140, 'substitutions': 89141, \"daeseleire's\": 89142, 'shortsightedness': 89143, 'unfairness': 89144, '<PAD>': 0}\n89145\n"
     ]
    }
   ],
   "source": [
    "# Make vocabulary\n",
    "\n",
    "vocab = tokenizer.word_index\n",
    "vocab[\"<PAD>\"] = 0\n",
    "\n",
    "datas = {}\n",
    "datas['vocab'] = vocab\n",
    "datas['vocab_size'] = len(vocab)\n",
    "\n",
    "print(datas['vocab'])\n",
    "print(datas['vocab_size'])"
   ]
  },
  {
   "cell_type": "code",
   "execution_count": 8,
   "metadata": {},
   "outputs": [
    {
     "output_type": "stream",
     "name": "stdout",
     "text": [
      "(25000, 180)\n<class 'numpy.ndarray'>\n[[  872  3474    20 ... 19495   353  1501]\n [    6   267   234 ...     0     0     0]\n [12983 40811  3626 ...   778  1265  5484]\n ...\n [  138  3316    97 ...     0     0     0]\n [   17  1014   707 ...     0     0     0]\n [   14   122     1 ...     0     0     0]]\n(25000,)\n<class 'numpy.ndarray'>\n[1 1 0 ... 0 0 1]\n"
     ]
    }
   ],
   "source": [
    "# Padding for train data \n",
    "\n",
    "MAX_SEQUENCE_LENGTH = 180\n",
    "\n",
    "train_inputs = pad_sequences(text_sequences, maxlen = MAX_SEQUENCE_LENGTH, padding='post')\n",
    "train_labels = np.array(df_train['sentiment'])\n",
    "\n",
    "print(train_inputs.shape)\n",
    "print(type(train_inputs))\n",
    "print(train_inputs)\n",
    "\n",
    "print(train_labels.shape)\n",
    "print(type(train_labels))\n",
    "print(train_labels)"
   ]
  },
  {
   "cell_type": "code",
   "execution_count": 9,
   "metadata": {},
   "outputs": [
    {
     "output_type": "stream",
     "name": "stdout",
     "text": [
      "(25000, 180)\n<class 'numpy.ndarray'>\n[[1856    2  806 ...    0    0    0]\n [  17    1 1504 ...    0    0    0]\n [  72   72    1 ...    0    0    0]\n ...\n [  14  601    1 ...    0    0    0]\n [ 889  536  631 ...    0    0    0]\n [  17   20   91 ...    0    0    0]]\n(25000,)\n<class 'numpy.ndarray'>\n['\"12311_10\"' '\"8348_2\"' '\"5828_4\"' ... '\"2531_1\"' '\"7772_8\"' '\"11465_10\"']\n"
     ]
    }
   ],
   "source": [
    "# Padding for test data \n",
    "\n",
    "tokenizer.fit_on_texts(df_test['review'])\n",
    "\n",
    "text_sequences = tokenizer.texts_to_sequences(df_test['review'])\n",
    "test_inputs = pad_sequences(text_sequences, maxlen = MAX_SEQUENCE_LENGTH, padding='post')\n",
    "test_id = np.array(df_test['id'])\n",
    "\n",
    "print(test_inputs.shape)\n",
    "print(type(test_inputs))\n",
    "print(test_inputs)\n",
    "\n",
    "print(test_id.shape)\n",
    "print(type(test_id))\n",
    "print(test_id)"
   ]
  },
  {
   "source": [
    "## RNN Model"
   ],
   "cell_type": "markdown",
   "metadata": {}
  },
  {
   "cell_type": "code",
   "execution_count": 11,
   "metadata": {},
   "outputs": [],
   "source": [
    "# Seed \n",
    "\n",
    "import tensorflow as tf\n",
    "\n",
    "SEED_NUM = 1234\n",
    "tf.random.set_seed(SEED_NUM)"
   ]
  },
  {
   "source": [
    "### Define hyperparameter"
   ],
   "cell_type": "markdown",
   "metadata": {}
  },
  {
   "cell_type": "code",
   "execution_count": 12,
   "metadata": {},
   "outputs": [],
   "source": [
    "model_name = 'RNN_classifier_en'\n",
    "BATCH_SIZE = 128\n",
    "NUM_EPOCHS = 5\n",
    "VALID_SPLIT = 0.1\n",
    "MAX_LEN = train_inputs.shape[1]\n",
    "\n",
    "kargs = {'model_name': model_name,\n",
    "        'vocab_size': datas['vocab_size'],\n",
    "        'embedding_dimension': 100,\n",
    "        'dropout_rate': 0.2,\n",
    "        'lstm_dimension': 150,\n",
    "        'dense_dimension': 150,\n",
    "        'output_dimension': 1}"
   ]
  },
  {
   "source": [
    "### Model implementation"
   ],
   "cell_type": "markdown",
   "metadata": {}
  }
 ]
}